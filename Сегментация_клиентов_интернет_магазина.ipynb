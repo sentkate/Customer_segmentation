{
  "nbformat": 4,
  "nbformat_minor": 0,
  "metadata": {
    "colab": {
      "name": "Сегментация клиентов интернет-магазина",
      "provenance": []
    },
    "kernelspec": {
      "name": "python3",
      "display_name": "Python 3"
    },
    "language_info": {
      "name": "python"
    }
  },
  "cells": [
    {
      "cell_type": "markdown",
      "metadata": {
        "id": "LqCLkfaAOqVg"
      },
      "source": [
        "# Импорт необходимых библиотек"
      ]
    },
    {
      "cell_type": "code",
      "metadata": {
        "id": "E-A8fcKsPMcA"
      },
      "source": [
        "import pandas as pd\n",
        "import numpy as np\n",
        "import datetime as dt\n",
        "import matplotlib.pyplot as plt\n",
        "import seaborn as sns\n",
        "from scipy import stats as st\n",
        "from sklearn.decomposition import PCA\n",
        "from sklearn.preprocessing import StandardScaler\n",
        "from sklearn.cluster import KMeans\n",
        "from scipy.cluster.hierarchy import linkage, dendrogram\n",
        "from sklearn.cluster import AgglomerativeClustering\n",
        "from sklearn.metrics import silhouette_score\n",
        "import scipy.cluster.hierarchy as sch\n",
        "from sklearn.model_selection import train_test_split\n",
        "from sklearn.metrics import f1_score\n",
        "from sklearn.linear_model import LogisticRegression\n",
        "from sklearn.metrics import confusion_matrix\n",
        "import sklearn.metrics as metrics\n",
        "from sklearn.preprocessing import MinMaxScaler\n",
        "from imblearn.over_sampling import SMOTE"
      ],
      "execution_count": null,
      "outputs": []
    },
    {
      "cell_type": "markdown",
      "metadata": {
        "id": "Ji2scO7dPjzj"
      },
      "source": [
        "# Загрузка и подготовка данных"
      ]
    },
    {
      "cell_type": "markdown",
      "metadata": {
        "id": "qV-2Jfpgt5Xi"
      },
      "source": [
        "Данные https://drive.google.com/file/d/1UTQ4oqnKEsbuPZKL2eyhF2bfDTDtRLdQ/view?usp=sharing\n"
      ]
    },
    {
      "cell_type": "code",
      "metadata": {
        "id": "b588JtTIG6ux"
      },
      "source": [
        "# импортируем данные \n",
        "\n",
        "df = pd.read_csv(\"marketing_campaign.csv\", sep='\\t') "
      ],
      "execution_count": null,
      "outputs": []
    },
    {
      "cell_type": "code",
      "metadata": {
        "colab": {
          "base_uri": "https://localhost:8080/",
          "height": 226
        },
        "id": "WylnmNQ9MtnM",
        "outputId": "6e829c25-4a7c-458c-e48b-02a7415923c5"
      },
      "source": [
        "df.head()"
      ],
      "execution_count": null,
      "outputs": [
        {
          "output_type": "execute_result",
          "data": {
            "text/html": [
              "<div>\n",
              "<style scoped>\n",
              "    .dataframe tbody tr th:only-of-type {\n",
              "        vertical-align: middle;\n",
              "    }\n",
              "\n",
              "    .dataframe tbody tr th {\n",
              "        vertical-align: top;\n",
              "    }\n",
              "\n",
              "    .dataframe thead th {\n",
              "        text-align: right;\n",
              "    }\n",
              "</style>\n",
              "<table border=\"1\" class=\"dataframe\">\n",
              "  <thead>\n",
              "    <tr style=\"text-align: right;\">\n",
              "      <th></th>\n",
              "      <th>ID</th>\n",
              "      <th>Year_Birth</th>\n",
              "      <th>Education</th>\n",
              "      <th>Marital_Status</th>\n",
              "      <th>Income</th>\n",
              "      <th>Kidhome</th>\n",
              "      <th>Teenhome</th>\n",
              "      <th>Dt_Customer</th>\n",
              "      <th>Recency</th>\n",
              "      <th>MntWines</th>\n",
              "      <th>MntFruits</th>\n",
              "      <th>MntMeatProducts</th>\n",
              "      <th>MntFishProducts</th>\n",
              "      <th>MntSweetProducts</th>\n",
              "      <th>MntGoldProds</th>\n",
              "      <th>NumDealsPurchases</th>\n",
              "      <th>NumWebPurchases</th>\n",
              "      <th>NumCatalogPurchases</th>\n",
              "      <th>NumStorePurchases</th>\n",
              "      <th>NumWebVisitsMonth</th>\n",
              "      <th>AcceptedCmp3</th>\n",
              "      <th>AcceptedCmp4</th>\n",
              "      <th>AcceptedCmp5</th>\n",
              "      <th>AcceptedCmp1</th>\n",
              "      <th>AcceptedCmp2</th>\n",
              "      <th>Complain</th>\n",
              "      <th>Z_CostContact</th>\n",
              "      <th>Z_Revenue</th>\n",
              "      <th>Response</th>\n",
              "    </tr>\n",
              "  </thead>\n",
              "  <tbody>\n",
              "    <tr>\n",
              "      <th>0</th>\n",
              "      <td>5524</td>\n",
              "      <td>1957</td>\n",
              "      <td>Graduation</td>\n",
              "      <td>Single</td>\n",
              "      <td>58138.0</td>\n",
              "      <td>0</td>\n",
              "      <td>0</td>\n",
              "      <td>04-09-2012</td>\n",
              "      <td>58</td>\n",
              "      <td>635</td>\n",
              "      <td>88</td>\n",
              "      <td>546</td>\n",
              "      <td>172</td>\n",
              "      <td>88</td>\n",
              "      <td>88</td>\n",
              "      <td>3</td>\n",
              "      <td>8</td>\n",
              "      <td>10</td>\n",
              "      <td>4</td>\n",
              "      <td>7</td>\n",
              "      <td>0</td>\n",
              "      <td>0</td>\n",
              "      <td>0</td>\n",
              "      <td>0</td>\n",
              "      <td>0</td>\n",
              "      <td>0</td>\n",
              "      <td>3</td>\n",
              "      <td>11</td>\n",
              "      <td>1</td>\n",
              "    </tr>\n",
              "    <tr>\n",
              "      <th>1</th>\n",
              "      <td>2174</td>\n",
              "      <td>1954</td>\n",
              "      <td>Graduation</td>\n",
              "      <td>Single</td>\n",
              "      <td>46344.0</td>\n",
              "      <td>1</td>\n",
              "      <td>1</td>\n",
              "      <td>08-03-2014</td>\n",
              "      <td>38</td>\n",
              "      <td>11</td>\n",
              "      <td>1</td>\n",
              "      <td>6</td>\n",
              "      <td>2</td>\n",
              "      <td>1</td>\n",
              "      <td>6</td>\n",
              "      <td>2</td>\n",
              "      <td>1</td>\n",
              "      <td>1</td>\n",
              "      <td>2</td>\n",
              "      <td>5</td>\n",
              "      <td>0</td>\n",
              "      <td>0</td>\n",
              "      <td>0</td>\n",
              "      <td>0</td>\n",
              "      <td>0</td>\n",
              "      <td>0</td>\n",
              "      <td>3</td>\n",
              "      <td>11</td>\n",
              "      <td>0</td>\n",
              "    </tr>\n",
              "    <tr>\n",
              "      <th>2</th>\n",
              "      <td>4141</td>\n",
              "      <td>1965</td>\n",
              "      <td>Graduation</td>\n",
              "      <td>Together</td>\n",
              "      <td>71613.0</td>\n",
              "      <td>0</td>\n",
              "      <td>0</td>\n",
              "      <td>21-08-2013</td>\n",
              "      <td>26</td>\n",
              "      <td>426</td>\n",
              "      <td>49</td>\n",
              "      <td>127</td>\n",
              "      <td>111</td>\n",
              "      <td>21</td>\n",
              "      <td>42</td>\n",
              "      <td>1</td>\n",
              "      <td>8</td>\n",
              "      <td>2</td>\n",
              "      <td>10</td>\n",
              "      <td>4</td>\n",
              "      <td>0</td>\n",
              "      <td>0</td>\n",
              "      <td>0</td>\n",
              "      <td>0</td>\n",
              "      <td>0</td>\n",
              "      <td>0</td>\n",
              "      <td>3</td>\n",
              "      <td>11</td>\n",
              "      <td>0</td>\n",
              "    </tr>\n",
              "    <tr>\n",
              "      <th>3</th>\n",
              "      <td>6182</td>\n",
              "      <td>1984</td>\n",
              "      <td>Graduation</td>\n",
              "      <td>Together</td>\n",
              "      <td>26646.0</td>\n",
              "      <td>1</td>\n",
              "      <td>0</td>\n",
              "      <td>10-02-2014</td>\n",
              "      <td>26</td>\n",
              "      <td>11</td>\n",
              "      <td>4</td>\n",
              "      <td>20</td>\n",
              "      <td>10</td>\n",
              "      <td>3</td>\n",
              "      <td>5</td>\n",
              "      <td>2</td>\n",
              "      <td>2</td>\n",
              "      <td>0</td>\n",
              "      <td>4</td>\n",
              "      <td>6</td>\n",
              "      <td>0</td>\n",
              "      <td>0</td>\n",
              "      <td>0</td>\n",
              "      <td>0</td>\n",
              "      <td>0</td>\n",
              "      <td>0</td>\n",
              "      <td>3</td>\n",
              "      <td>11</td>\n",
              "      <td>0</td>\n",
              "    </tr>\n",
              "    <tr>\n",
              "      <th>4</th>\n",
              "      <td>5324</td>\n",
              "      <td>1981</td>\n",
              "      <td>PhD</td>\n",
              "      <td>Married</td>\n",
              "      <td>58293.0</td>\n",
              "      <td>1</td>\n",
              "      <td>0</td>\n",
              "      <td>19-01-2014</td>\n",
              "      <td>94</td>\n",
              "      <td>173</td>\n",
              "      <td>43</td>\n",
              "      <td>118</td>\n",
              "      <td>46</td>\n",
              "      <td>27</td>\n",
              "      <td>15</td>\n",
              "      <td>5</td>\n",
              "      <td>5</td>\n",
              "      <td>3</td>\n",
              "      <td>6</td>\n",
              "      <td>5</td>\n",
              "      <td>0</td>\n",
              "      <td>0</td>\n",
              "      <td>0</td>\n",
              "      <td>0</td>\n",
              "      <td>0</td>\n",
              "      <td>0</td>\n",
              "      <td>3</td>\n",
              "      <td>11</td>\n",
              "      <td>0</td>\n",
              "    </tr>\n",
              "  </tbody>\n",
              "</table>\n",
              "</div>"
            ],
            "text/plain": [
              "     ID  Year_Birth   Education  ... Z_CostContact  Z_Revenue  Response\n",
              "0  5524        1957  Graduation  ...             3         11         1\n",
              "1  2174        1954  Graduation  ...             3         11         0\n",
              "2  4141        1965  Graduation  ...             3         11         0\n",
              "3  6182        1984  Graduation  ...             3         11         0\n",
              "4  5324        1981         PhD  ...             3         11         0\n",
              "\n",
              "[5 rows x 29 columns]"
            ]
          },
          "metadata": {},
          "execution_count": 3
        }
      ]
    },
    {
      "cell_type": "code",
      "metadata": {
        "colab": {
          "base_uri": "https://localhost:8080/"
        },
        "id": "oBLiZdO1Mw3E",
        "outputId": "afd49850-23ad-4555-dbf8-d9f3ac42009a"
      },
      "source": [
        "# смотрим данные на предмет полноты. Видим, что в атрибуте \"Доходы\" отсутсвует часть данных. \n",
        "\n",
        "df.info()"
      ],
      "execution_count": null,
      "outputs": [
        {
          "output_type": "stream",
          "name": "stdout",
          "text": [
            "<class 'pandas.core.frame.DataFrame'>\n",
            "RangeIndex: 2240 entries, 0 to 2239\n",
            "Data columns (total 29 columns):\n",
            " #   Column               Non-Null Count  Dtype  \n",
            "---  ------               --------------  -----  \n",
            " 0   ID                   2240 non-null   int64  \n",
            " 1   Year_Birth           2240 non-null   int64  \n",
            " 2   Education            2240 non-null   object \n",
            " 3   Marital_Status       2240 non-null   object \n",
            " 4   Income               2216 non-null   float64\n",
            " 5   Kidhome              2240 non-null   int64  \n",
            " 6   Teenhome             2240 non-null   int64  \n",
            " 7   Dt_Customer          2240 non-null   object \n",
            " 8   Recency              2240 non-null   int64  \n",
            " 9   MntWines             2240 non-null   int64  \n",
            " 10  MntFruits            2240 non-null   int64  \n",
            " 11  MntMeatProducts      2240 non-null   int64  \n",
            " 12  MntFishProducts      2240 non-null   int64  \n",
            " 13  MntSweetProducts     2240 non-null   int64  \n",
            " 14  MntGoldProds         2240 non-null   int64  \n",
            " 15  NumDealsPurchases    2240 non-null   int64  \n",
            " 16  NumWebPurchases      2240 non-null   int64  \n",
            " 17  NumCatalogPurchases  2240 non-null   int64  \n",
            " 18  NumStorePurchases    2240 non-null   int64  \n",
            " 19  NumWebVisitsMonth    2240 non-null   int64  \n",
            " 20  AcceptedCmp3         2240 non-null   int64  \n",
            " 21  AcceptedCmp4         2240 non-null   int64  \n",
            " 22  AcceptedCmp5         2240 non-null   int64  \n",
            " 23  AcceptedCmp1         2240 non-null   int64  \n",
            " 24  AcceptedCmp2         2240 non-null   int64  \n",
            " 25  Complain             2240 non-null   int64  \n",
            " 26  Z_CostContact        2240 non-null   int64  \n",
            " 27  Z_Revenue            2240 non-null   int64  \n",
            " 28  Response             2240 non-null   int64  \n",
            "dtypes: float64(1), int64(25), object(3)\n",
            "memory usage: 507.6+ KB\n"
          ]
        }
      ]
    },
    {
      "cell_type": "code",
      "metadata": {
        "colab": {
          "base_uri": "https://localhost:8080/",
          "height": 822
        },
        "id": "vUTj8I3NWiPx",
        "outputId": "9bc300f0-349f-41c0-d302-4a5c45600c6e"
      },
      "source": [
        "df[df.Income.isna()]"
      ],
      "execution_count": null,
      "outputs": [
        {
          "output_type": "execute_result",
          "data": {
            "text/html": [
              "<div>\n",
              "<style scoped>\n",
              "    .dataframe tbody tr th:only-of-type {\n",
              "        vertical-align: middle;\n",
              "    }\n",
              "\n",
              "    .dataframe tbody tr th {\n",
              "        vertical-align: top;\n",
              "    }\n",
              "\n",
              "    .dataframe thead th {\n",
              "        text-align: right;\n",
              "    }\n",
              "</style>\n",
              "<table border=\"1\" class=\"dataframe\">\n",
              "  <thead>\n",
              "    <tr style=\"text-align: right;\">\n",
              "      <th></th>\n",
              "      <th>ID</th>\n",
              "      <th>Year_Birth</th>\n",
              "      <th>Education</th>\n",
              "      <th>Marital_Status</th>\n",
              "      <th>Income</th>\n",
              "      <th>Kidhome</th>\n",
              "      <th>Teenhome</th>\n",
              "      <th>Dt_Customer</th>\n",
              "      <th>Recency</th>\n",
              "      <th>MntWines</th>\n",
              "      <th>MntFruits</th>\n",
              "      <th>MntMeatProducts</th>\n",
              "      <th>MntFishProducts</th>\n",
              "      <th>MntSweetProducts</th>\n",
              "      <th>MntGoldProds</th>\n",
              "      <th>NumDealsPurchases</th>\n",
              "      <th>NumWebPurchases</th>\n",
              "      <th>NumCatalogPurchases</th>\n",
              "      <th>NumStorePurchases</th>\n",
              "      <th>NumWebVisitsMonth</th>\n",
              "      <th>AcceptedCmp3</th>\n",
              "      <th>AcceptedCmp4</th>\n",
              "      <th>AcceptedCmp5</th>\n",
              "      <th>AcceptedCmp1</th>\n",
              "      <th>AcceptedCmp2</th>\n",
              "      <th>Complain</th>\n",
              "      <th>Z_CostContact</th>\n",
              "      <th>Z_Revenue</th>\n",
              "      <th>Response</th>\n",
              "    </tr>\n",
              "  </thead>\n",
              "  <tbody>\n",
              "    <tr>\n",
              "      <th>10</th>\n",
              "      <td>1994</td>\n",
              "      <td>1983</td>\n",
              "      <td>Graduation</td>\n",
              "      <td>Married</td>\n",
              "      <td>NaN</td>\n",
              "      <td>1</td>\n",
              "      <td>0</td>\n",
              "      <td>15-11-2013</td>\n",
              "      <td>11</td>\n",
              "      <td>5</td>\n",
              "      <td>5</td>\n",
              "      <td>6</td>\n",
              "      <td>0</td>\n",
              "      <td>2</td>\n",
              "      <td>1</td>\n",
              "      <td>1</td>\n",
              "      <td>1</td>\n",
              "      <td>0</td>\n",
              "      <td>2</td>\n",
              "      <td>7</td>\n",
              "      <td>0</td>\n",
              "      <td>0</td>\n",
              "      <td>0</td>\n",
              "      <td>0</td>\n",
              "      <td>0</td>\n",
              "      <td>0</td>\n",
              "      <td>3</td>\n",
              "      <td>11</td>\n",
              "      <td>0</td>\n",
              "    </tr>\n",
              "    <tr>\n",
              "      <th>27</th>\n",
              "      <td>5255</td>\n",
              "      <td>1986</td>\n",
              "      <td>Graduation</td>\n",
              "      <td>Single</td>\n",
              "      <td>NaN</td>\n",
              "      <td>1</td>\n",
              "      <td>0</td>\n",
              "      <td>20-02-2013</td>\n",
              "      <td>19</td>\n",
              "      <td>5</td>\n",
              "      <td>1</td>\n",
              "      <td>3</td>\n",
              "      <td>3</td>\n",
              "      <td>263</td>\n",
              "      <td>362</td>\n",
              "      <td>0</td>\n",
              "      <td>27</td>\n",
              "      <td>0</td>\n",
              "      <td>0</td>\n",
              "      <td>1</td>\n",
              "      <td>0</td>\n",
              "      <td>0</td>\n",
              "      <td>0</td>\n",
              "      <td>0</td>\n",
              "      <td>0</td>\n",
              "      <td>0</td>\n",
              "      <td>3</td>\n",
              "      <td>11</td>\n",
              "      <td>0</td>\n",
              "    </tr>\n",
              "    <tr>\n",
              "      <th>43</th>\n",
              "      <td>7281</td>\n",
              "      <td>1959</td>\n",
              "      <td>PhD</td>\n",
              "      <td>Single</td>\n",
              "      <td>NaN</td>\n",
              "      <td>0</td>\n",
              "      <td>0</td>\n",
              "      <td>05-11-2013</td>\n",
              "      <td>80</td>\n",
              "      <td>81</td>\n",
              "      <td>11</td>\n",
              "      <td>50</td>\n",
              "      <td>3</td>\n",
              "      <td>2</td>\n",
              "      <td>39</td>\n",
              "      <td>1</td>\n",
              "      <td>1</td>\n",
              "      <td>3</td>\n",
              "      <td>4</td>\n",
              "      <td>2</td>\n",
              "      <td>0</td>\n",
              "      <td>0</td>\n",
              "      <td>0</td>\n",
              "      <td>0</td>\n",
              "      <td>0</td>\n",
              "      <td>0</td>\n",
              "      <td>3</td>\n",
              "      <td>11</td>\n",
              "      <td>0</td>\n",
              "    </tr>\n",
              "    <tr>\n",
              "      <th>48</th>\n",
              "      <td>7244</td>\n",
              "      <td>1951</td>\n",
              "      <td>Graduation</td>\n",
              "      <td>Single</td>\n",
              "      <td>NaN</td>\n",
              "      <td>2</td>\n",
              "      <td>1</td>\n",
              "      <td>01-01-2014</td>\n",
              "      <td>96</td>\n",
              "      <td>48</td>\n",
              "      <td>5</td>\n",
              "      <td>48</td>\n",
              "      <td>6</td>\n",
              "      <td>10</td>\n",
              "      <td>7</td>\n",
              "      <td>3</td>\n",
              "      <td>2</td>\n",
              "      <td>1</td>\n",
              "      <td>4</td>\n",
              "      <td>6</td>\n",
              "      <td>0</td>\n",
              "      <td>0</td>\n",
              "      <td>0</td>\n",
              "      <td>0</td>\n",
              "      <td>0</td>\n",
              "      <td>0</td>\n",
              "      <td>3</td>\n",
              "      <td>11</td>\n",
              "      <td>0</td>\n",
              "    </tr>\n",
              "    <tr>\n",
              "      <th>58</th>\n",
              "      <td>8557</td>\n",
              "      <td>1982</td>\n",
              "      <td>Graduation</td>\n",
              "      <td>Single</td>\n",
              "      <td>NaN</td>\n",
              "      <td>1</td>\n",
              "      <td>0</td>\n",
              "      <td>17-06-2013</td>\n",
              "      <td>57</td>\n",
              "      <td>11</td>\n",
              "      <td>3</td>\n",
              "      <td>22</td>\n",
              "      <td>2</td>\n",
              "      <td>2</td>\n",
              "      <td>6</td>\n",
              "      <td>2</td>\n",
              "      <td>2</td>\n",
              "      <td>0</td>\n",
              "      <td>3</td>\n",
              "      <td>6</td>\n",
              "      <td>0</td>\n",
              "      <td>0</td>\n",
              "      <td>0</td>\n",
              "      <td>0</td>\n",
              "      <td>0</td>\n",
              "      <td>0</td>\n",
              "      <td>3</td>\n",
              "      <td>11</td>\n",
              "      <td>0</td>\n",
              "    </tr>\n",
              "    <tr>\n",
              "      <th>71</th>\n",
              "      <td>10629</td>\n",
              "      <td>1973</td>\n",
              "      <td>2n Cycle</td>\n",
              "      <td>Married</td>\n",
              "      <td>NaN</td>\n",
              "      <td>1</td>\n",
              "      <td>0</td>\n",
              "      <td>14-09-2012</td>\n",
              "      <td>25</td>\n",
              "      <td>25</td>\n",
              "      <td>3</td>\n",
              "      <td>43</td>\n",
              "      <td>17</td>\n",
              "      <td>4</td>\n",
              "      <td>17</td>\n",
              "      <td>3</td>\n",
              "      <td>3</td>\n",
              "      <td>0</td>\n",
              "      <td>3</td>\n",
              "      <td>8</td>\n",
              "      <td>0</td>\n",
              "      <td>0</td>\n",
              "      <td>0</td>\n",
              "      <td>0</td>\n",
              "      <td>0</td>\n",
              "      <td>0</td>\n",
              "      <td>3</td>\n",
              "      <td>11</td>\n",
              "      <td>0</td>\n",
              "    </tr>\n",
              "    <tr>\n",
              "      <th>90</th>\n",
              "      <td>8996</td>\n",
              "      <td>1957</td>\n",
              "      <td>PhD</td>\n",
              "      <td>Married</td>\n",
              "      <td>NaN</td>\n",
              "      <td>2</td>\n",
              "      <td>1</td>\n",
              "      <td>19-11-2012</td>\n",
              "      <td>4</td>\n",
              "      <td>230</td>\n",
              "      <td>42</td>\n",
              "      <td>192</td>\n",
              "      <td>49</td>\n",
              "      <td>37</td>\n",
              "      <td>53</td>\n",
              "      <td>12</td>\n",
              "      <td>7</td>\n",
              "      <td>2</td>\n",
              "      <td>8</td>\n",
              "      <td>9</td>\n",
              "      <td>0</td>\n",
              "      <td>0</td>\n",
              "      <td>0</td>\n",
              "      <td>0</td>\n",
              "      <td>0</td>\n",
              "      <td>0</td>\n",
              "      <td>3</td>\n",
              "      <td>11</td>\n",
              "      <td>0</td>\n",
              "    </tr>\n",
              "    <tr>\n",
              "      <th>91</th>\n",
              "      <td>9235</td>\n",
              "      <td>1957</td>\n",
              "      <td>Graduation</td>\n",
              "      <td>Single</td>\n",
              "      <td>NaN</td>\n",
              "      <td>1</td>\n",
              "      <td>1</td>\n",
              "      <td>27-05-2014</td>\n",
              "      <td>45</td>\n",
              "      <td>7</td>\n",
              "      <td>0</td>\n",
              "      <td>8</td>\n",
              "      <td>2</td>\n",
              "      <td>0</td>\n",
              "      <td>1</td>\n",
              "      <td>1</td>\n",
              "      <td>1</td>\n",
              "      <td>0</td>\n",
              "      <td>2</td>\n",
              "      <td>7</td>\n",
              "      <td>0</td>\n",
              "      <td>0</td>\n",
              "      <td>0</td>\n",
              "      <td>0</td>\n",
              "      <td>0</td>\n",
              "      <td>0</td>\n",
              "      <td>3</td>\n",
              "      <td>11</td>\n",
              "      <td>0</td>\n",
              "    </tr>\n",
              "    <tr>\n",
              "      <th>92</th>\n",
              "      <td>5798</td>\n",
              "      <td>1973</td>\n",
              "      <td>Master</td>\n",
              "      <td>Together</td>\n",
              "      <td>NaN</td>\n",
              "      <td>0</td>\n",
              "      <td>0</td>\n",
              "      <td>23-11-2013</td>\n",
              "      <td>87</td>\n",
              "      <td>445</td>\n",
              "      <td>37</td>\n",
              "      <td>359</td>\n",
              "      <td>98</td>\n",
              "      <td>28</td>\n",
              "      <td>18</td>\n",
              "      <td>1</td>\n",
              "      <td>2</td>\n",
              "      <td>4</td>\n",
              "      <td>8</td>\n",
              "      <td>1</td>\n",
              "      <td>0</td>\n",
              "      <td>0</td>\n",
              "      <td>0</td>\n",
              "      <td>0</td>\n",
              "      <td>0</td>\n",
              "      <td>0</td>\n",
              "      <td>3</td>\n",
              "      <td>11</td>\n",
              "      <td>0</td>\n",
              "    </tr>\n",
              "    <tr>\n",
              "      <th>128</th>\n",
              "      <td>8268</td>\n",
              "      <td>1961</td>\n",
              "      <td>PhD</td>\n",
              "      <td>Married</td>\n",
              "      <td>NaN</td>\n",
              "      <td>0</td>\n",
              "      <td>1</td>\n",
              "      <td>11-07-2013</td>\n",
              "      <td>23</td>\n",
              "      <td>352</td>\n",
              "      <td>0</td>\n",
              "      <td>27</td>\n",
              "      <td>10</td>\n",
              "      <td>0</td>\n",
              "      <td>15</td>\n",
              "      <td>3</td>\n",
              "      <td>6</td>\n",
              "      <td>1</td>\n",
              "      <td>7</td>\n",
              "      <td>6</td>\n",
              "      <td>0</td>\n",
              "      <td>0</td>\n",
              "      <td>0</td>\n",
              "      <td>0</td>\n",
              "      <td>0</td>\n",
              "      <td>0</td>\n",
              "      <td>3</td>\n",
              "      <td>11</td>\n",
              "      <td>0</td>\n",
              "    </tr>\n",
              "    <tr>\n",
              "      <th>133</th>\n",
              "      <td>1295</td>\n",
              "      <td>1963</td>\n",
              "      <td>Graduation</td>\n",
              "      <td>Married</td>\n",
              "      <td>NaN</td>\n",
              "      <td>0</td>\n",
              "      <td>1</td>\n",
              "      <td>11-08-2013</td>\n",
              "      <td>96</td>\n",
              "      <td>231</td>\n",
              "      <td>65</td>\n",
              "      <td>196</td>\n",
              "      <td>38</td>\n",
              "      <td>71</td>\n",
              "      <td>124</td>\n",
              "      <td>1</td>\n",
              "      <td>6</td>\n",
              "      <td>5</td>\n",
              "      <td>7</td>\n",
              "      <td>4</td>\n",
              "      <td>0</td>\n",
              "      <td>0</td>\n",
              "      <td>0</td>\n",
              "      <td>0</td>\n",
              "      <td>0</td>\n",
              "      <td>0</td>\n",
              "      <td>3</td>\n",
              "      <td>11</td>\n",
              "      <td>0</td>\n",
              "    </tr>\n",
              "    <tr>\n",
              "      <th>312</th>\n",
              "      <td>2437</td>\n",
              "      <td>1989</td>\n",
              "      <td>Graduation</td>\n",
              "      <td>Married</td>\n",
              "      <td>NaN</td>\n",
              "      <td>0</td>\n",
              "      <td>0</td>\n",
              "      <td>03-06-2013</td>\n",
              "      <td>69</td>\n",
              "      <td>861</td>\n",
              "      <td>138</td>\n",
              "      <td>461</td>\n",
              "      <td>60</td>\n",
              "      <td>30</td>\n",
              "      <td>61</td>\n",
              "      <td>1</td>\n",
              "      <td>6</td>\n",
              "      <td>5</td>\n",
              "      <td>12</td>\n",
              "      <td>3</td>\n",
              "      <td>0</td>\n",
              "      <td>1</td>\n",
              "      <td>0</td>\n",
              "      <td>1</td>\n",
              "      <td>0</td>\n",
              "      <td>0</td>\n",
              "      <td>3</td>\n",
              "      <td>11</td>\n",
              "      <td>0</td>\n",
              "    </tr>\n",
              "    <tr>\n",
              "      <th>319</th>\n",
              "      <td>2863</td>\n",
              "      <td>1970</td>\n",
              "      <td>Graduation</td>\n",
              "      <td>Single</td>\n",
              "      <td>NaN</td>\n",
              "      <td>1</td>\n",
              "      <td>2</td>\n",
              "      <td>23-08-2013</td>\n",
              "      <td>67</td>\n",
              "      <td>738</td>\n",
              "      <td>20</td>\n",
              "      <td>172</td>\n",
              "      <td>52</td>\n",
              "      <td>50</td>\n",
              "      <td>20</td>\n",
              "      <td>6</td>\n",
              "      <td>2</td>\n",
              "      <td>3</td>\n",
              "      <td>10</td>\n",
              "      <td>7</td>\n",
              "      <td>0</td>\n",
              "      <td>1</td>\n",
              "      <td>0</td>\n",
              "      <td>1</td>\n",
              "      <td>0</td>\n",
              "      <td>0</td>\n",
              "      <td>3</td>\n",
              "      <td>11</td>\n",
              "      <td>0</td>\n",
              "    </tr>\n",
              "    <tr>\n",
              "      <th>1379</th>\n",
              "      <td>10475</td>\n",
              "      <td>1970</td>\n",
              "      <td>Master</td>\n",
              "      <td>Together</td>\n",
              "      <td>NaN</td>\n",
              "      <td>0</td>\n",
              "      <td>1</td>\n",
              "      <td>01-04-2013</td>\n",
              "      <td>39</td>\n",
              "      <td>187</td>\n",
              "      <td>5</td>\n",
              "      <td>65</td>\n",
              "      <td>26</td>\n",
              "      <td>20</td>\n",
              "      <td>14</td>\n",
              "      <td>2</td>\n",
              "      <td>4</td>\n",
              "      <td>2</td>\n",
              "      <td>6</td>\n",
              "      <td>5</td>\n",
              "      <td>0</td>\n",
              "      <td>0</td>\n",
              "      <td>0</td>\n",
              "      <td>0</td>\n",
              "      <td>0</td>\n",
              "      <td>0</td>\n",
              "      <td>3</td>\n",
              "      <td>11</td>\n",
              "      <td>0</td>\n",
              "    </tr>\n",
              "    <tr>\n",
              "      <th>1382</th>\n",
              "      <td>2902</td>\n",
              "      <td>1958</td>\n",
              "      <td>Graduation</td>\n",
              "      <td>Together</td>\n",
              "      <td>NaN</td>\n",
              "      <td>1</td>\n",
              "      <td>1</td>\n",
              "      <td>03-09-2012</td>\n",
              "      <td>87</td>\n",
              "      <td>19</td>\n",
              "      <td>4</td>\n",
              "      <td>12</td>\n",
              "      <td>2</td>\n",
              "      <td>2</td>\n",
              "      <td>6</td>\n",
              "      <td>1</td>\n",
              "      <td>1</td>\n",
              "      <td>0</td>\n",
              "      <td>3</td>\n",
              "      <td>5</td>\n",
              "      <td>0</td>\n",
              "      <td>0</td>\n",
              "      <td>0</td>\n",
              "      <td>0</td>\n",
              "      <td>0</td>\n",
              "      <td>0</td>\n",
              "      <td>3</td>\n",
              "      <td>11</td>\n",
              "      <td>0</td>\n",
              "    </tr>\n",
              "    <tr>\n",
              "      <th>1383</th>\n",
              "      <td>4345</td>\n",
              "      <td>1964</td>\n",
              "      <td>2n Cycle</td>\n",
              "      <td>Single</td>\n",
              "      <td>NaN</td>\n",
              "      <td>1</td>\n",
              "      <td>1</td>\n",
              "      <td>12-01-2014</td>\n",
              "      <td>49</td>\n",
              "      <td>5</td>\n",
              "      <td>1</td>\n",
              "      <td>9</td>\n",
              "      <td>2</td>\n",
              "      <td>0</td>\n",
              "      <td>4</td>\n",
              "      <td>1</td>\n",
              "      <td>1</td>\n",
              "      <td>0</td>\n",
              "      <td>2</td>\n",
              "      <td>7</td>\n",
              "      <td>0</td>\n",
              "      <td>0</td>\n",
              "      <td>0</td>\n",
              "      <td>0</td>\n",
              "      <td>0</td>\n",
              "      <td>0</td>\n",
              "      <td>3</td>\n",
              "      <td>11</td>\n",
              "      <td>0</td>\n",
              "    </tr>\n",
              "    <tr>\n",
              "      <th>1386</th>\n",
              "      <td>3769</td>\n",
              "      <td>1972</td>\n",
              "      <td>PhD</td>\n",
              "      <td>Together</td>\n",
              "      <td>NaN</td>\n",
              "      <td>1</td>\n",
              "      <td>0</td>\n",
              "      <td>02-03-2014</td>\n",
              "      <td>17</td>\n",
              "      <td>25</td>\n",
              "      <td>1</td>\n",
              "      <td>13</td>\n",
              "      <td>0</td>\n",
              "      <td>0</td>\n",
              "      <td>3</td>\n",
              "      <td>1</td>\n",
              "      <td>1</td>\n",
              "      <td>0</td>\n",
              "      <td>3</td>\n",
              "      <td>7</td>\n",
              "      <td>0</td>\n",
              "      <td>0</td>\n",
              "      <td>0</td>\n",
              "      <td>0</td>\n",
              "      <td>0</td>\n",
              "      <td>0</td>\n",
              "      <td>3</td>\n",
              "      <td>11</td>\n",
              "      <td>0</td>\n",
              "    </tr>\n",
              "    <tr>\n",
              "      <th>2059</th>\n",
              "      <td>7187</td>\n",
              "      <td>1969</td>\n",
              "      <td>Master</td>\n",
              "      <td>Together</td>\n",
              "      <td>NaN</td>\n",
              "      <td>1</td>\n",
              "      <td>1</td>\n",
              "      <td>18-05-2013</td>\n",
              "      <td>52</td>\n",
              "      <td>375</td>\n",
              "      <td>42</td>\n",
              "      <td>48</td>\n",
              "      <td>94</td>\n",
              "      <td>66</td>\n",
              "      <td>96</td>\n",
              "      <td>7</td>\n",
              "      <td>4</td>\n",
              "      <td>10</td>\n",
              "      <td>4</td>\n",
              "      <td>3</td>\n",
              "      <td>0</td>\n",
              "      <td>0</td>\n",
              "      <td>0</td>\n",
              "      <td>0</td>\n",
              "      <td>0</td>\n",
              "      <td>0</td>\n",
              "      <td>3</td>\n",
              "      <td>11</td>\n",
              "      <td>0</td>\n",
              "    </tr>\n",
              "    <tr>\n",
              "      <th>2061</th>\n",
              "      <td>1612</td>\n",
              "      <td>1981</td>\n",
              "      <td>PhD</td>\n",
              "      <td>Single</td>\n",
              "      <td>NaN</td>\n",
              "      <td>1</td>\n",
              "      <td>0</td>\n",
              "      <td>31-05-2013</td>\n",
              "      <td>82</td>\n",
              "      <td>23</td>\n",
              "      <td>0</td>\n",
              "      <td>15</td>\n",
              "      <td>0</td>\n",
              "      <td>2</td>\n",
              "      <td>7</td>\n",
              "      <td>2</td>\n",
              "      <td>3</td>\n",
              "      <td>0</td>\n",
              "      <td>3</td>\n",
              "      <td>6</td>\n",
              "      <td>0</td>\n",
              "      <td>0</td>\n",
              "      <td>0</td>\n",
              "      <td>0</td>\n",
              "      <td>0</td>\n",
              "      <td>0</td>\n",
              "      <td>3</td>\n",
              "      <td>11</td>\n",
              "      <td>0</td>\n",
              "    </tr>\n",
              "    <tr>\n",
              "      <th>2078</th>\n",
              "      <td>5079</td>\n",
              "      <td>1971</td>\n",
              "      <td>Graduation</td>\n",
              "      <td>Married</td>\n",
              "      <td>NaN</td>\n",
              "      <td>1</td>\n",
              "      <td>1</td>\n",
              "      <td>03-03-2013</td>\n",
              "      <td>82</td>\n",
              "      <td>71</td>\n",
              "      <td>1</td>\n",
              "      <td>16</td>\n",
              "      <td>0</td>\n",
              "      <td>0</td>\n",
              "      <td>9</td>\n",
              "      <td>4</td>\n",
              "      <td>2</td>\n",
              "      <td>1</td>\n",
              "      <td>3</td>\n",
              "      <td>8</td>\n",
              "      <td>0</td>\n",
              "      <td>0</td>\n",
              "      <td>0</td>\n",
              "      <td>0</td>\n",
              "      <td>0</td>\n",
              "      <td>0</td>\n",
              "      <td>3</td>\n",
              "      <td>11</td>\n",
              "      <td>0</td>\n",
              "    </tr>\n",
              "    <tr>\n",
              "      <th>2079</th>\n",
              "      <td>10339</td>\n",
              "      <td>1954</td>\n",
              "      <td>Master</td>\n",
              "      <td>Together</td>\n",
              "      <td>NaN</td>\n",
              "      <td>0</td>\n",
              "      <td>1</td>\n",
              "      <td>23-06-2013</td>\n",
              "      <td>83</td>\n",
              "      <td>161</td>\n",
              "      <td>0</td>\n",
              "      <td>22</td>\n",
              "      <td>0</td>\n",
              "      <td>0</td>\n",
              "      <td>24</td>\n",
              "      <td>2</td>\n",
              "      <td>4</td>\n",
              "      <td>1</td>\n",
              "      <td>4</td>\n",
              "      <td>6</td>\n",
              "      <td>0</td>\n",
              "      <td>0</td>\n",
              "      <td>0</td>\n",
              "      <td>0</td>\n",
              "      <td>0</td>\n",
              "      <td>0</td>\n",
              "      <td>3</td>\n",
              "      <td>11</td>\n",
              "      <td>0</td>\n",
              "    </tr>\n",
              "    <tr>\n",
              "      <th>2081</th>\n",
              "      <td>3117</td>\n",
              "      <td>1955</td>\n",
              "      <td>Graduation</td>\n",
              "      <td>Single</td>\n",
              "      <td>NaN</td>\n",
              "      <td>0</td>\n",
              "      <td>1</td>\n",
              "      <td>18-10-2013</td>\n",
              "      <td>95</td>\n",
              "      <td>264</td>\n",
              "      <td>0</td>\n",
              "      <td>21</td>\n",
              "      <td>12</td>\n",
              "      <td>6</td>\n",
              "      <td>147</td>\n",
              "      <td>3</td>\n",
              "      <td>6</td>\n",
              "      <td>1</td>\n",
              "      <td>5</td>\n",
              "      <td>7</td>\n",
              "      <td>0</td>\n",
              "      <td>0</td>\n",
              "      <td>0</td>\n",
              "      <td>0</td>\n",
              "      <td>0</td>\n",
              "      <td>0</td>\n",
              "      <td>3</td>\n",
              "      <td>11</td>\n",
              "      <td>0</td>\n",
              "    </tr>\n",
              "    <tr>\n",
              "      <th>2084</th>\n",
              "      <td>5250</td>\n",
              "      <td>1943</td>\n",
              "      <td>Master</td>\n",
              "      <td>Widow</td>\n",
              "      <td>NaN</td>\n",
              "      <td>0</td>\n",
              "      <td>0</td>\n",
              "      <td>30-10-2013</td>\n",
              "      <td>75</td>\n",
              "      <td>532</td>\n",
              "      <td>126</td>\n",
              "      <td>490</td>\n",
              "      <td>164</td>\n",
              "      <td>126</td>\n",
              "      <td>126</td>\n",
              "      <td>1</td>\n",
              "      <td>5</td>\n",
              "      <td>5</td>\n",
              "      <td>11</td>\n",
              "      <td>1</td>\n",
              "      <td>0</td>\n",
              "      <td>0</td>\n",
              "      <td>1</td>\n",
              "      <td>0</td>\n",
              "      <td>0</td>\n",
              "      <td>0</td>\n",
              "      <td>3</td>\n",
              "      <td>11</td>\n",
              "      <td>1</td>\n",
              "    </tr>\n",
              "    <tr>\n",
              "      <th>2228</th>\n",
              "      <td>8720</td>\n",
              "      <td>1978</td>\n",
              "      <td>2n Cycle</td>\n",
              "      <td>Together</td>\n",
              "      <td>NaN</td>\n",
              "      <td>0</td>\n",
              "      <td>0</td>\n",
              "      <td>12-08-2012</td>\n",
              "      <td>53</td>\n",
              "      <td>32</td>\n",
              "      <td>2</td>\n",
              "      <td>1607</td>\n",
              "      <td>12</td>\n",
              "      <td>4</td>\n",
              "      <td>22</td>\n",
              "      <td>0</td>\n",
              "      <td>0</td>\n",
              "      <td>0</td>\n",
              "      <td>1</td>\n",
              "      <td>0</td>\n",
              "      <td>0</td>\n",
              "      <td>1</td>\n",
              "      <td>0</td>\n",
              "      <td>0</td>\n",
              "      <td>0</td>\n",
              "      <td>0</td>\n",
              "      <td>3</td>\n",
              "      <td>11</td>\n",
              "      <td>0</td>\n",
              "    </tr>\n",
              "  </tbody>\n",
              "</table>\n",
              "</div>"
            ],
            "text/plain": [
              "         ID  Year_Birth   Education  ... Z_CostContact  Z_Revenue  Response\n",
              "10     1994        1983  Graduation  ...             3         11         0\n",
              "27     5255        1986  Graduation  ...             3         11         0\n",
              "43     7281        1959         PhD  ...             3         11         0\n",
              "48     7244        1951  Graduation  ...             3         11         0\n",
              "58     8557        1982  Graduation  ...             3         11         0\n",
              "71    10629        1973    2n Cycle  ...             3         11         0\n",
              "90     8996        1957         PhD  ...             3         11         0\n",
              "91     9235        1957  Graduation  ...             3         11         0\n",
              "92     5798        1973      Master  ...             3         11         0\n",
              "128    8268        1961         PhD  ...             3         11         0\n",
              "133    1295        1963  Graduation  ...             3         11         0\n",
              "312    2437        1989  Graduation  ...             3         11         0\n",
              "319    2863        1970  Graduation  ...             3         11         0\n",
              "1379  10475        1970      Master  ...             3         11         0\n",
              "1382   2902        1958  Graduation  ...             3         11         0\n",
              "1383   4345        1964    2n Cycle  ...             3         11         0\n",
              "1386   3769        1972         PhD  ...             3         11         0\n",
              "2059   7187        1969      Master  ...             3         11         0\n",
              "2061   1612        1981         PhD  ...             3         11         0\n",
              "2078   5079        1971  Graduation  ...             3         11         0\n",
              "2079  10339        1954      Master  ...             3         11         0\n",
              "2081   3117        1955  Graduation  ...             3         11         0\n",
              "2084   5250        1943      Master  ...             3         11         1\n",
              "2228   8720        1978    2n Cycle  ...             3         11         0\n",
              "\n",
              "[24 rows x 29 columns]"
            ]
          },
          "metadata": {},
          "execution_count": 5
        }
      ]
    },
    {
      "cell_type": "code",
      "metadata": {
        "colab": {
          "base_uri": "https://localhost:8080/"
        },
        "id": "6hYF5Bj7RMed",
        "outputId": "ebbd4dfb-760b-4a7c-c03f-9ed3df664d1e"
      },
      "source": [
        "# восполняем пропусков в данных\n",
        "# деляем метрику, кторая позволит отследить, насколько наши данные изменились после восполнения пропусков\n",
        "\n",
        "print(f\"Среднее значение: {df.Income.mean()}\" )\n",
        "print(f\"Медиана: {df.Income.median()}\" )"
      ],
      "execution_count": null,
      "outputs": [
        {
          "output_type": "stream",
          "name": "stdout",
          "text": [
            "Среднее значение: 52247.25135379061\n",
            "Медиана: 51381.5\n"
          ]
        }
      ]
    },
    {
      "cell_type": "code",
      "metadata": {
        "id": "ZVu8YgPMUNuN"
      },
      "source": [
        "df['Income'].fillna(df.groupby('Education')['Income'].transform('median'), inplace=True)"
      ],
      "execution_count": null,
      "outputs": []
    },
    {
      "cell_type": "code",
      "metadata": {
        "colab": {
          "base_uri": "https://localhost:8080/"
        },
        "id": "ycOELISjVznf",
        "outputId": "a675e646-176e-4bbd-973a-e2608821a4ee"
      },
      "source": [
        "# смотрим, насколько изменились метрики после восполнения пропусков\n",
        "\n",
        "print(f\"Среднее значение: {df.Income.mean()}\" )\n",
        "print(f\"Медиана: {df.Income.median()}\" )"
      ],
      "execution_count": null,
      "outputs": [
        {
          "output_type": "stream",
          "name": "stdout",
          "text": [
            "Среднее значение: 52242.59486607143\n",
            "Медиана: 51498.5\n"
          ]
        }
      ]
    },
    {
      "cell_type": "code",
      "metadata": {
        "colab": {
          "base_uri": "https://localhost:8080/"
        },
        "id": "e79r1z8eBBly",
        "outputId": "0bad90a4-82ed-4673-dada-45ec2245810e"
      },
      "source": [
        "df.info()"
      ],
      "execution_count": null,
      "outputs": [
        {
          "output_type": "stream",
          "name": "stdout",
          "text": [
            "<class 'pandas.core.frame.DataFrame'>\n",
            "RangeIndex: 2240 entries, 0 to 2239\n",
            "Data columns (total 29 columns):\n",
            " #   Column               Non-Null Count  Dtype  \n",
            "---  ------               --------------  -----  \n",
            " 0   ID                   2240 non-null   int64  \n",
            " 1   Year_Birth           2240 non-null   int64  \n",
            " 2   Education            2240 non-null   object \n",
            " 3   Marital_Status       2240 non-null   object \n",
            " 4   Income               2240 non-null   float64\n",
            " 5   Kidhome              2240 non-null   int64  \n",
            " 6   Teenhome             2240 non-null   int64  \n",
            " 7   Dt_Customer          2240 non-null   object \n",
            " 8   Recency              2240 non-null   int64  \n",
            " 9   MntWines             2240 non-null   int64  \n",
            " 10  MntFruits            2240 non-null   int64  \n",
            " 11  MntMeatProducts      2240 non-null   int64  \n",
            " 12  MntFishProducts      2240 non-null   int64  \n",
            " 13  MntSweetProducts     2240 non-null   int64  \n",
            " 14  MntGoldProds         2240 non-null   int64  \n",
            " 15  NumDealsPurchases    2240 non-null   int64  \n",
            " 16  NumWebPurchases      2240 non-null   int64  \n",
            " 17  NumCatalogPurchases  2240 non-null   int64  \n",
            " 18  NumStorePurchases    2240 non-null   int64  \n",
            " 19  NumWebVisitsMonth    2240 non-null   int64  \n",
            " 20  AcceptedCmp3         2240 non-null   int64  \n",
            " 21  AcceptedCmp4         2240 non-null   int64  \n",
            " 22  AcceptedCmp5         2240 non-null   int64  \n",
            " 23  AcceptedCmp1         2240 non-null   int64  \n",
            " 24  AcceptedCmp2         2240 non-null   int64  \n",
            " 25  Complain             2240 non-null   int64  \n",
            " 26  Z_CostContact        2240 non-null   int64  \n",
            " 27  Z_Revenue            2240 non-null   int64  \n",
            " 28  Response             2240 non-null   int64  \n",
            "dtypes: float64(1), int64(25), object(3)\n",
            "memory usage: 507.6+ KB\n"
          ]
        }
      ]
    },
    {
      "cell_type": "code",
      "metadata": {
        "colab": {
          "base_uri": "https://localhost:8080/",
          "height": 320
        },
        "id": "I4p_0IWtc_C2",
        "outputId": "b0572314-edb2-4df0-90d0-e777e310755f"
      },
      "source": [
        "# более детально знакомимся с данными, смотрим их на аномалии и выбросы\n",
        "\n",
        "df.describe()"
      ],
      "execution_count": null,
      "outputs": [
        {
          "output_type": "execute_result",
          "data": {
            "text/html": [
              "<div>\n",
              "<style scoped>\n",
              "    .dataframe tbody tr th:only-of-type {\n",
              "        vertical-align: middle;\n",
              "    }\n",
              "\n",
              "    .dataframe tbody tr th {\n",
              "        vertical-align: top;\n",
              "    }\n",
              "\n",
              "    .dataframe thead th {\n",
              "        text-align: right;\n",
              "    }\n",
              "</style>\n",
              "<table border=\"1\" class=\"dataframe\">\n",
              "  <thead>\n",
              "    <tr style=\"text-align: right;\">\n",
              "      <th></th>\n",
              "      <th>ID</th>\n",
              "      <th>Year_Birth</th>\n",
              "      <th>Income</th>\n",
              "      <th>Kidhome</th>\n",
              "      <th>Teenhome</th>\n",
              "      <th>Recency</th>\n",
              "      <th>MntWines</th>\n",
              "      <th>MntFruits</th>\n",
              "      <th>MntMeatProducts</th>\n",
              "      <th>MntFishProducts</th>\n",
              "      <th>MntSweetProducts</th>\n",
              "      <th>MntGoldProds</th>\n",
              "      <th>NumDealsPurchases</th>\n",
              "      <th>NumWebPurchases</th>\n",
              "      <th>NumCatalogPurchases</th>\n",
              "      <th>NumStorePurchases</th>\n",
              "      <th>NumWebVisitsMonth</th>\n",
              "      <th>AcceptedCmp3</th>\n",
              "      <th>AcceptedCmp4</th>\n",
              "      <th>AcceptedCmp5</th>\n",
              "      <th>AcceptedCmp1</th>\n",
              "      <th>AcceptedCmp2</th>\n",
              "      <th>Complain</th>\n",
              "      <th>Z_CostContact</th>\n",
              "      <th>Z_Revenue</th>\n",
              "      <th>Response</th>\n",
              "    </tr>\n",
              "  </thead>\n",
              "  <tbody>\n",
              "    <tr>\n",
              "      <th>count</th>\n",
              "      <td>2240.000000</td>\n",
              "      <td>2240.000000</td>\n",
              "      <td>2240.000000</td>\n",
              "      <td>2240.000000</td>\n",
              "      <td>2240.000000</td>\n",
              "      <td>2240.000000</td>\n",
              "      <td>2240.000000</td>\n",
              "      <td>2240.000000</td>\n",
              "      <td>2240.000000</td>\n",
              "      <td>2240.000000</td>\n",
              "      <td>2240.000000</td>\n",
              "      <td>2240.000000</td>\n",
              "      <td>2240.000000</td>\n",
              "      <td>2240.000000</td>\n",
              "      <td>2240.000000</td>\n",
              "      <td>2240.000000</td>\n",
              "      <td>2240.000000</td>\n",
              "      <td>2240.000000</td>\n",
              "      <td>2240.000000</td>\n",
              "      <td>2240.000000</td>\n",
              "      <td>2240.000000</td>\n",
              "      <td>2240.000000</td>\n",
              "      <td>2240.000000</td>\n",
              "      <td>2240.0</td>\n",
              "      <td>2240.0</td>\n",
              "      <td>2240.000000</td>\n",
              "    </tr>\n",
              "    <tr>\n",
              "      <th>mean</th>\n",
              "      <td>5592.159821</td>\n",
              "      <td>1968.805804</td>\n",
              "      <td>52242.594866</td>\n",
              "      <td>0.444196</td>\n",
              "      <td>0.506250</td>\n",
              "      <td>49.109375</td>\n",
              "      <td>303.935714</td>\n",
              "      <td>26.302232</td>\n",
              "      <td>166.950000</td>\n",
              "      <td>37.525446</td>\n",
              "      <td>27.062946</td>\n",
              "      <td>44.021875</td>\n",
              "      <td>2.325000</td>\n",
              "      <td>4.084821</td>\n",
              "      <td>2.662054</td>\n",
              "      <td>5.790179</td>\n",
              "      <td>5.316518</td>\n",
              "      <td>0.072768</td>\n",
              "      <td>0.074554</td>\n",
              "      <td>0.072768</td>\n",
              "      <td>0.064286</td>\n",
              "      <td>0.013393</td>\n",
              "      <td>0.009375</td>\n",
              "      <td>3.0</td>\n",
              "      <td>11.0</td>\n",
              "      <td>0.149107</td>\n",
              "    </tr>\n",
              "    <tr>\n",
              "      <th>std</th>\n",
              "      <td>3246.662198</td>\n",
              "      <td>11.984069</td>\n",
              "      <td>25039.061738</td>\n",
              "      <td>0.538398</td>\n",
              "      <td>0.544538</td>\n",
              "      <td>28.962453</td>\n",
              "      <td>336.597393</td>\n",
              "      <td>39.773434</td>\n",
              "      <td>225.715373</td>\n",
              "      <td>54.628979</td>\n",
              "      <td>41.280498</td>\n",
              "      <td>52.167439</td>\n",
              "      <td>1.932238</td>\n",
              "      <td>2.778714</td>\n",
              "      <td>2.923101</td>\n",
              "      <td>3.250958</td>\n",
              "      <td>2.426645</td>\n",
              "      <td>0.259813</td>\n",
              "      <td>0.262728</td>\n",
              "      <td>0.259813</td>\n",
              "      <td>0.245316</td>\n",
              "      <td>0.114976</td>\n",
              "      <td>0.096391</td>\n",
              "      <td>0.0</td>\n",
              "      <td>0.0</td>\n",
              "      <td>0.356274</td>\n",
              "    </tr>\n",
              "    <tr>\n",
              "      <th>min</th>\n",
              "      <td>0.000000</td>\n",
              "      <td>1893.000000</td>\n",
              "      <td>1730.000000</td>\n",
              "      <td>0.000000</td>\n",
              "      <td>0.000000</td>\n",
              "      <td>0.000000</td>\n",
              "      <td>0.000000</td>\n",
              "      <td>0.000000</td>\n",
              "      <td>0.000000</td>\n",
              "      <td>0.000000</td>\n",
              "      <td>0.000000</td>\n",
              "      <td>0.000000</td>\n",
              "      <td>0.000000</td>\n",
              "      <td>0.000000</td>\n",
              "      <td>0.000000</td>\n",
              "      <td>0.000000</td>\n",
              "      <td>0.000000</td>\n",
              "      <td>0.000000</td>\n",
              "      <td>0.000000</td>\n",
              "      <td>0.000000</td>\n",
              "      <td>0.000000</td>\n",
              "      <td>0.000000</td>\n",
              "      <td>0.000000</td>\n",
              "      <td>3.0</td>\n",
              "      <td>11.0</td>\n",
              "      <td>0.000000</td>\n",
              "    </tr>\n",
              "    <tr>\n",
              "      <th>25%</th>\n",
              "      <td>2828.250000</td>\n",
              "      <td>1959.000000</td>\n",
              "      <td>35538.750000</td>\n",
              "      <td>0.000000</td>\n",
              "      <td>0.000000</td>\n",
              "      <td>24.000000</td>\n",
              "      <td>23.750000</td>\n",
              "      <td>1.000000</td>\n",
              "      <td>16.000000</td>\n",
              "      <td>3.000000</td>\n",
              "      <td>1.000000</td>\n",
              "      <td>9.000000</td>\n",
              "      <td>1.000000</td>\n",
              "      <td>2.000000</td>\n",
              "      <td>0.000000</td>\n",
              "      <td>3.000000</td>\n",
              "      <td>3.000000</td>\n",
              "      <td>0.000000</td>\n",
              "      <td>0.000000</td>\n",
              "      <td>0.000000</td>\n",
              "      <td>0.000000</td>\n",
              "      <td>0.000000</td>\n",
              "      <td>0.000000</td>\n",
              "      <td>3.0</td>\n",
              "      <td>11.0</td>\n",
              "      <td>0.000000</td>\n",
              "    </tr>\n",
              "    <tr>\n",
              "      <th>50%</th>\n",
              "      <td>5458.500000</td>\n",
              "      <td>1970.000000</td>\n",
              "      <td>51498.500000</td>\n",
              "      <td>0.000000</td>\n",
              "      <td>0.000000</td>\n",
              "      <td>49.000000</td>\n",
              "      <td>173.500000</td>\n",
              "      <td>8.000000</td>\n",
              "      <td>67.000000</td>\n",
              "      <td>12.000000</td>\n",
              "      <td>8.000000</td>\n",
              "      <td>24.000000</td>\n",
              "      <td>2.000000</td>\n",
              "      <td>4.000000</td>\n",
              "      <td>2.000000</td>\n",
              "      <td>5.000000</td>\n",
              "      <td>6.000000</td>\n",
              "      <td>0.000000</td>\n",
              "      <td>0.000000</td>\n",
              "      <td>0.000000</td>\n",
              "      <td>0.000000</td>\n",
              "      <td>0.000000</td>\n",
              "      <td>0.000000</td>\n",
              "      <td>3.0</td>\n",
              "      <td>11.0</td>\n",
              "      <td>0.000000</td>\n",
              "    </tr>\n",
              "    <tr>\n",
              "      <th>75%</th>\n",
              "      <td>8427.750000</td>\n",
              "      <td>1977.000000</td>\n",
              "      <td>68289.750000</td>\n",
              "      <td>1.000000</td>\n",
              "      <td>1.000000</td>\n",
              "      <td>74.000000</td>\n",
              "      <td>504.250000</td>\n",
              "      <td>33.000000</td>\n",
              "      <td>232.000000</td>\n",
              "      <td>50.000000</td>\n",
              "      <td>33.000000</td>\n",
              "      <td>56.000000</td>\n",
              "      <td>3.000000</td>\n",
              "      <td>6.000000</td>\n",
              "      <td>4.000000</td>\n",
              "      <td>8.000000</td>\n",
              "      <td>7.000000</td>\n",
              "      <td>0.000000</td>\n",
              "      <td>0.000000</td>\n",
              "      <td>0.000000</td>\n",
              "      <td>0.000000</td>\n",
              "      <td>0.000000</td>\n",
              "      <td>0.000000</td>\n",
              "      <td>3.0</td>\n",
              "      <td>11.0</td>\n",
              "      <td>0.000000</td>\n",
              "    </tr>\n",
              "    <tr>\n",
              "      <th>max</th>\n",
              "      <td>11191.000000</td>\n",
              "      <td>1996.000000</td>\n",
              "      <td>666666.000000</td>\n",
              "      <td>2.000000</td>\n",
              "      <td>2.000000</td>\n",
              "      <td>99.000000</td>\n",
              "      <td>1493.000000</td>\n",
              "      <td>199.000000</td>\n",
              "      <td>1725.000000</td>\n",
              "      <td>259.000000</td>\n",
              "      <td>263.000000</td>\n",
              "      <td>362.000000</td>\n",
              "      <td>15.000000</td>\n",
              "      <td>27.000000</td>\n",
              "      <td>28.000000</td>\n",
              "      <td>13.000000</td>\n",
              "      <td>20.000000</td>\n",
              "      <td>1.000000</td>\n",
              "      <td>1.000000</td>\n",
              "      <td>1.000000</td>\n",
              "      <td>1.000000</td>\n",
              "      <td>1.000000</td>\n",
              "      <td>1.000000</td>\n",
              "      <td>3.0</td>\n",
              "      <td>11.0</td>\n",
              "      <td>1.000000</td>\n",
              "    </tr>\n",
              "  </tbody>\n",
              "</table>\n",
              "</div>"
            ],
            "text/plain": [
              "                 ID   Year_Birth  ...  Z_Revenue     Response\n",
              "count   2240.000000  2240.000000  ...     2240.0  2240.000000\n",
              "mean    5592.159821  1968.805804  ...       11.0     0.149107\n",
              "std     3246.662198    11.984069  ...        0.0     0.356274\n",
              "min        0.000000  1893.000000  ...       11.0     0.000000\n",
              "25%     2828.250000  1959.000000  ...       11.0     0.000000\n",
              "50%     5458.500000  1970.000000  ...       11.0     0.000000\n",
              "75%     8427.750000  1977.000000  ...       11.0     0.000000\n",
              "max    11191.000000  1996.000000  ...       11.0     1.000000\n",
              "\n",
              "[8 rows x 26 columns]"
            ]
          },
          "metadata": {},
          "execution_count": 10
        }
      ]
    },
    {
      "cell_type": "code",
      "metadata": {
        "colab": {
          "base_uri": "https://localhost:8080/"
        },
        "id": "aFfakh65fVib",
        "outputId": "5b427eea-54a1-4760-dd56-7cc1f2028f6d"
      },
      "source": [
        "# посмотрим на столбцы, сдержащие категории (образование и семейный статус)\n",
        "\n",
        "df.Education.unique()"
      ],
      "execution_count": null,
      "outputs": [
        {
          "output_type": "execute_result",
          "data": {
            "text/plain": [
              "array(['Graduation', 'PhD', 'Master', 'Basic', '2n Cycle'], dtype=object)"
            ]
          },
          "metadata": {},
          "execution_count": 11
        }
      ]
    },
    {
      "cell_type": "code",
      "metadata": {
        "colab": {
          "base_uri": "https://localhost:8080/"
        },
        "id": "6Grw5s4Pjh3X",
        "outputId": "a801a3f7-8b47-44db-9340-4034135bbdc6"
      },
      "source": [
        "df.Marital_Status.unique()"
      ],
      "execution_count": null,
      "outputs": [
        {
          "output_type": "execute_result",
          "data": {
            "text/plain": [
              "array(['Single', 'Together', 'Married', 'Divorced', 'Widow', 'Alone',\n",
              "       'Absurd', 'YOLO'], dtype=object)"
            ]
          },
          "metadata": {},
          "execution_count": 12
        }
      ]
    },
    {
      "cell_type": "code",
      "metadata": {
        "colab": {
          "base_uri": "https://localhost:8080/",
          "height": 298
        },
        "id": "nMRQyyT_daEE",
        "outputId": "24ae77b2-7f00-4aa3-e249-e6ad83467941"
      },
      "source": [
        "# проверяю информацию о доходах на предмет выбросов \n",
        "\n",
        "df['Income'].plot(kind='box',\n",
        "                                  title='Распределение потраченных денег на разные категории продуктов', grid=True)\n"
      ],
      "execution_count": null,
      "outputs": [
        {
          "output_type": "execute_result",
          "data": {
            "text/plain": [
              "<matplotlib.axes._subplots.AxesSubplot at 0x7f84450f6510>"
            ]
          },
          "metadata": {},
          "execution_count": 13
        },
        {
          "output_type": "display_data",
          "data": {
            "image/png": "[encoded data removed]",
            "text/plain": [
              "<Figure size 432x288 with 1 Axes>"
            ]
          },
          "metadata": {
            "needs_background": "light"
          }
        }
      ]
    },
    {
      "cell_type": "markdown",
      "metadata": {
        "id": "OofBwpDGg6uf"
      },
      "source": [
        "При подготовке данных к дальнейшему анализу были восполнены пропуски. В целом данные можно охарактеризовать как полные и достаточно качественные, однако в информации о доходах явно наблюдаются выбросы. "
      ]
    },
    {
      "cell_type": "markdown",
      "metadata": {
        "id": "7FV3brqAhsPv"
      },
      "source": [
        "# EDA - "
      ]
    },
    {
      "cell_type": "markdown",
      "metadata": {
        "id": "K4xfggiDCn84"
      },
      "source": [
        "**Работа с возрастными показателями**"
      ]
    },
    {
      "cell_type": "code",
      "metadata": {
        "id": "4Z6Xf4Rph-Eu",
        "colab": {
          "base_uri": "https://localhost:8080/"
        },
        "outputId": "8aaa5962-156b-437c-812a-8713152e21a2"
      },
      "source": [
        "# преобразуем информацию с годом рождения клиента в информацию о возрасте клиента \n",
        "\n",
        "df['Age'] = 2021 - df['Year_Birth']\n",
        "df['Age'].head()"
      ],
      "execution_count": null,
      "outputs": [
        {
          "output_type": "execute_result",
          "data": {
            "text/plain": [
              "0    64\n",
              "1    67\n",
              "2    56\n",
              "3    37\n",
              "4    40\n",
              "Name: Age, dtype: int64"
            ]
          },
          "metadata": {},
          "execution_count": 14
        }
      ]
    },
    {
      "cell_type": "code",
      "metadata": {
        "colab": {
          "base_uri": "https://localhost:8080/"
        },
        "id": "GIiscraJs5yy",
        "outputId": "6eed44c5-1d77-45b9-85d0-41000f482971"
      },
      "source": [
        "sns.histplot(df['Age'], color='green')\n",
        "plt.title('Возраст клиентов')"
      ],
      "execution_count": null,
      "outputs": [
        {
          "output_type": "execute_result",
          "data": {
            "text/plain": [
              "Text(0.5, 1.0, 'Возраст клиентов')"
            ]
          },
          "metadata": {},
          "execution_count": 15
        },
        {
          "output_type": "display_data",
          "data": {
            "image/png": "[encoded data removed]",
            "text/plain": [
              "<Figure size 432x288 with 1 Axes>"
            ]
          },
          "metadata": {
            "needs_background": "light"
          }
        }
      ]
    },
    {
      "cell_type": "code",
      "metadata": {
        "colab": {
          "base_uri": "https://localhost:8080/"
        },
        "id": "gevnN4R4ktgc",
        "outputId": "d6937a5e-a88c-40b8-9cea-8d351b9e2e74"
      },
      "source": [
        "print(f\"Минимальный возраст клиента: {df.Age.min()}\")\n",
        "print(f\"Средний возраст клиента: {round(df.Age.mean())}\")\n",
        "print(f\"Максимальный возраст клиента: {df.Age.max()}\")"
      ],
      "execution_count": null,
      "outputs": [
        {
          "output_type": "stream",
          "name": "stdout",
          "text": [
            "Минимальный возраст клиента: 25\n",
            "Средний возраст клиента: 52\n",
            "Максимальный возраст клиента: 128\n"
          ]
        }
      ]
    },
    {
      "cell_type": "markdown",
      "metadata": {
        "id": "p_QdYxiqlzU8"
      },
      "source": [
        "Вызывает сомнение доствореность информации о том, что клиенту больше 100 лет."
      ]
    },
    {
      "cell_type": "code",
      "metadata": {
        "id": "6KsQNKVAv2Ht"
      },
      "source": [
        "# удалим выбросы\n",
        "\n",
        "df.drop(df[df.Age > 100]. index, inplace=True)"
      ],
      "execution_count": null,
      "outputs": []
    },
    {
      "cell_type": "code",
      "metadata": {
        "id": "G0ljifkptjY5"
      },
      "source": [
        "# создадим функцию, которая условно будет делить наших клиентов на три возрастных сегмента \n",
        "\n",
        "def segment_age(data):\n",
        "  if data <= 40: \n",
        "    return \"20-40 years\"\n",
        "  elif data <= 60:  \n",
        "    return \"41-60 years\"\n",
        "  else: \n",
        "    return \"over 60 year\""
      ],
      "execution_count": null,
      "outputs": []
    },
    {
      "cell_type": "code",
      "metadata": {
        "id": "E3LdF3hwwk_o"
      },
      "source": [
        "# делим нашу аудиторию на три сегмента по возрастному признаку\n",
        "\n",
        "df['segment_of_age'] = df['Age'].apply(segment_age) "
      ],
      "execution_count": null,
      "outputs": []
    },
    {
      "cell_type": "code",
      "metadata": {
        "colab": {
          "base_uri": "https://localhost:8080/"
        },
        "id": "m6HtHmne4wPn",
        "outputId": "2d46aaa9-50f1-4687-bad1-f5ad8bc06f5c"
      },
      "source": [
        "pie_segment_of_age = df['segment_of_age'].value_counts() \n",
        "pie_segment_of_age.plot(kind='pie', title='Возрастные сегменты')"
      ],
      "execution_count": null,
      "outputs": [
        {
          "output_type": "execute_result",
          "data": {
            "text/plain": [
              "<matplotlib.axes._subplots.AxesSubplot at 0x7f843d589a90>"
            ]
          },
          "metadata": {},
          "execution_count": 20
        },
        {
          "output_type": "display_data",
          "data": {
            "image/png": "[encoded data removed]",
            "text/plain": [
              "<Figure size 432x288 with 1 Axes>"
            ]
          },
          "metadata": {}
        }
      ]
    },
    {
      "cell_type": "markdown",
      "metadata": {
        "id": "4MtgH2SLnar-"
      },
      "source": [
        "Анализируя диаграмму, можно сказать, что большая часть наших клиентов находится в сегменте от 41 года до 60"
      ]
    },
    {
      "cell_type": "markdown",
      "metadata": {
        "id": "-mwsXYsSD2aC"
      },
      "source": [
        "**Уровень образования покупателей**"
      ]
    },
    {
      "cell_type": "code",
      "metadata": {
        "colab": {
          "base_uri": "https://localhost:8080/"
        },
        "id": "8LABPRfs7A2C",
        "outputId": "ac85d039-7f99-4724-d3f7-acbb0b65e7c7"
      },
      "source": [
        "# какое образование имеют наши клиенты \n",
        "\n",
        "education = df.groupby(['Education'])['ID'].count().reset_index() \n",
        "education"
      ],
      "execution_count": null,
      "outputs": [
        {
          "output_type": "execute_result",
          "data": {
            "text/html": [
              "<div>\n",
              "<style scoped>\n",
              "    .dataframe tbody tr th:only-of-type {\n",
              "        vertical-align: middle;\n",
              "    }\n",
              "\n",
              "    .dataframe tbody tr th {\n",
              "        vertical-align: top;\n",
              "    }\n",
              "\n",
              "    .dataframe thead th {\n",
              "        text-align: right;\n",
              "    }\n",
              "</style>\n",
              "<table border=\"1\" class=\"dataframe\">\n",
              "  <thead>\n",
              "    <tr style=\"text-align: right;\">\n",
              "      <th></th>\n",
              "      <th>Education</th>\n",
              "      <th>ID</th>\n",
              "    </tr>\n",
              "  </thead>\n",
              "  <tbody>\n",
              "    <tr>\n",
              "      <th>0</th>\n",
              "      <td>2n Cycle</td>\n",
              "      <td>201</td>\n",
              "    </tr>\n",
              "    <tr>\n",
              "      <th>1</th>\n",
              "      <td>Basic</td>\n",
              "      <td>54</td>\n",
              "    </tr>\n",
              "    <tr>\n",
              "      <th>2</th>\n",
              "      <td>Graduation</td>\n",
              "      <td>1127</td>\n",
              "    </tr>\n",
              "    <tr>\n",
              "      <th>3</th>\n",
              "      <td>Master</td>\n",
              "      <td>370</td>\n",
              "    </tr>\n",
              "    <tr>\n",
              "      <th>4</th>\n",
              "      <td>PhD</td>\n",
              "      <td>485</td>\n",
              "    </tr>\n",
              "  </tbody>\n",
              "</table>\n",
              "</div>"
            ],
            "text/plain": [
              "    Education    ID\n",
              "0    2n Cycle   201\n",
              "1       Basic    54\n",
              "2  Graduation  1127\n",
              "3      Master   370\n",
              "4         PhD   485"
            ]
          },
          "metadata": {},
          "execution_count": 21
        }
      ]
    },
    {
      "cell_type": "code",
      "metadata": {
        "colab": {
          "base_uri": "https://localhost:8080/"
        },
        "id": "vzJHLzFI8yTl",
        "outputId": "17ef63e2-63bb-4c6b-c77a-69343fea6978"
      },
      "source": [
        "plt.bar(education['Education'], education['ID'])\n",
        "plt.title(\"Информация об уровне образования клиентов\")"
      ],
      "execution_count": null,
      "outputs": [
        {
          "output_type": "execute_result",
          "data": {
            "text/plain": [
              "Text(0.5, 1.0, 'Информация об уровне образования клиентов')"
            ]
          },
          "metadata": {},
          "execution_count": 22
        },
        {
          "output_type": "display_data",
          "data": {
            "image/png": "[encoded data removed]",
            "text/plain": [
              "<Figure size 432x288 with 1 Axes>"
            ]
          },
          "metadata": {
            "needs_background": "light"
          }
        }
      ]
    },
    {
      "cell_type": "markdown",
      "metadata": {
        "id": "9RDbQ2k9rjg5"
      },
      "source": [
        "Большая часть наших клиентов имеет достаточно высокую степень образования (выпускники и кандидаты наук) "
      ]
    },
    {
      "cell_type": "code",
      "metadata": {
        "id": "BeWlO70_EKCH"
      },
      "source": [
        "# создадим функцию, которая преобразует информацию об уровне образования в числовые значения\n",
        "\n",
        "def level_education(edu): \n",
        "  if edu == '2n Cycle': \n",
        "    return 1\n",
        "  elif edu == 'Basic': \n",
        "    return 2\n",
        "  elif edu == 'Graduation': \n",
        "    return 3 \n",
        "  elif edu == 'Master':\n",
        "    return 4 \n",
        "  elif edu == 'PhD':\n",
        "    return 5"
      ],
      "execution_count": null,
      "outputs": []
    },
    {
      "cell_type": "code",
      "metadata": {
        "id": "um28e4SdwwDL"
      },
      "source": [
        "df['level_edu'] = df['Education'].apply(level_education)"
      ],
      "execution_count": null,
      "outputs": []
    },
    {
      "cell_type": "code",
      "metadata": {
        "colab": {
          "base_uri": "https://localhost:8080/"
        },
        "id": "fwMxU8nTxYyc",
        "outputId": "66e16861-eb30-4c55-c9e1-27d9482bea87"
      },
      "source": [
        "df.level_edu.unique()"
      ],
      "execution_count": null,
      "outputs": [
        {
          "output_type": "execute_result",
          "data": {
            "text/plain": [
              "array([3, 5, 4, 2, 1])"
            ]
          },
          "metadata": {},
          "execution_count": 25
        }
      ]
    },
    {
      "cell_type": "markdown",
      "metadata": {
        "id": "-VyqDGE2HBCL"
      },
      "source": [
        "**Семейное положение**"
      ]
    },
    {
      "cell_type": "code",
      "metadata": {
        "colab": {
          "base_uri": "https://localhost:8080/"
        },
        "id": "Qy9pkKhK-AWU",
        "outputId": "a65e12d6-127f-46a9-c622-a1e9b8b8a932"
      },
      "source": [
        "# рассматриваем наших клиентов с точки зрения семейного положения\n",
        "\n",
        "df.Marital_Status.unique()"
      ],
      "execution_count": null,
      "outputs": [
        {
          "output_type": "execute_result",
          "data": {
            "text/plain": [
              "array(['Single', 'Together', 'Married', 'Divorced', 'Widow', 'Alone',\n",
              "       'Absurd', 'YOLO'], dtype=object)"
            ]
          },
          "metadata": {},
          "execution_count": 26
        }
      ]
    },
    {
      "cell_type": "code",
      "metadata": {
        "colab": {
          "base_uri": "https://localhost:8080/"
        },
        "id": "g2GugM9CbH7w",
        "outputId": "e83b2a40-a67a-4684-d7d5-427d34dc93f6"
      },
      "source": [
        "# визуализируем информацию о семейных статусах\n",
        "\n",
        "sns.displot(df['Marital_Status'], color='yellow')\n",
        "plt.xticks(rotation=45)\n",
        "plt.title('Семейное положение')\n",
        "plt.show()"
      ],
      "execution_count": null,
      "outputs": [
        {
          "output_type": "display_data",
          "data": {
            "image/png": "[encoded data removed]",
            "text/plain": [
              "<Figure size 360x360 with 1 Axes>"
            ]
          },
          "metadata": {
            "needs_background": "light"
          }
        }
      ]
    },
    {
      "cell_type": "code",
      "metadata": {
        "id": "J2G9PyVwCJaP"
      },
      "source": [
        "# создадим функцию, которая условно будет определять кол-во людей (пара или один), исходя из семейного положения\n",
        "\n",
        "def count_people(info): \n",
        "  if (info == 'Single' or \n",
        "      info == 'Divorced' or \n",
        "      info == 'Widow' or \n",
        "      info == 'Alone' or \n",
        "      info == 'Absurd' or\n",
        "      info == 'YOLO'):\n",
        "    return 1\n",
        "  elif (info == 'Together' or info =='Married' ):\n",
        "    return 2"
      ],
      "execution_count": null,
      "outputs": []
    },
    {
      "cell_type": "code",
      "metadata": {
        "id": "M0_vQzc9CSqR"
      },
      "source": [
        "# создадим столбец с вышеуказанной информацией \n",
        "\n",
        "df['Count_people'] = df['Marital_Status'].apply(count_people)"
      ],
      "execution_count": null,
      "outputs": []
    },
    {
      "cell_type": "code",
      "metadata": {
        "colab": {
          "base_uri": "https://localhost:8080/"
        },
        "id": "_Vs27g4utO9a",
        "outputId": "ac091a20-9e9e-4aea-d272-698f228a8d04"
      },
      "source": [
        "# посмотрим, кого больше (пар или одиночек) \n",
        "# людей, находящихся в отношениях, больше\n",
        "\n",
        "df['Count_people'].value_counts()\n"
      ],
      "execution_count": null,
      "outputs": [
        {
          "output_type": "execute_result",
          "data": {
            "text/plain": [
              "2    1443\n",
              "1     794\n",
              "Name: Count_people, dtype: int64"
            ]
          },
          "metadata": {},
          "execution_count": 30
        }
      ]
    },
    {
      "cell_type": "code",
      "metadata": {
        "colab": {
          "base_uri": "https://localhost:8080/"
        },
        "id": "NCjnDN5uS2rZ",
        "outputId": "887e5a59-3665-4ee9-99df-ff8a6aa70725"
      },
      "source": [
        "sns.displot(df['Count_people'].sort_values().astype(str), color='purple') \n",
        "plt.title('Количество одиноких и в отношениях клиентов')"
      ],
      "execution_count": null,
      "outputs": [
        {
          "output_type": "execute_result",
          "data": {
            "text/plain": [
              "Text(0.5, 1.0, 'Количество одиноких и в отношениях клиентов')"
            ]
          },
          "metadata": {},
          "execution_count": 31
        },
        {
          "output_type": "display_data",
          "data": {
            "image/png": "[encoded data removed]",
            "text/plain": [
              "<Figure size 360x360 with 1 Axes>"
            ]
          },
          "metadata": {
            "needs_background": "light"
          }
        }
      ]
    },
    {
      "cell_type": "code",
      "metadata": {
        "id": "cHHMZNQCt5ek"
      },
      "source": [
        "# добавим к столбцу \"кол-во людей\" данные о детях, чтобы получить общую численность семей\n",
        "\n",
        "df['Number_of_family'] = df['Count_people'] + df['Kidhome'] + df['Teenhome'] "
      ],
      "execution_count": null,
      "outputs": []
    },
    {
      "cell_type": "code",
      "metadata": {
        "colab": {
          "base_uri": "https://localhost:8080/"
        },
        "id": "kU4wc2akjpww",
        "outputId": "c91e2efd-7508-4478-c7dc-09860af0dd85"
      },
      "source": [
        "sns.displot(df['Number_of_family'].sort_values().astype(str)) \n",
        "plt.xlabel('Количество членов семьи')\n",
        "plt.title('Общее количество людей в семьях клиентов')"
      ],
      "execution_count": null,
      "outputs": [
        {
          "output_type": "execute_result",
          "data": {
            "text/plain": [
              "Text(0.5, 1.0, 'Общее количество людей в семьях клиентов')"
            ]
          },
          "metadata": {},
          "execution_count": 33
        },
        {
          "output_type": "display_data",
          "data": {
            "image/png": "[encoded data removed]",
            "text/plain": [
              "<Figure size 360x360 with 1 Axes>"
            ]
          },
          "metadata": {
            "needs_background": "light"
          }
        }
      ]
    },
    {
      "cell_type": "code",
      "metadata": {
        "id": "y09jPY323NBE"
      },
      "source": [
        "# посмотрим общее количество детей в семьях \n",
        "\n",
        "df['Total_kids'] = df['Kidhome'] + df['Teenhome']"
      ],
      "execution_count": null,
      "outputs": []
    },
    {
      "cell_type": "code",
      "metadata": {
        "colab": {
          "base_uri": "https://localhost:8080/"
        },
        "id": "kqFgYAW0869g",
        "outputId": "0762d01f-0221-4e77-cb8d-a41e5f4745f5"
      },
      "source": [
        "# визуализируем \n",
        "\n",
        "sns.displot(df['Total_kids'].sort_values().astype(str)) \n",
        "plt.title('Количество детей в семьях')"
      ],
      "execution_count": null,
      "outputs": [
        {
          "output_type": "execute_result",
          "data": {
            "text/plain": [
              "Text(0.5, 1.0, 'Количество детей в семьях')"
            ]
          },
          "metadata": {},
          "execution_count": 35
        },
        {
          "output_type": "display_data",
          "data": {
            "image/png": "[encoded data removed]",
            "text/plain": [
              "<Figure size 360x360 with 1 Axes>"
            ]
          },
          "metadata": {
            "needs_background": "light"
          }
        }
      ]
    },
    {
      "cell_type": "code",
      "metadata": {
        "colab": {
          "base_uri": "https://localhost:8080/"
        },
        "id": "sH0IVvIfvF9n",
        "outputId": "3b9c5eca-2af6-4445-f187-d73df6620650"
      },
      "source": [
        "# количество членов семьи \n",
        "top_number_of_family = df['Number_of_family'].value_counts()\n",
        "top_number_of_family"
      ],
      "execution_count": null,
      "outputs": [
        {
          "output_type": "execute_result",
          "data": {
            "text/plain": [
              "3    889\n",
              "2    761\n",
              "4    301\n",
              "1    254\n",
              "5     32\n",
              "Name: Number_of_family, dtype: int64"
            ]
          },
          "metadata": {},
          "execution_count": 36
        }
      ]
    },
    {
      "cell_type": "code",
      "metadata": {
        "colab": {
          "base_uri": "https://localhost:8080/"
        },
        "id": "6zd2ib0E-JJG",
        "outputId": "e8e4bcc7-0871-466c-c0a0-bb494ad4e9cb"
      },
      "source": [
        "# количество детей в семьях \n",
        "\n",
        "df.Total_kids.value_counts()"
      ],
      "execution_count": null,
      "outputs": [
        {
          "output_type": "execute_result",
          "data": {
            "text/plain": [
              "1    1126\n",
              "0     637\n",
              "2     421\n",
              "3      53\n",
              "Name: Total_kids, dtype: int64"
            ]
          },
          "metadata": {},
          "execution_count": 37
        }
      ]
    },
    {
      "cell_type": "markdown",
      "metadata": {
        "id": "8aawGlQf00sv"
      },
      "source": [
        "Среди клиентов в два раза больше людей, которые находятся в паре, нежели одни, а также большая часть людей проживает в составе от 2 до 4 человек в семье. Чаще всего в семьях всего один ребенок"
      ]
    },
    {
      "cell_type": "markdown",
      "metadata": {
        "id": "kwcbyXwJ1_de"
      },
      "source": [
        "**Как давно клиенты с нами**"
      ]
    },
    {
      "cell_type": "code",
      "metadata": {
        "id": "4gZ4nLeUGbF1"
      },
      "source": [
        "df['Dt_Customer'] = pd.to_datetime(df['Dt_Customer'])\n",
        "\n",
        "df['2021'] = '01-01-2021'\n",
        "\n",
        "df['2021'] = pd.to_datetime(df['2021'])"
      ],
      "execution_count": null,
      "outputs": []
    },
    {
      "cell_type": "code",
      "metadata": {
        "id": "fzr1SVLFnief"
      },
      "source": [
        "# посчитаем, сколько лет с нами клиенты\n",
        "\n",
        "\n",
        "df['Customer_year'] = (df['2021'].dt.year) - (df['Dt_Customer'].dt.year)"
      ],
      "execution_count": null,
      "outputs": []
    },
    {
      "cell_type": "code",
      "metadata": {
        "colab": {
          "base_uri": "https://localhost:8080/"
        },
        "id": "FMxq_WtAnv7Q",
        "outputId": "d79c53e2-10a8-4687-e1e4-3c5756de78fe"
      },
      "source": [
        "sns.countplot(df['Customer_year'])\n",
        "plt.xlabel('Длительность в годах')\n",
        "plt.ylabel('Количество клиентов')\n",
        "plt.title(' Продолжительность сотрудничества с клиентами')\n"
      ],
      "execution_count": null,
      "outputs": [
        {
          "output_type": "stream",
          "name": "stderr",
          "text": [
            "/usr/local/lib/python3.7/dist-packages/seaborn/_decorators.py:43: FutureWarning: Pass the following variable as a keyword arg: x. From version 0.12, the only valid positional argument will be `data`, and passing other arguments without an explicit keyword will result in an error or misinterpretation.\n",
            "  FutureWarning\n"
          ]
        },
        {
          "output_type": "execute_result",
          "data": {
            "text/plain": [
              "Text(0.5, 1.0, '\\xa0Продолжительность сотрудничества с клиентами')"
            ]
          },
          "metadata": {},
          "execution_count": 40
        },
        {
          "output_type": "display_data",
          "data": {
            "image/png": "[encoded data removed]",
            "text/plain": [
              "<Figure size 432x288 with 1 Axes>"
            ]
          },
          "metadata": {
            "needs_background": "light"
          }
        }
      ]
    },
    {
      "cell_type": "markdown",
      "metadata": {
        "id": "dQpkqWrqH0hU"
      },
      "source": [
        "Наибольшее число клиентов с нами уже 8 лет"
      ]
    },
    {
      "cell_type": "markdown",
      "metadata": {
        "id": "ACwXR3TsCSg2"
      },
      "source": [
        "**Ежегодный доход клиентов**"
      ]
    },
    {
      "cell_type": "code",
      "metadata": {
        "colab": {
          "base_uri": "https://localhost:8080/"
        },
        "id": "m5GuYiFnCXnH",
        "outputId": "96ba0b0c-69f5-4d33-f16e-9ea9f56d79ab"
      },
      "source": [
        "# визуализируем информацию о доходах клиентов \n",
        "\n",
        "sns.distplot(df['Income'])\n",
        "plt.title('Ежегодные доходы клиентов')"
      ],
      "execution_count": null,
      "outputs": [
        {
          "output_type": "stream",
          "name": "stderr",
          "text": [
            "/usr/local/lib/python3.7/dist-packages/seaborn/distributions.py:2619: FutureWarning: `distplot` is a deprecated function and will be removed in a future version. Please adapt your code to use either `displot` (a figure-level function with similar flexibility) or `histplot` (an axes-level function for histograms).\n",
            "  warnings.warn(msg, FutureWarning)\n"
          ]
        },
        {
          "output_type": "execute_result",
          "data": {
            "text/plain": [
              "Text(0.5, 1.0, 'Ежегодные доходы клиентов')"
            ]
          },
          "metadata": {},
          "execution_count": 41
        },
        {
          "output_type": "display_data",
          "data": {
            "image/png": "[encoded data removed]",
            "text/plain": [
              "<Figure size 432x288 with 1 Axes>"
            ]
          },
          "metadata": {
            "needs_background": "light"
          }
        }
      ]
    },
    {
      "cell_type": "code",
      "metadata": {
        "colab": {
          "base_uri": "https://localhost:8080/"
        },
        "id": "mt1g1uRkDd2o",
        "outputId": "52cf8f0e-9eb7-4e7c-d9f4-643f571c54ad"
      },
      "source": [
        "# посмотрим основные показатели по доходам \n",
        "\n",
        "df['Income'].describe()"
      ],
      "execution_count": null,
      "outputs": [
        {
          "output_type": "execute_result",
          "data": {
            "text/plain": [
              "count      2237.000000\n",
              "mean      52232.033304\n",
              "std       25044.375878\n",
              "min        1730.000000\n",
              "25%       35523.000000\n",
              "50%       51479.000000\n",
              "75%       68281.000000\n",
              "max      666666.000000\n",
              "Name: Income, dtype: float64"
            ]
          },
          "metadata": {},
          "execution_count": 42
        }
      ]
    },
    {
      "cell_type": "markdown",
      "metadata": {
        "id": "RpnOoseAEJfz"
      },
      "source": [
        "Достаточно большой размах в доходах клиентов"
      ]
    },
    {
      "cell_type": "markdown",
      "metadata": {
        "id": "hzI_gLb_IBaf"
      },
      "source": [
        "**Давность последней покупки**"
      ]
    },
    {
      "cell_type": "code",
      "metadata": {
        "colab": {
          "base_uri": "https://localhost:8080/"
        },
        "id": "9C4uKsPTI12R",
        "outputId": "eff56bb7-f5ce-4e97-861b-e44a863e714e"
      },
      "source": [
        "sns.distplot(df['Recency'])\n",
        "plt.title('Давность покупки') "
      ],
      "execution_count": null,
      "outputs": [
        {
          "output_type": "stream",
          "name": "stderr",
          "text": [
            "/usr/local/lib/python3.7/dist-packages/seaborn/distributions.py:2619: FutureWarning: `distplot` is a deprecated function and will be removed in a future version. Please adapt your code to use either `displot` (a figure-level function with similar flexibility) or `histplot` (an axes-level function for histograms).\n",
            "  warnings.warn(msg, FutureWarning)\n"
          ]
        },
        {
          "output_type": "execute_result",
          "data": {
            "text/plain": [
              "Text(0.5, 1.0, 'Давность покупки')"
            ]
          },
          "metadata": {},
          "execution_count": 43
        },
        {
          "output_type": "display_data",
          "data": {
            "image/png": "[encoded data removed]",
            "text/plain": [
              "<Figure size 432x288 with 1 Axes>"
            ]
          },
          "metadata": {
            "needs_background": "light"
          }
        }
      ]
    },
    {
      "cell_type": "code",
      "metadata": {
        "colab": {
          "base_uri": "https://localhost:8080/"
        },
        "id": "fWfVbxmvJh-e",
        "outputId": "1b2b49d2-4aa1-41f9-fc49-fd912fa33437"
      },
      "source": [
        "df['Recency'].describe()\n"
      ],
      "execution_count": null,
      "outputs": [
        {
          "output_type": "execute_result",
          "data": {
            "text/plain": [
              "count    2237.000000\n",
              "mean       49.104604\n",
              "std        28.956073\n",
              "min         0.000000\n",
              "25%        24.000000\n",
              "50%        49.000000\n",
              "75%        74.000000\n",
              "max        99.000000\n",
              "Name: Recency, dtype: float64"
            ]
          },
          "metadata": {},
          "execution_count": 44
        }
      ]
    },
    {
      "cell_type": "markdown",
      "metadata": {
        "id": "t9myEUDmJ2xt"
      },
      "source": [
        "Средняя давность последней покупки достаточно велика, неплохо было бы в дальнейшем порабтать над ее сокращением"
      ]
    },
    {
      "cell_type": "markdown",
      "metadata": {
        "id": "Lb3S8HlvsEaA"
      },
      "source": [
        "**Жалобы клиентов**"
      ]
    },
    {
      "cell_type": "code",
      "metadata": {
        "colab": {
          "base_uri": "https://localhost:8080/"
        },
        "id": "6Ya7ux55MWz1",
        "outputId": "9dc19599-f24c-4149-e080-657bb065d06a"
      },
      "source": [
        "# сколько клиентов жаловалось за последние два года \n",
        "\n",
        "df.Complain.value_counts()"
      ],
      "execution_count": null,
      "outputs": [
        {
          "output_type": "execute_result",
          "data": {
            "text/plain": [
              "0    2217\n",
              "1      20\n",
              "Name: Complain, dtype: int64"
            ]
          },
          "metadata": {},
          "execution_count": 45
        }
      ]
    },
    {
      "cell_type": "code",
      "metadata": {
        "colab": {
          "base_uri": "https://localhost:8080/"
        },
        "id": "pEUTI2QixVNA",
        "outputId": "1a773e19-ffe8-41ea-baf4-8115d9a6ebf0"
      },
      "source": [
        "sns.displot(df['Complain'].sort_values().astype(str)) \n",
        "plt.title('Отсутствие / наличие жалоб от клиентов')"
      ],
      "execution_count": null,
      "outputs": [
        {
          "output_type": "execute_result",
          "data": {
            "text/plain": [
              "Text(0.5, 1.0, 'Отсутствие / наличие жалоб от клиентов')"
            ]
          },
          "metadata": {},
          "execution_count": 46
        },
        {
          "output_type": "display_data",
          "data": {
            "image/png": "[encoded data removed]",
            "text/plain": [
              "<Figure size 360x360 with 1 Axes>"
            ]
          },
          "metadata": {
            "needs_background": "light"
          }
        }
      ]
    },
    {
      "cell_type": "markdown",
      "metadata": {
        "id": "xseZWhMP3gLe"
      },
      "source": [
        "За последние два года клиенты жаловались достаточно редко. А длительность пребывания с нами клиентов достаточно велика. В среднем - 8 лет. "
      ]
    },
    {
      "cell_type": "markdown",
      "metadata": {
        "id": "WzQgL3RrtgNk"
      },
      "source": [
        "**Общие траты**"
      ]
    },
    {
      "cell_type": "code",
      "metadata": {
        "id": "a1YFH5xetm20"
      },
      "source": [
        "# посчитаем общие затраты клиентов\n",
        "\n",
        "df['Purchase__amount'] = (df['MntWines'] + df['MntFruits'] + df['MntMeatProducts'] + \n",
        "                          df['MntFishProducts' ] +df['MntSweetProducts'] + df['MntGoldProds'])"
      ],
      "execution_count": null,
      "outputs": []
    },
    {
      "cell_type": "code",
      "metadata": {
        "colab": {
          "base_uri": "https://localhost:8080/"
        },
        "id": "FX339EtOLhvW",
        "outputId": "5c91c85b-6615-4af5-a1af-31766d73c0f6"
      },
      "source": [
        "sns.distplot(df['Purchase__amount'])\n",
        "plt.title('Общие траты клиентов на все категории')\n"
      ],
      "execution_count": null,
      "outputs": [
        {
          "output_type": "stream",
          "name": "stderr",
          "text": [
            "/usr/local/lib/python3.7/dist-packages/seaborn/distributions.py:2619: FutureWarning: `distplot` is a deprecated function and will be removed in a future version. Please adapt your code to use either `displot` (a figure-level function with similar flexibility) or `histplot` (an axes-level function for histograms).\n",
            "  warnings.warn(msg, FutureWarning)\n"
          ]
        },
        {
          "output_type": "execute_result",
          "data": {
            "text/plain": [
              "Text(0.5, 1.0, 'Общие траты клиентов на все категории')"
            ]
          },
          "metadata": {},
          "execution_count": 48
        },
        {
          "output_type": "display_data",
          "data": {
            "image/png": "[encoded data removed]",
            "text/plain": [
              "<Figure size 432x288 with 1 Axes>"
            ]
          },
          "metadata": {
            "needs_background": "light"
          }
        }
      ]
    },
    {
      "cell_type": "markdown",
      "metadata": {
        "id": "-ao6yT1RL6ez"
      },
      "source": [
        "На диаграмме можно хорошо увидеть, что распределение трат неравномерно"
      ]
    },
    {
      "cell_type": "markdown",
      "metadata": {
        "id": "Mu9HszgVVlXd"
      },
      "source": [
        "**Согласие клиентов на кампании**"
      ]
    },
    {
      "cell_type": "code",
      "metadata": {
        "id": "ucOC7vjjVsuu"
      },
      "source": [
        "# объединяем в одиный столбец все кампании \n",
        "\n",
        "df['accepted_cmp'] = (df['AcceptedCmp1'] + df['AcceptedCmp2'] + df['AcceptedCmp3'] + df['AcceptedCmp4']\n",
        "                      + df['AcceptedCmp5'] + df['Response'])\n",
        "\n",
        "df['accepted_cmp']= np.where(df['accepted_cmp'] > 0, 1, 0)"
      ],
      "execution_count": null,
      "outputs": []
    },
    {
      "cell_type": "code",
      "metadata": {
        "colab": {
          "base_uri": "https://localhost:8080/"
        },
        "id": "13GbadzDyZgX",
        "outputId": "6e0c2bce-468e-46f8-da66-7749d1d17209"
      },
      "source": [
        "# посмотрим как часто люди участвуют в маркетинговых кампаниях \n",
        "\n",
        "df['accepted_cmp'].value_counts()"
      ],
      "execution_count": null,
      "outputs": [
        {
          "output_type": "execute_result",
          "data": {
            "text/plain": [
              "0    1629\n",
              "1     608\n",
              "Name: accepted_cmp, dtype: int64"
            ]
          },
          "metadata": {},
          "execution_count": 50
        }
      ]
    },
    {
      "cell_type": "code",
      "metadata": {
        "colab": {
          "base_uri": "https://localhost:8080/"
        },
        "id": "TgWpSWy1zgsQ",
        "outputId": "03561da0-f383-4c0b-bbed-d452cbd2e289"
      },
      "source": [
        "# визуалищация \n",
        "\n",
        "accapt_cmp = df['accepted_cmp'].value_counts()\n",
        "\n",
        "accapt_cmp.plot(kind='pie', title='Соотношение участвующих в кампаниях и неучаствующих')\n"
      ],
      "execution_count": null,
      "outputs": [
        {
          "output_type": "execute_result",
          "data": {
            "text/plain": [
              "<matplotlib.axes._subplots.AxesSubplot at 0x7f84328f66d0>"
            ]
          },
          "metadata": {},
          "execution_count": 51
        },
        {
          "output_type": "display_data",
          "data": {
            "image/png": "[encoded data removed]",
            "text/plain": [
              "<Figure size 432x288 with 1 Axes>"
            ]
          },
          "metadata": {}
        }
      ]
    },
    {
      "cell_type": "markdown",
      "metadata": {
        "id": "vsoAPWvcsDxH"
      },
      "source": [
        "Большая часть клиентов не участвует в маркетинговых кампаниях"
      ]
    },
    {
      "cell_type": "markdown",
      "metadata": {
        "id": "W4FawdyirYi8"
      },
      "source": [
        "**Количество покупок**"
      ]
    },
    {
      "cell_type": "code",
      "metadata": {
        "id": "etNscb1tsNAq"
      },
      "source": [
        "df['Total_purchases'] = df['NumWebPurchases'] + df['NumCatalogPurchases'] + df['NumStorePurchases']"
      ],
      "execution_count": null,
      "outputs": []
    },
    {
      "cell_type": "code",
      "metadata": {
        "colab": {
          "base_uri": "https://localhost:8080/"
        },
        "id": "ugxPMzoGqjtc",
        "outputId": "6d21968b-e36e-4688-d446-b62fb5148f31"
      },
      "source": [
        "sns.distplot(df['Total_purchases'].sort_values().astype(str))\n",
        "plt.title('Распределение числа покупок среди клиентов')\n"
      ],
      "execution_count": null,
      "outputs": [
        {
          "output_type": "stream",
          "name": "stderr",
          "text": [
            "/usr/local/lib/python3.7/dist-packages/seaborn/distributions.py:2619: FutureWarning: `distplot` is a deprecated function and will be removed in a future version. Please adapt your code to use either `displot` (a figure-level function with similar flexibility) or `histplot` (an axes-level function for histograms).\n",
            "  warnings.warn(msg, FutureWarning)\n"
          ]
        },
        {
          "output_type": "execute_result",
          "data": {
            "text/plain": [
              "Text(0.5, 1.0, 'Распределение числа покупок среди клиентов')"
            ]
          },
          "metadata": {},
          "execution_count": 53
        },
        {
          "output_type": "display_data",
          "data": {
            "image/png": "[encoded data removed]",
            "text/plain": [
              "<Figure size 432x288 with 1 Axes>"
            ]
          },
          "metadata": {
            "needs_background": "light"
          }
        }
      ]
    },
    {
      "cell_type": "markdown",
      "metadata": {
        "id": "ssWif8kS493e"
      },
      "source": [
        "# Гипотезы и их проверка"
      ]
    },
    {
      "cell_type": "markdown",
      "metadata": {
        "id": "kKK4pMh24YHY"
      },
      "source": [
        "**Корреляция между затратами на вино и фрукты** (возможно, что это связано и можно в дальнейшем учитывать при построении маркетинговых предложений)"
      ]
    },
    {
      "cell_type": "code",
      "metadata": {
        "colab": {
          "base_uri": "https://localhost:8080/"
        },
        "id": "eA6kCE3KKdxD",
        "outputId": "915b821e-6642-494d-b840-42705c8fb6fd"
      },
      "source": [
        "df[['MntWines', 'MntFruits']].corr()"
      ],
      "execution_count": null,
      "outputs": [
        {
          "output_type": "execute_result",
          "data": {
            "text/html": [
              "<div>\n",
              "<style scoped>\n",
              "    .dataframe tbody tr th:only-of-type {\n",
              "        vertical-align: middle;\n",
              "    }\n",
              "\n",
              "    .dataframe tbody tr th {\n",
              "        vertical-align: top;\n",
              "    }\n",
              "\n",
              "    .dataframe thead th {\n",
              "        text-align: right;\n",
              "    }\n",
              "</style>\n",
              "<table border=\"1\" class=\"dataframe\">\n",
              "  <thead>\n",
              "    <tr style=\"text-align: right;\">\n",
              "      <th></th>\n",
              "      <th>MntWines</th>\n",
              "      <th>MntFruits</th>\n",
              "    </tr>\n",
              "  </thead>\n",
              "  <tbody>\n",
              "    <tr>\n",
              "      <th>MntWines</th>\n",
              "      <td>1.000000</td>\n",
              "      <td>0.388518</td>\n",
              "    </tr>\n",
              "    <tr>\n",
              "      <th>MntFruits</th>\n",
              "      <td>0.388518</td>\n",
              "      <td>1.000000</td>\n",
              "    </tr>\n",
              "  </tbody>\n",
              "</table>\n",
              "</div>"
            ],
            "text/plain": [
              "           MntWines  MntFruits\n",
              "MntWines   1.000000   0.388518\n",
              "MntFruits  0.388518   1.000000"
            ]
          },
          "metadata": {},
          "execution_count": 54
        }
      ]
    },
    {
      "cell_type": "code",
      "metadata": {
        "colab": {
          "base_uri": "https://localhost:8080/"
        },
        "id": "I1SNQqt-6VJt",
        "outputId": "c5011047-65be-4072-e436-d20efe77cb4d"
      },
      "source": [
        "df.plot(kind='scatter', \n",
        "        x='MntWines', \n",
        "        y='MntFruits', \n",
        "        title='Корреляция между затратами на вино и затратами на фрукты'\n",
        "       )"
      ],
      "execution_count": null,
      "outputs": [
        {
          "output_type": "execute_result",
          "data": {
            "text/plain": [
              "<matplotlib.axes._subplots.AxesSubplot at 0x7f84326e4250>"
            ]
          },
          "metadata": {},
          "execution_count": 55
        },
        {
          "output_type": "display_data",
          "data": {
            "image/png": "[encoded data removed]",
            "text/plain": [
              "<Figure size 432x288 with 1 Axes>"
            ]
          },
          "metadata": {
            "needs_background": "light"
          }
        }
      ]
    },
    {
      "cell_type": "markdown",
      "metadata": {
        "id": "wceXyssQ8_os"
      },
      "source": [
        "Взаимосвязь слабо выражена"
      ]
    },
    {
      "cell_type": "markdown",
      "metadata": {
        "id": "VfCfHPHv9Hev"
      },
      "source": [
        "**Существует ли корреляция между ежегодными доходами и и затратами на покупки**"
      ]
    },
    {
      "cell_type": "code",
      "metadata": {
        "colab": {
          "base_uri": "https://localhost:8080/"
        },
        "id": "0S55jXT4BuuP",
        "outputId": "db64d51e-809e-4693-92c9-f14e6d68f5d0"
      },
      "source": [
        "df[['Purchase__amount', 'Income']].corr()"
      ],
      "execution_count": null,
      "outputs": [
        {
          "output_type": "execute_result",
          "data": {
            "text/html": [
              "<div>\n",
              "<style scoped>\n",
              "    .dataframe tbody tr th:only-of-type {\n",
              "        vertical-align: middle;\n",
              "    }\n",
              "\n",
              "    .dataframe tbody tr th {\n",
              "        vertical-align: top;\n",
              "    }\n",
              "\n",
              "    .dataframe thead th {\n",
              "        text-align: right;\n",
              "    }\n",
              "</style>\n",
              "<table border=\"1\" class=\"dataframe\">\n",
              "  <thead>\n",
              "    <tr style=\"text-align: right;\">\n",
              "      <th></th>\n",
              "      <th>Purchase__amount</th>\n",
              "      <th>Income</th>\n",
              "    </tr>\n",
              "  </thead>\n",
              "  <tbody>\n",
              "    <tr>\n",
              "      <th>Purchase__amount</th>\n",
              "      <td>1.000000</td>\n",
              "      <td>0.664435</td>\n",
              "    </tr>\n",
              "    <tr>\n",
              "      <th>Income</th>\n",
              "      <td>0.664435</td>\n",
              "      <td>1.000000</td>\n",
              "    </tr>\n",
              "  </tbody>\n",
              "</table>\n",
              "</div>"
            ],
            "text/plain": [
              "                  Purchase__amount    Income\n",
              "Purchase__amount          1.000000  0.664435\n",
              "Income                    0.664435  1.000000"
            ]
          },
          "metadata": {},
          "execution_count": 56
        }
      ]
    },
    {
      "cell_type": "code",
      "metadata": {
        "colab": {
          "base_uri": "https://localhost:8080/"
        },
        "id": "2b9XlVFBCVn7",
        "outputId": "a894baec-d6cc-4a86-ddd6-f659b783a8c0"
      },
      "source": [
        "df.plot(kind='scatter', \n",
        "        x='Purchase__amount', \n",
        "        y='Income', \n",
        "        title='Корреляция между ежегодными доходами и затратами на покупки'\n",
        "       )"
      ],
      "execution_count": null,
      "outputs": [
        {
          "output_type": "execute_result",
          "data": {
            "text/plain": [
              "<matplotlib.axes._subplots.AxesSubplot at 0x7f84326558d0>"
            ]
          },
          "metadata": {},
          "execution_count": 57
        },
        {
          "output_type": "display_data",
          "data": {
            "image/png": "[encoded data removed]",
            "text/plain": [
              "<Figure size 432x288 with 1 Axes>"
            ]
          },
          "metadata": {
            "needs_background": "light"
          }
        }
      ]
    },
    {
      "cell_type": "markdown",
      "metadata": {
        "id": "a49dLMhMDAkm"
      },
      "source": [
        "Средняя выраженность взаимосвязей"
      ]
    },
    {
      "cell_type": "markdown",
      "metadata": {
        "id": "RfsCnEDpDFxR"
      },
      "source": [
        "**Проверка гипотезы**\n",
        "\n",
        "На рыбу и мясо тратятся одинаковые деньги\n",
        "\n",
        "\n",
        "H0 - средние затраты на мясо и рыбу одинаковы\n",
        "\n",
        "H1 - средние траты на покупку мяса и рыбы разные"
      ]
    },
    {
      "cell_type": "code",
      "metadata": {
        "colab": {
          "base_uri": "https://localhost:8080/"
        },
        "id": "vykZZRTZF2Y2",
        "outputId": "818913ab-cd0f-4430-cbb5-32322ffc4236"
      },
      "source": [
        "result = st.ttest_ind(df['MntMeatProducts'], df['MntFishProducts'], equal_var=False)\n",
        "\n",
        "print(result)\n",
        "print(df['MntMeatProducts'].mean())\n",
        "print(df['MntFishProducts'].mean())\n",
        "\n",
        "alpha = 0.05\n",
        "\n",
        "if (result.pvalue < alpha):\n",
        "  print('Отвергаем нулевую гипотезу, Средние траты на рыбу и мясо не одинаковы')\n",
        "else:\n",
        "  print('Не отвергаем нулевую гипотезу')"
      ],
      "execution_count": null,
      "outputs": [
        {
          "output_type": "stream",
          "name": "stdout",
          "text": [
            "Ttest_indResult(statistic=26.35833835244084, pvalue=2.6723564452433533e-135)\n",
            "166.91685292802862\n",
            "37.52302190433616\n",
            "Отвергаем нулевую гипотезу, Средние траты на рыбу и мясо не одинаковы\n"
          ]
        }
      ]
    },
    {
      "cell_type": "markdown",
      "metadata": {
        "id": "Z5OUO5QbRkDb"
      },
      "source": [
        "**Есть ли зависимость между количеством детей в семье и тратами**"
      ]
    },
    {
      "cell_type": "code",
      "metadata": {
        "colab": {
          "base_uri": "https://localhost:8080/"
        },
        "id": "hvsrG_FaR0-M",
        "outputId": "3e043427-e18a-44e6-f821-f5f35e43b7dd"
      },
      "source": [
        "# посмотрим визуально \n",
        "\n",
        "sns.barplot(x='Total_kids', y='Purchase__amount', data=df)\n"
      ],
      "execution_count": null,
      "outputs": [
        {
          "output_type": "execute_result",
          "data": {
            "text/plain": [
              "<matplotlib.axes._subplots.AxesSubplot at 0x7f8432637810>"
            ]
          },
          "metadata": {},
          "execution_count": 59
        },
        {
          "output_type": "display_data",
          "data": {
            "image/png": "[encoded data removed]",
            "text/plain": [
              "<Figure size 432x288 with 1 Axes>"
            ]
          },
          "metadata": {
            "needs_background": "light"
          }
        }
      ]
    },
    {
      "cell_type": "markdown",
      "metadata": {
        "id": "g7RpDL3tSEpm"
      },
      "source": [
        "Интересно, что клиенты без детей тратят больше"
      ]
    },
    {
      "cell_type": "markdown",
      "metadata": {
        "id": "DxxQos9GP1s0"
      },
      "source": [
        "# **Кластеризация**"
      ]
    },
    {
      "cell_type": "markdown",
      "metadata": {
        "id": "V7J6rFV4kezy"
      },
      "source": [
        "Создание датасета, который будем использовать в кластеризации"
      ]
    },
    {
      "cell_type": "code",
      "metadata": {
        "id": "Fuie9vVDG481"
      },
      "source": [
        "df_for_clusters = df[['level_edu', 'Count_people', 'Income', 'Total_kids', \n",
        "       'Recency', 'Purchase__amount', 'Total_purchases', 'accepted_cmp', 'Complain', 'Age', 'Customer_year']]"
      ],
      "execution_count": null,
      "outputs": []
    },
    {
      "cell_type": "code",
      "metadata": {
        "colab": {
          "base_uri": "https://localhost:8080/"
        },
        "id": "y_Yzb29t_qJh",
        "outputId": "202953b4-c00b-4a03-e4b1-97ef4b5b7ed1"
      },
      "source": [
        "df_for_clusters.info()"
      ],
      "execution_count": null,
      "outputs": [
        {
          "output_type": "stream",
          "name": "stdout",
          "text": [
            "<class 'pandas.core.frame.DataFrame'>\n",
            "Int64Index: 2237 entries, 0 to 2239\n",
            "Data columns (total 11 columns):\n",
            " #   Column            Non-Null Count  Dtype  \n",
            "---  ------            --------------  -----  \n",
            " 0   level_edu         2237 non-null   int64  \n",
            " 1   Count_people      2237 non-null   int64  \n",
            " 2   Income            2237 non-null   float64\n",
            " 3   Total_kids        2237 non-null   int64  \n",
            " 4   Recency           2237 non-null   int64  \n",
            " 5   Purchase__amount  2237 non-null   int64  \n",
            " 6   Total_purchases   2237 non-null   int64  \n",
            " 7   accepted_cmp      2237 non-null   int64  \n",
            " 8   Complain          2237 non-null   int64  \n",
            " 9   Age               2237 non-null   int64  \n",
            " 10  Customer_year     2237 non-null   int64  \n",
            "dtypes: float64(1), int64(10)\n",
            "memory usage: 289.7 KB\n"
          ]
        }
      ]
    },
    {
      "cell_type": "code",
      "metadata": {
        "colab": {
          "base_uri": "https://localhost:8080/"
        },
        "id": "hS-xzbOCkpmC",
        "outputId": "0d8133df-46be-49e5-cf9b-8b9e3cae20dc"
      },
      "source": [
        "df_for_clusters.head()"
      ],
      "execution_count": null,
      "outputs": [
        {
          "output_type": "execute_result",
          "data": {
            "text/html": [
              "<div>\n",
              "<style scoped>\n",
              "    .dataframe tbody tr th:only-of-type {\n",
              "        vertical-align: middle;\n",
              "    }\n",
              "\n",
              "    .dataframe tbody tr th {\n",
              "        vertical-align: top;\n",
              "    }\n",
              "\n",
              "    .dataframe thead th {\n",
              "        text-align: right;\n",
              "    }\n",
              "</style>\n",
              "<table border=\"1\" class=\"dataframe\">\n",
              "  <thead>\n",
              "    <tr style=\"text-align: right;\">\n",
              "      <th></th>\n",
              "      <th>level_edu</th>\n",
              "      <th>Count_people</th>\n",
              "      <th>Income</th>\n",
              "      <th>Total_kids</th>\n",
              "      <th>Recency</th>\n",
              "      <th>Purchase__amount</th>\n",
              "      <th>Total_purchases</th>\n",
              "      <th>accepted_cmp</th>\n",
              "      <th>Complain</th>\n",
              "      <th>Age</th>\n",
              "      <th>Customer_year</th>\n",
              "    </tr>\n",
              "  </thead>\n",
              "  <tbody>\n",
              "    <tr>\n",
              "      <th>0</th>\n",
              "      <td>3</td>\n",
              "      <td>1</td>\n",
              "      <td>58138.0</td>\n",
              "      <td>0</td>\n",
              "      <td>58</td>\n",
              "      <td>1617</td>\n",
              "      <td>22</td>\n",
              "      <td>1</td>\n",
              "      <td>0</td>\n",
              "      <td>64</td>\n",
              "      <td>9</td>\n",
              "    </tr>\n",
              "    <tr>\n",
              "      <th>1</th>\n",
              "      <td>3</td>\n",
              "      <td>1</td>\n",
              "      <td>46344.0</td>\n",
              "      <td>2</td>\n",
              "      <td>38</td>\n",
              "      <td>27</td>\n",
              "      <td>4</td>\n",
              "      <td>0</td>\n",
              "      <td>0</td>\n",
              "      <td>67</td>\n",
              "      <td>7</td>\n",
              "    </tr>\n",
              "    <tr>\n",
              "      <th>2</th>\n",
              "      <td>3</td>\n",
              "      <td>2</td>\n",
              "      <td>71613.0</td>\n",
              "      <td>0</td>\n",
              "      <td>26</td>\n",
              "      <td>776</td>\n",
              "      <td>20</td>\n",
              "      <td>0</td>\n",
              "      <td>0</td>\n",
              "      <td>56</td>\n",
              "      <td>8</td>\n",
              "    </tr>\n",
              "    <tr>\n",
              "      <th>3</th>\n",
              "      <td>3</td>\n",
              "      <td>2</td>\n",
              "      <td>26646.0</td>\n",
              "      <td>1</td>\n",
              "      <td>26</td>\n",
              "      <td>53</td>\n",
              "      <td>6</td>\n",
              "      <td>0</td>\n",
              "      <td>0</td>\n",
              "      <td>37</td>\n",
              "      <td>7</td>\n",
              "    </tr>\n",
              "    <tr>\n",
              "      <th>4</th>\n",
              "      <td>5</td>\n",
              "      <td>2</td>\n",
              "      <td>58293.0</td>\n",
              "      <td>1</td>\n",
              "      <td>94</td>\n",
              "      <td>422</td>\n",
              "      <td>14</td>\n",
              "      <td>0</td>\n",
              "      <td>0</td>\n",
              "      <td>40</td>\n",
              "      <td>7</td>\n",
              "    </tr>\n",
              "  </tbody>\n",
              "</table>\n",
              "</div>"
            ],
            "text/plain": [
              "   level_edu  Count_people   Income  ...  Complain  Age  Customer_year\n",
              "0          3             1  58138.0  ...         0   64              9\n",
              "1          3             1  46344.0  ...         0   67              7\n",
              "2          3             2  71613.0  ...         0   56              8\n",
              "3          3             2  26646.0  ...         0   37              7\n",
              "4          5             2  58293.0  ...         0   40              7\n",
              "\n",
              "[5 rows x 11 columns]"
            ]
          },
          "metadata": {},
          "execution_count": 62
        }
      ]
    },
    {
      "cell_type": "markdown",
      "metadata": {
        "id": "CVbVUx0Ek29j"
      },
      "source": [
        "Нормализация данных"
      ]
    },
    {
      "cell_type": "code",
      "metadata": {
        "id": "feSRNSEShjdR"
      },
      "source": [
        "# приводим данные к единому масштабу \n",
        "\n",
        "scaler = StandardScaler()"
      ],
      "execution_count": null,
      "outputs": []
    },
    {
      "cell_type": "code",
      "metadata": {
        "id": "plA1iniuiAs8"
      },
      "source": [
        "# fit-transform сразу обучается и преобразует данные\n",
        "\n",
        "X_scaled = scaler.fit_transform(df_for_clusters)"
      ],
      "execution_count": null,
      "outputs": []
    },
    {
      "cell_type": "markdown",
      "metadata": {
        "id": "dYKK2OKUk92J"
      },
      "source": [
        "**Поиск оптимального количества кластеров**"
      ]
    },
    {
      "cell_type": "markdown",
      "metadata": {
        "id": "iDfug0u7X6MN"
      },
      "source": [
        "Метод локтя"
      ]
    },
    {
      "cell_type": "code",
      "metadata": {
        "id": "9mDCIsCNlDaa"
      },
      "source": [
        "# строим график локтя\n",
        "# создаем список для инерции\n",
        "\n",
        "k_inertia = []"
      ],
      "execution_count": null,
      "outputs": []
    },
    {
      "cell_type": "code",
      "metadata": {
        "id": "UWtuqRS7m1k8"
      },
      "source": [
        "# задаем диапазон кластеров\n",
        "ks = range(1, 16)\n",
        "\n",
        "for k in ks:\n",
        "  clf_kmeans = KMeans(n_clusters=k)\n",
        "  clusters_kmeans = clf_kmeans.fit_predict(X_scaled) \n",
        "  \n",
        "# добавляем инерцию каждой модели в список\n",
        "  k_inertia.append(clf_kmeans.inertia_)"
      ],
      "execution_count": null,
      "outputs": []
    },
    {
      "cell_type": "code",
      "metadata": {
        "id": "2xRxwE_EkUze",
        "colab": {
          "base_uri": "https://localhost:8080/"
        },
        "outputId": "741c88e2-f11e-40d9-f618-ee2aec50bdff"
      },
      "source": [
        "plt.plot(ks, k_inertia)\n",
        "plt.title('Метод локты')\n",
        "plt.xlabel('Количество кластеров')"
      ],
      "execution_count": null,
      "outputs": [
        {
          "output_type": "execute_result",
          "data": {
            "text/plain": [
              "Text(0.5, 0, 'Количество кластеров')"
            ]
          },
          "metadata": {},
          "execution_count": 67
        },
        {
          "output_type": "display_data",
          "data": {
            "image/png": "[encoded data removed]",
            "text/plain": [
              "<Figure size 432x288 with 1 Axes>"
            ]
          },
          "metadata": {
            "needs_background": "light"
          }
        }
      ]
    },
    {
      "cell_type": "markdown",
      "metadata": {
        "id": "HNOnCE10UhNP"
      },
      "source": [
        "Определение коэффициента силуэта"
      ]
    },
    {
      "cell_type": "code",
      "metadata": {
        "colab": {
          "base_uri": "https://localhost:8080/"
        },
        "id": "5V9CYCKfUkfE",
        "outputId": "1d468289-3e40-40d2-d3e8-f937e22decf5"
      },
      "source": [
        "for n_cluster in range(2, 10):\n",
        "    kmeans = KMeans(n_clusters = n_cluster).fit(X_scaled)\n",
        "    label = kmeans.labels_\n",
        "    sil_coeff = silhouette_score(X_scaled, label, metric='euclidean')\n",
        "    print(\"Для n_clusters={}. Коэффициент силуэта равен {}\".format(n_cluster, sil_coeff))"
      ],
      "execution_count": null,
      "outputs": [
        {
          "output_type": "stream",
          "name": "stdout",
          "text": [
            "Для n_clusters=2. Коэффициент силуэта равен 0.20709522280632256\n",
            "Для n_clusters=3. Коэффициент силуэта равен 0.21671341490228538\n",
            "Для n_clusters=4. Коэффициент силуэта равен 0.17176516291130434\n",
            "Для n_clusters=5. Коэффициент силуэта равен 0.15012986325788968\n",
            "Для n_clusters=6. Коэффициент силуэта равен 0.15216318310555285\n",
            "Для n_clusters=7. Коэффициент силуэта равен 0.12958956955712314\n",
            "Для n_clusters=8. Коэффициент силуэта равен 0.12958466305341101\n",
            "Для n_clusters=9. Коэффициент силуэта равен 0.1345017414586301\n"
          ]
        }
      ]
    },
    {
      "cell_type": "markdown",
      "metadata": {
        "id": "PH2aWIHHkZHn"
      },
      "source": [
        "Оптимальное число кластеров - два. Но возьму на один больше "
      ]
    },
    {
      "cell_type": "markdown",
      "metadata": {
        "id": "2F3g3nD7wrf0"
      },
      "source": [
        "**PCA для преобразования данных**"
      ]
    },
    {
      "cell_type": "code",
      "metadata": {
        "id": "O81GS1u8w0Sg"
      },
      "source": [
        "pca = PCA(n_components = 2)\n",
        "X = pca.fit_transform(X_scaled)"
      ],
      "execution_count": null,
      "outputs": []
    },
    {
      "cell_type": "markdown",
      "metadata": {
        "id": "6Qzsz2nrgpsT"
      },
      "source": [
        "**Применяем K-Means**"
      ]
    },
    {
      "cell_type": "code",
      "metadata": {
        "id": "wh3ElcvnX8yi"
      },
      "source": [
        "# явно указываем количество кластеров\n",
        "\n",
        "kmeans = KMeans(n_clusters=3)"
      ],
      "execution_count": null,
      "outputs": []
    },
    {
      "cell_type": "code",
      "metadata": {
        "id": "h0660uw-hGk_",
        "colab": {
          "base_uri": "https://localhost:8080/"
        },
        "outputId": "0e7c8028-d40d-4227-a02e-9f479fbbfe21"
      },
      "source": [
        "# fit_predict обучается на данных и каждому объекту присваивает кластер\n",
        "\n",
        "clusters = kmeans.fit_predict(X)\n",
        "clusters"
      ],
      "execution_count": null,
      "outputs": [
        {
          "output_type": "execute_result",
          "data": {
            "text/plain": [
              "array([0, 2, 0, ..., 0, 0, 2], dtype=int32)"
            ]
          },
          "metadata": {},
          "execution_count": 71
        }
      ]
    },
    {
      "cell_type": "code",
      "metadata": {
        "id": "wyr3E7uxXxzz",
        "colab": {
          "base_uri": "https://localhost:8080/"
        },
        "outputId": "a40cda72-8d0e-4687-8d46-d6f8cc2794c1"
      },
      "source": [
        "# добавляем к данным столбец с информацией о кластерах \n",
        "\n",
        "df_for_clusters['Cluster'] = clusters"
      ],
      "execution_count": null,
      "outputs": [
        {
          "output_type": "stream",
          "name": "stderr",
          "text": [
            "/usr/local/lib/python3.7/dist-packages/ipykernel_launcher.py:3: SettingWithCopyWarning: \n",
            "A value is trying to be set on a copy of a slice from a DataFrame.\n",
            "Try using .loc[row_indexer,col_indexer] = value instead\n",
            "\n",
            "See the caveats in the documentation: https://pandas.pydata.org/pandas-docs/stable/user_guide/indexing.html#returning-a-view-versus-a-copy\n",
            "  This is separate from the ipykernel package so we can avoid doing imports until\n"
          ]
        }
      ]
    },
    {
      "cell_type": "markdown",
      "metadata": {
        "id": "NTI576jZj1L6"
      },
      "source": [
        "**Визуализация результата кластеризации**"
      ]
    },
    {
      "cell_type": "code",
      "metadata": {
        "id": "ehnP-Dl4j7HI",
        "colab": {
          "base_uri": "https://localhost:8080/"
        },
        "outputId": "7c55e4aa-82a1-4e39-a5ab-cc3a49de6fd0"
      },
      "source": [
        "plt.scatter(X[clusters == 0, 0], X[clusters == 0, 1], s = 100, c = 'red', label='cluster1')\n",
        "plt.scatter(kmeans.cluster_centers_[:, 0], kmeans.cluster_centers_[:,1], s = 300, c = 'yellow', label = 'centroids')\n",
        "plt.scatter(X[clusters == 1, 0], X[clusters == 1, 1], s = 100, c = 'blue', label='cluster2')\n",
        "plt.scatter(kmeans.cluster_centers_[:, 0], kmeans.cluster_centers_[:,1], s = 300, c = 'yellow', label = 'centroids')\n",
        "plt.scatter(X[clusters == 2, 0], X[clusters == 2, 1], s = 100, c = 'green', label='cluster3')                                   \n",
        "plt.scatter(kmeans.cluster_centers_[:, 0], kmeans.cluster_centers_[:,1], s = 300, c = 'yellow', label = 'centroids')\n",
        "plt.title('Кластеры клиентов')\n",
        "plt.legend()\n",
        "plt.show()\n"
      ],
      "execution_count": null,
      "outputs": [
        {
          "output_type": "display_data",
          "data": {
            "image/png": "[encoded data removed]",
            "text/plain": [
              "<Figure size 432x288 with 1 Axes>"
            ]
          },
          "metadata": {
            "needs_background": "light"
          }
        }
      ]
    },
    {
      "cell_type": "markdown",
      "metadata": {
        "id": "LR5eadnl218I"
      },
      "source": [
        "**Иерархическая** кластеризация"
      ]
    },
    {
      "cell_type": "code",
      "metadata": {
        "id": "4ND-WYjlRBf6",
        "colab": {
          "base_uri": "https://localhost:8080/"
        },
        "outputId": "79666dfa-395d-4eea-8f7b-c0373acee4f8"
      },
      "source": [
        "# строим дендрограмму для определения числа кластеров\n",
        "\n",
        "dendrogram = sch.dendrogram(sch.linkage(X, method = 'ward'))\n",
        "plt.title('Дендрограмма')\n",
        "plt.xlabel('Customers')\n",
        "plt.ylabel('Euclidean distances')\n",
        "plt.show()"
      ],
      "execution_count": null,
      "outputs": [
        {
          "output_type": "display_data",
          "data": {
            "image/png": "[encoded data removed]",
            "text/plain": [
              "<Figure size 432x288 with 1 Axes>"
            ]
          },
          "metadata": {
            "needs_background": "light"
          }
        }
      ]
    },
    {
      "cell_type": "code",
      "metadata": {
        "id": "4ZRl4gNCncZ8"
      },
      "source": [
        "# используем модель иерархической кластеризации\n",
        "\n",
        "AC = AgglomerativeClustering(n_clusters=3)"
      ],
      "execution_count": null,
      "outputs": []
    },
    {
      "cell_type": "code",
      "metadata": {
        "id": "m8VWWjYNzU8w"
      },
      "source": [
        "pred = AC.fit_predict(X)"
      ],
      "execution_count": null,
      "outputs": []
    },
    {
      "cell_type": "code",
      "metadata": {
        "id": "AAP_MHu077oH",
        "colab": {
          "base_uri": "https://localhost:8080/"
        },
        "outputId": "fa80a783-3ae2-488b-93b0-964c2b452edf"
      },
      "source": [
        "# выведем кластеры\n",
        "\n",
        "pred"
      ],
      "execution_count": null,
      "outputs": [
        {
          "output_type": "execute_result",
          "data": {
            "text/plain": [
              "array([1, 0, 1, ..., 1, 2, 2])"
            ]
          },
          "metadata": {},
          "execution_count": 77
        }
      ]
    },
    {
      "cell_type": "code",
      "metadata": {
        "id": "dQxvlK51zvAI",
        "colab": {
          "base_uri": "https://localhost:8080/"
        },
        "outputId": "86201fe6-ab7f-4892-e835-69b37562d80e"
      },
      "source": [
        "# добавляем кластеры в датасет\n",
        "\n",
        "df_for_clusters[\"AC\"] = pred"
      ],
      "execution_count": null,
      "outputs": [
        {
          "output_type": "stream",
          "name": "stderr",
          "text": [
            "/usr/local/lib/python3.7/dist-packages/ipykernel_launcher.py:3: SettingWithCopyWarning: \n",
            "A value is trying to be set on a copy of a slice from a DataFrame.\n",
            "Try using .loc[row_indexer,col_indexer] = value instead\n",
            "\n",
            "See the caveats in the documentation: https://pandas.pydata.org/pandas-docs/stable/user_guide/indexing.html#returning-a-view-versus-a-copy\n",
            "  This is separate from the ipykernel package so we can avoid doing imports until\n"
          ]
        }
      ]
    },
    {
      "cell_type": "markdown",
      "metadata": {
        "id": "xWrhFjqqD3XO"
      },
      "source": [
        "**Визуализация результата иерархической кластеризации**"
      ]
    },
    {
      "cell_type": "code",
      "metadata": {
        "id": "-p9CqVe-0faq",
        "colab": {
          "base_uri": "https://localhost:8080/"
        },
        "outputId": "29c7e55f-fe2a-42c0-e7ef-72d1ad177917"
      },
      "source": [
        "plt.scatter(X[pred == 0, 0], X[pred == 0, 1], s = 100, c = 'red', label='cluster1')\n",
        "plt.scatter(X[pred == 1, 0], X[pred == 1, 1], s = 100, c = 'blue', label='cluster2')\n",
        "plt.scatter(X[pred == 2, 0], X[pred == 2, 1], s = 100, c = 'green', label='cluster3')                                   \n",
        "plt.scatter(X[pred == 3, 0], X[pred == 3, 1], s = 100, c = 'purple', label='cluster4')                                   \n",
        "plt.title('Кластеры клиентов')\n",
        "plt.legend()\n",
        "plt.show()\n"
      ],
      "execution_count": null,
      "outputs": [
        {
          "output_type": "display_data",
          "data": {
            "image/png": "[encoded data removed]",
            "text/plain": [
              "<Figure size 432x288 with 1 Axes>"
            ]
          },
          "metadata": {
            "needs_background": "light"
          }
        }
      ]
    },
    {
      "cell_type": "markdown",
      "metadata": {
        "id": "SM3gTAQGmax8"
      },
      "source": [
        "# Анализ полученных кластеров"
      ]
    },
    {
      "cell_type": "markdown",
      "metadata": {
        "id": "rlH_FkJLB9ey"
      },
      "source": [
        "**Модель KMeans**"
      ]
    },
    {
      "cell_type": "code",
      "metadata": {
        "id": "dXX7X7OQ3Z9C",
        "colab": {
          "base_uri": "https://localhost:8080/",
          "height": 351
        },
        "outputId": "3a49eefd-7073-4cbd-b2be-cfdbdd892d19"
      },
      "source": [
        "# количество клиентов в каждом кластере \n",
        "\n",
        "sns.countplot(df_for_clusters['Cluster'])\n"
      ],
      "execution_count": null,
      "outputs": [
        {
          "output_type": "stream",
          "name": "stderr",
          "text": [
            "/usr/local/lib/python3.7/dist-packages/seaborn/_decorators.py:43: FutureWarning: Pass the following variable as a keyword arg: x. From version 0.12, the only valid positional argument will be `data`, and passing other arguments without an explicit keyword will result in an error or misinterpretation.\n",
            "  FutureWarning\n"
          ]
        },
        {
          "output_type": "execute_result",
          "data": {
            "text/plain": [
              "<matplotlib.axes._subplots.AxesSubplot at 0x7f842e5e4d10>"
            ]
          },
          "metadata": {},
          "execution_count": 80
        },
        {
          "output_type": "display_data",
          "data": {
            "image/png": "[encoded data removed]",
            "text/plain": [
              "<Figure size 432x288 with 1 Axes>"
            ]
          },
          "metadata": {
            "needs_background": "light"
          }
        }
      ]
    },
    {
      "cell_type": "code",
      "metadata": {
        "id": "zR57JLmCd6th",
        "colab": {
          "base_uri": "https://localhost:8080/"
        },
        "outputId": "ba32f7ff-81db-42e2-b680-4efd5aa530da"
      },
      "source": [
        "# посмотрим в табличном выражении \n",
        "\n",
        "df_for_clusters.Cluster.value_counts()"
      ],
      "execution_count": null,
      "outputs": [
        {
          "output_type": "execute_result",
          "data": {
            "text/plain": [
              "0    883\n",
              "1    695\n",
              "2    659\n",
              "Name: Cluster, dtype: int64"
            ]
          },
          "metadata": {},
          "execution_count": 81
        }
      ]
    },
    {
      "cell_type": "code",
      "metadata": {
        "id": "GCMg8eubemfo",
        "colab": {
          "base_uri": "https://localhost:8080/",
          "height": 313
        },
        "outputId": "d359b9f3-178c-467c-afe0-803b8e66cb82"
      },
      "source": [
        "# псмотрим на кластеры с позиции их доходов и трат \n",
        "\n",
        "pl = sns.scatterplot(data = df_for_clusters, x=df[\"Purchase__amount\"], y=df[\"Income\"], hue=df_for_clusters[\"Cluster\"], palette='viridis')\n",
        "pl.set_title(\"Кластера в разрезе ежегодных доходов и трат в интернет-магазине\")\n",
        "plt.legend()"
      ],
      "execution_count": null,
      "outputs": [
        {
          "output_type": "execute_result",
          "data": {
            "text/plain": [
              "<matplotlib.legend.Legend at 0x7f842e68ce10>"
            ]
          },
          "metadata": {},
          "execution_count": 82
        },
        {
          "output_type": "display_data",
          "data": {
            "image/png": "[encoded data removed]",
            "text/plain": [
              "<Figure size 432x288 with 1 Axes>"
            ]
          },
          "metadata": {
            "needs_background": "light"
          }
        }
      ]
    },
    {
      "cell_type": "code",
      "metadata": {
        "id": "3E0V5PlxLaw6",
        "colab": {
          "base_uri": "https://localhost:8080/",
          "height": 312
        },
        "outputId": "dc1a5c07-dc86-4c4e-b14e-6012a5ca84fa"
      },
      "source": [
        "# траты на покупки по кластерам\n",
        "\n",
        "sns.boxenplot(x=\"Cluster\", y=\"Purchase__amount\", data=df_for_clusters, palette='viridis')\n",
        "plt.title(\"Траты на покупки по кластерам\")"
      ],
      "execution_count": null,
      "outputs": [
        {
          "output_type": "execute_result",
          "data": {
            "text/plain": [
              "Text(0.5, 1.0, 'Траты на покупки по кластерам')"
            ]
          },
          "metadata": {},
          "execution_count": 83
        },
        {
          "output_type": "display_data",
          "data": {
            "image/png": "[encoded data removed]",
            "text/plain": [
              "<Figure size 432x288 with 1 Axes>"
            ]
          },
          "metadata": {
            "needs_background": "light"
          }
        }
      ]
    },
    {
      "cell_type": "code",
      "metadata": {
        "id": "R9R5q6_jNSCP",
        "colab": {
          "base_uri": "https://localhost:8080/",
          "height": 312
        },
        "outputId": "c98b6e40-8518-43f7-9fda-3748f347eeb4"
      },
      "source": [
        "# вохраст по кластерам \n",
        "\n",
        "sns.boxenplot(x=\"Cluster\", y=\"Total_purchases\", data=df_for_clusters, palette='viridis')\n",
        "plt.title(\"Количество покупок по кластерам\")"
      ],
      "execution_count": null,
      "outputs": [
        {
          "output_type": "execute_result",
          "data": {
            "text/plain": [
              "Text(0.5, 1.0, 'Количество покупок по кластерам')"
            ]
          },
          "metadata": {},
          "execution_count": 84
        },
        {
          "output_type": "display_data",
          "data": {
            "image/png": "[encoded data removed]",
            "text/plain": [
              "<Figure size 432x288 with 1 Axes>"
            ]
          },
          "metadata": {
            "needs_background": "light"
          }
        }
      ]
    },
    {
      "cell_type": "markdown",
      "metadata": {
        "id": "MGSRYPyDiIp3"
      },
      "source": [
        "Основные параметры кластера 0"
      ]
    },
    {
      "cell_type": "code",
      "metadata": {
        "id": "ZeEhWRDt2zxK",
        "colab": {
          "base_uri": "https://localhost:8080/",
          "height": 457
        },
        "outputId": "8216809f-1491-4038-823f-b5a15c158b86"
      },
      "source": [
        "df_for_clusters[df_for_clusters['Cluster'] == 0].describe().transpose()"
      ],
      "execution_count": null,
      "outputs": [
        {
          "output_type": "execute_result",
          "data": {
            "text/html": [
              "<div>\n",
              "<style scoped>\n",
              "    .dataframe tbody tr th:only-of-type {\n",
              "        vertical-align: middle;\n",
              "    }\n",
              "\n",
              "    .dataframe tbody tr th {\n",
              "        vertical-align: top;\n",
              "    }\n",
              "\n",
              "    .dataframe thead th {\n",
              "        text-align: right;\n",
              "    }\n",
              "</style>\n",
              "<table border=\"1\" class=\"dataframe\">\n",
              "  <thead>\n",
              "    <tr style=\"text-align: right;\">\n",
              "      <th></th>\n",
              "      <th>count</th>\n",
              "      <th>mean</th>\n",
              "      <th>std</th>\n",
              "      <th>min</th>\n",
              "      <th>25%</th>\n",
              "      <th>50%</th>\n",
              "      <th>75%</th>\n",
              "      <th>max</th>\n",
              "    </tr>\n",
              "  </thead>\n",
              "  <tbody>\n",
              "    <tr>\n",
              "      <th>level_edu</th>\n",
              "      <td>883.0</td>\n",
              "      <td>3.490374</td>\n",
              "      <td>1.079949</td>\n",
              "      <td>1.0</td>\n",
              "      <td>3.0</td>\n",
              "      <td>3.0</td>\n",
              "      <td>4.0</td>\n",
              "      <td>5.0</td>\n",
              "    </tr>\n",
              "    <tr>\n",
              "      <th>Count_people</th>\n",
              "      <td>883.0</td>\n",
              "      <td>1.612684</td>\n",
              "      <td>0.487413</td>\n",
              "      <td>1.0</td>\n",
              "      <td>1.0</td>\n",
              "      <td>2.0</td>\n",
              "      <td>2.0</td>\n",
              "      <td>2.0</td>\n",
              "    </tr>\n",
              "    <tr>\n",
              "      <th>Income</th>\n",
              "      <td>883.0</td>\n",
              "      <td>72097.830125</td>\n",
              "      <td>24003.331214</td>\n",
              "      <td>2447.0</td>\n",
              "      <td>63624.0</td>\n",
              "      <td>71434.0</td>\n",
              "      <td>79711.5</td>\n",
              "      <td>666666.0</td>\n",
              "    </tr>\n",
              "    <tr>\n",
              "      <th>Total_kids</th>\n",
              "      <td>883.0</td>\n",
              "      <td>0.476784</td>\n",
              "      <td>0.561697</td>\n",
              "      <td>0.0</td>\n",
              "      <td>0.0</td>\n",
              "      <td>0.0</td>\n",
              "      <td>1.0</td>\n",
              "      <td>3.0</td>\n",
              "    </tr>\n",
              "    <tr>\n",
              "      <th>Recency</th>\n",
              "      <td>883.0</td>\n",
              "      <td>49.498301</td>\n",
              "      <td>29.140732</td>\n",
              "      <td>0.0</td>\n",
              "      <td>24.0</td>\n",
              "      <td>51.0</td>\n",
              "      <td>74.0</td>\n",
              "      <td>99.0</td>\n",
              "    </tr>\n",
              "    <tr>\n",
              "      <th>Purchase__amount</th>\n",
              "      <td>883.0</td>\n",
              "      <td>1237.117780</td>\n",
              "      <td>434.277921</td>\n",
              "      <td>6.0</td>\n",
              "      <td>925.5</td>\n",
              "      <td>1174.0</td>\n",
              "      <td>1537.0</td>\n",
              "      <td>2525.0</td>\n",
              "    </tr>\n",
              "    <tr>\n",
              "      <th>Total_purchases</th>\n",
              "      <td>883.0</td>\n",
              "      <td>19.664779</td>\n",
              "      <td>4.154714</td>\n",
              "      <td>0.0</td>\n",
              "      <td>17.0</td>\n",
              "      <td>20.0</td>\n",
              "      <td>23.0</td>\n",
              "      <td>32.0</td>\n",
              "    </tr>\n",
              "    <tr>\n",
              "      <th>accepted_cmp</th>\n",
              "      <td>883.0</td>\n",
              "      <td>0.474519</td>\n",
              "      <td>0.499633</td>\n",
              "      <td>0.0</td>\n",
              "      <td>0.0</td>\n",
              "      <td>0.0</td>\n",
              "      <td>1.0</td>\n",
              "      <td>1.0</td>\n",
              "    </tr>\n",
              "    <tr>\n",
              "      <th>Complain</th>\n",
              "      <td>883.0</td>\n",
              "      <td>0.005663</td>\n",
              "      <td>0.075079</td>\n",
              "      <td>0.0</td>\n",
              "      <td>0.0</td>\n",
              "      <td>0.0</td>\n",
              "      <td>0.0</td>\n",
              "      <td>1.0</td>\n",
              "    </tr>\n",
              "    <tr>\n",
              "      <th>Age</th>\n",
              "      <td>883.0</td>\n",
              "      <td>53.927520</td>\n",
              "      <td>12.206062</td>\n",
              "      <td>26.0</td>\n",
              "      <td>45.0</td>\n",
              "      <td>54.0</td>\n",
              "      <td>64.0</td>\n",
              "      <td>80.0</td>\n",
              "    </tr>\n",
              "    <tr>\n",
              "      <th>Customer_year</th>\n",
              "      <td>883.0</td>\n",
              "      <td>8.063420</td>\n",
              "      <td>0.692074</td>\n",
              "      <td>7.0</td>\n",
              "      <td>8.0</td>\n",
              "      <td>8.0</td>\n",
              "      <td>9.0</td>\n",
              "      <td>9.0</td>\n",
              "    </tr>\n",
              "    <tr>\n",
              "      <th>Cluster</th>\n",
              "      <td>883.0</td>\n",
              "      <td>0.000000</td>\n",
              "      <td>0.000000</td>\n",
              "      <td>0.0</td>\n",
              "      <td>0.0</td>\n",
              "      <td>0.0</td>\n",
              "      <td>0.0</td>\n",
              "      <td>0.0</td>\n",
              "    </tr>\n",
              "    <tr>\n",
              "      <th>AC</th>\n",
              "      <td>883.0</td>\n",
              "      <td>1.257078</td>\n",
              "      <td>0.439856</td>\n",
              "      <td>0.0</td>\n",
              "      <td>1.0</td>\n",
              "      <td>1.0</td>\n",
              "      <td>2.0</td>\n",
              "      <td>2.0</td>\n",
              "    </tr>\n",
              "  </tbody>\n",
              "</table>\n",
              "</div>"
            ],
            "text/plain": [
              "                  count          mean           std  ...      50%      75%       max\n",
              "level_edu         883.0      3.490374      1.079949  ...      3.0      4.0       5.0\n",
              "Count_people      883.0      1.612684      0.487413  ...      2.0      2.0       2.0\n",
              "Income            883.0  72097.830125  24003.331214  ...  71434.0  79711.5  666666.0\n",
              "Total_kids        883.0      0.476784      0.561697  ...      0.0      1.0       3.0\n",
              "Recency           883.0     49.498301     29.140732  ...     51.0     74.0      99.0\n",
              "Purchase__amount  883.0   1237.117780    434.277921  ...   1174.0   1537.0    2525.0\n",
              "Total_purchases   883.0     19.664779      4.154714  ...     20.0     23.0      32.0\n",
              "accepted_cmp      883.0      0.474519      0.499633  ...      0.0      1.0       1.0\n",
              "Complain          883.0      0.005663      0.075079  ...      0.0      0.0       1.0\n",
              "Age               883.0     53.927520     12.206062  ...     54.0     64.0      80.0\n",
              "Customer_year     883.0      8.063420      0.692074  ...      8.0      9.0       9.0\n",
              "Cluster           883.0      0.000000      0.000000  ...      0.0      0.0       0.0\n",
              "AC                883.0      1.257078      0.439856  ...      1.0      2.0       2.0\n",
              "\n",
              "[13 rows x 8 columns]"
            ]
          },
          "metadata": {},
          "execution_count": 85
        }
      ]
    },
    {
      "cell_type": "markdown",
      "metadata": {
        "id": "5H45XdzViQRl"
      },
      "source": [
        "Основные параметры кластера 1"
      ]
    },
    {
      "cell_type": "code",
      "metadata": {
        "id": "ZRzbYJR1iSqL",
        "colab": {
          "base_uri": "https://localhost:8080/",
          "height": 457
        },
        "outputId": "ae961277-ed92-4e5f-85e0-b83db41b3263"
      },
      "source": [
        "df_for_clusters[df_for_clusters['Cluster'] == 1].describe().transpose()"
      ],
      "execution_count": null,
      "outputs": [
        {
          "output_type": "execute_result",
          "data": {
            "text/html": [
              "<div>\n",
              "<style scoped>\n",
              "    .dataframe tbody tr th:only-of-type {\n",
              "        vertical-align: middle;\n",
              "    }\n",
              "\n",
              "    .dataframe tbody tr th {\n",
              "        vertical-align: top;\n",
              "    }\n",
              "\n",
              "    .dataframe thead th {\n",
              "        text-align: right;\n",
              "    }\n",
              "</style>\n",
              "<table border=\"1\" class=\"dataframe\">\n",
              "  <thead>\n",
              "    <tr style=\"text-align: right;\">\n",
              "      <th></th>\n",
              "      <th>count</th>\n",
              "      <th>mean</th>\n",
              "      <th>std</th>\n",
              "      <th>min</th>\n",
              "      <th>25%</th>\n",
              "      <th>50%</th>\n",
              "      <th>75%</th>\n",
              "      <th>max</th>\n",
              "    </tr>\n",
              "  </thead>\n",
              "  <tbody>\n",
              "    <tr>\n",
              "      <th>level_edu</th>\n",
              "      <td>695.0</td>\n",
              "      <td>2.703597</td>\n",
              "      <td>1.010707</td>\n",
              "      <td>1.0</td>\n",
              "      <td>2.0</td>\n",
              "      <td>3.0</td>\n",
              "      <td>3.0</td>\n",
              "      <td>5.0</td>\n",
              "    </tr>\n",
              "    <tr>\n",
              "      <th>Count_people</th>\n",
              "      <td>695.0</td>\n",
              "      <td>1.643165</td>\n",
              "      <td>0.479410</td>\n",
              "      <td>1.0</td>\n",
              "      <td>1.0</td>\n",
              "      <td>2.0</td>\n",
              "      <td>2.0</td>\n",
              "      <td>2.0</td>\n",
              "    </tr>\n",
              "    <tr>\n",
              "      <th>Income</th>\n",
              "      <td>695.0</td>\n",
              "      <td>32802.018705</td>\n",
              "      <td>12862.459786</td>\n",
              "      <td>1730.0</td>\n",
              "      <td>23477.5</td>\n",
              "      <td>31605.0</td>\n",
              "      <td>41282.5</td>\n",
              "      <td>70829.0</td>\n",
              "    </tr>\n",
              "    <tr>\n",
              "      <th>Total_kids</th>\n",
              "      <td>695.0</td>\n",
              "      <td>1.001439</td>\n",
              "      <td>0.581906</td>\n",
              "      <td>0.0</td>\n",
              "      <td>1.0</td>\n",
              "      <td>1.0</td>\n",
              "      <td>1.0</td>\n",
              "      <td>3.0</td>\n",
              "    </tr>\n",
              "    <tr>\n",
              "      <th>Recency</th>\n",
              "      <td>695.0</td>\n",
              "      <td>47.834532</td>\n",
              "      <td>28.869526</td>\n",
              "      <td>0.0</td>\n",
              "      <td>24.0</td>\n",
              "      <td>47.0</td>\n",
              "      <td>74.0</td>\n",
              "      <td>99.0</td>\n",
              "    </tr>\n",
              "    <tr>\n",
              "      <th>Purchase__amount</th>\n",
              "      <td>695.0</td>\n",
              "      <td>146.697842</td>\n",
              "      <td>181.931514</td>\n",
              "      <td>5.0</td>\n",
              "      <td>41.0</td>\n",
              "      <td>69.0</td>\n",
              "      <td>177.0</td>\n",
              "      <td>1679.0</td>\n",
              "    </tr>\n",
              "    <tr>\n",
              "      <th>Total_purchases</th>\n",
              "      <td>695.0</td>\n",
              "      <td>6.748201</td>\n",
              "      <td>3.717886</td>\n",
              "      <td>0.0</td>\n",
              "      <td>4.0</td>\n",
              "      <td>6.0</td>\n",
              "      <td>8.0</td>\n",
              "      <td>25.0</td>\n",
              "    </tr>\n",
              "    <tr>\n",
              "      <th>accepted_cmp</th>\n",
              "      <td>695.0</td>\n",
              "      <td>0.151079</td>\n",
              "      <td>0.358384</td>\n",
              "      <td>0.0</td>\n",
              "      <td>0.0</td>\n",
              "      <td>0.0</td>\n",
              "      <td>0.0</td>\n",
              "      <td>1.0</td>\n",
              "    </tr>\n",
              "    <tr>\n",
              "      <th>Complain</th>\n",
              "      <td>695.0</td>\n",
              "      <td>0.014388</td>\n",
              "      <td>0.119172</td>\n",
              "      <td>0.0</td>\n",
              "      <td>0.0</td>\n",
              "      <td>0.0</td>\n",
              "      <td>0.0</td>\n",
              "      <td>1.0</td>\n",
              "    </tr>\n",
              "    <tr>\n",
              "      <th>Age</th>\n",
              "      <td>695.0</td>\n",
              "      <td>44.014388</td>\n",
              "      <td>8.436221</td>\n",
              "      <td>25.0</td>\n",
              "      <td>38.0</td>\n",
              "      <td>44.0</td>\n",
              "      <td>49.0</td>\n",
              "      <td>74.0</td>\n",
              "    </tr>\n",
              "    <tr>\n",
              "      <th>Customer_year</th>\n",
              "      <td>695.0</td>\n",
              "      <td>8.079137</td>\n",
              "      <td>0.673337</td>\n",
              "      <td>7.0</td>\n",
              "      <td>8.0</td>\n",
              "      <td>8.0</td>\n",
              "      <td>9.0</td>\n",
              "      <td>9.0</td>\n",
              "    </tr>\n",
              "    <tr>\n",
              "      <th>Cluster</th>\n",
              "      <td>695.0</td>\n",
              "      <td>1.000000</td>\n",
              "      <td>0.000000</td>\n",
              "      <td>1.0</td>\n",
              "      <td>1.0</td>\n",
              "      <td>1.0</td>\n",
              "      <td>1.0</td>\n",
              "      <td>1.0</td>\n",
              "    </tr>\n",
              "    <tr>\n",
              "      <th>AC</th>\n",
              "      <td>695.0</td>\n",
              "      <td>0.174101</td>\n",
              "      <td>0.542082</td>\n",
              "      <td>0.0</td>\n",
              "      <td>0.0</td>\n",
              "      <td>0.0</td>\n",
              "      <td>0.0</td>\n",
              "      <td>2.0</td>\n",
              "    </tr>\n",
              "  </tbody>\n",
              "</table>\n",
              "</div>"
            ],
            "text/plain": [
              "                  count          mean           std  ...      50%      75%      max\n",
              "level_edu         695.0      2.703597      1.010707  ...      3.0      3.0      5.0\n",
              "Count_people      695.0      1.643165      0.479410  ...      2.0      2.0      2.0\n",
              "Income            695.0  32802.018705  12862.459786  ...  31605.0  41282.5  70829.0\n",
              "Total_kids        695.0      1.001439      0.581906  ...      1.0      1.0      3.0\n",
              "Recency           695.0     47.834532     28.869526  ...     47.0     74.0     99.0\n",
              "Purchase__amount  695.0    146.697842    181.931514  ...     69.0    177.0   1679.0\n",
              "Total_purchases   695.0      6.748201      3.717886  ...      6.0      8.0     25.0\n",
              "accepted_cmp      695.0      0.151079      0.358384  ...      0.0      0.0      1.0\n",
              "Complain          695.0      0.014388      0.119172  ...      0.0      0.0      1.0\n",
              "Age               695.0     44.014388      8.436221  ...     44.0     49.0     74.0\n",
              "Customer_year     695.0      8.079137      0.673337  ...      8.0      9.0      9.0\n",
              "Cluster           695.0      1.000000      0.000000  ...      1.0      1.0      1.0\n",
              "AC                695.0      0.174101      0.542082  ...      0.0      0.0      2.0\n",
              "\n",
              "[13 rows x 8 columns]"
            ]
          },
          "metadata": {},
          "execution_count": 86
        }
      ]
    },
    {
      "cell_type": "markdown",
      "metadata": {
        "id": "ZPZJ5UobileZ"
      },
      "source": [
        "Основные параметры кластера 2"
      ]
    },
    {
      "cell_type": "code",
      "metadata": {
        "id": "RheRCi7DjXc9",
        "colab": {
          "base_uri": "https://localhost:8080/",
          "height": 457
        },
        "outputId": "6dd535a4-17dd-442b-93b5-80b3b696fff4"
      },
      "source": [
        "df_for_clusters[df_for_clusters['Cluster'] == 2].describe().transpose()"
      ],
      "execution_count": null,
      "outputs": [
        {
          "output_type": "execute_result",
          "data": {
            "text/html": [
              "<div>\n",
              "<style scoped>\n",
              "    .dataframe tbody tr th:only-of-type {\n",
              "        vertical-align: middle;\n",
              "    }\n",
              "\n",
              "    .dataframe tbody tr th {\n",
              "        vertical-align: top;\n",
              "    }\n",
              "\n",
              "    .dataframe thead th {\n",
              "        text-align: right;\n",
              "    }\n",
              "</style>\n",
              "<table border=\"1\" class=\"dataframe\">\n",
              "  <thead>\n",
              "    <tr style=\"text-align: right;\">\n",
              "      <th></th>\n",
              "      <th>count</th>\n",
              "      <th>mean</th>\n",
              "      <th>std</th>\n",
              "      <th>min</th>\n",
              "      <th>25%</th>\n",
              "      <th>50%</th>\n",
              "      <th>75%</th>\n",
              "      <th>max</th>\n",
              "    </tr>\n",
              "  </thead>\n",
              "  <tbody>\n",
              "    <tr>\n",
              "      <th>level_edu</th>\n",
              "      <td>659.0</td>\n",
              "      <td>3.996965</td>\n",
              "      <td>0.873446</td>\n",
              "      <td>1.0</td>\n",
              "      <td>3.0</td>\n",
              "      <td>4.0</td>\n",
              "      <td>5.0</td>\n",
              "      <td>5.0</td>\n",
              "    </tr>\n",
              "    <tr>\n",
              "      <th>Count_people</th>\n",
              "      <td>659.0</td>\n",
              "      <td>1.690440</td>\n",
              "      <td>0.462663</td>\n",
              "      <td>1.0</td>\n",
              "      <td>1.0</td>\n",
              "      <td>2.0</td>\n",
              "      <td>2.0</td>\n",
              "      <td>2.0</td>\n",
              "    </tr>\n",
              "    <tr>\n",
              "      <th>Income</th>\n",
              "      <td>659.0</td>\n",
              "      <td>46105.116085</td>\n",
              "      <td>14787.291738</td>\n",
              "      <td>4023.0</td>\n",
              "      <td>36938.5</td>\n",
              "      <td>46097.0</td>\n",
              "      <td>54423.0</td>\n",
              "      <td>162397.0</td>\n",
              "    </tr>\n",
              "    <tr>\n",
              "      <th>Total_kids</th>\n",
              "      <td>659.0</td>\n",
              "      <td>1.532625</td>\n",
              "      <td>0.706084</td>\n",
              "      <td>0.0</td>\n",
              "      <td>1.0</td>\n",
              "      <td>2.0</td>\n",
              "      <td>2.0</td>\n",
              "      <td>3.0</td>\n",
              "    </tr>\n",
              "    <tr>\n",
              "      <th>Recency</th>\n",
              "      <td>659.0</td>\n",
              "      <td>49.916540</td>\n",
              "      <td>28.798071</td>\n",
              "      <td>0.0</td>\n",
              "      <td>25.0</td>\n",
              "      <td>51.0</td>\n",
              "      <td>74.0</td>\n",
              "      <td>99.0</td>\n",
              "    </tr>\n",
              "    <tr>\n",
              "      <th>Purchase__amount</th>\n",
              "      <td>659.0</td>\n",
              "      <td>243.881639</td>\n",
              "      <td>233.430974</td>\n",
              "      <td>8.0</td>\n",
              "      <td>52.5</td>\n",
              "      <td>156.0</td>\n",
              "      <td>397.5</td>\n",
              "      <td>1562.0</td>\n",
              "    </tr>\n",
              "    <tr>\n",
              "      <th>Total_purchases</th>\n",
              "      <td>659.0</td>\n",
              "      <td>9.115326</td>\n",
              "      <td>4.841129</td>\n",
              "      <td>0.0</td>\n",
              "      <td>5.0</td>\n",
              "      <td>8.0</td>\n",
              "      <td>13.0</td>\n",
              "      <td>25.0</td>\n",
              "    </tr>\n",
              "    <tr>\n",
              "      <th>accepted_cmp</th>\n",
              "      <td>659.0</td>\n",
              "      <td>0.127466</td>\n",
              "      <td>0.333747</td>\n",
              "      <td>0.0</td>\n",
              "      <td>0.0</td>\n",
              "      <td>0.0</td>\n",
              "      <td>0.0</td>\n",
              "      <td>1.0</td>\n",
              "    </tr>\n",
              "    <tr>\n",
              "      <th>Complain</th>\n",
              "      <td>659.0</td>\n",
              "      <td>0.007587</td>\n",
              "      <td>0.086840</td>\n",
              "      <td>0.0</td>\n",
              "      <td>0.0</td>\n",
              "      <td>0.0</td>\n",
              "      <td>0.0</td>\n",
              "      <td>1.0</td>\n",
              "    </tr>\n",
              "    <tr>\n",
              "      <th>Age</th>\n",
              "      <td>659.0</td>\n",
              "      <td>58.172989</td>\n",
              "      <td>8.949052</td>\n",
              "      <td>35.0</td>\n",
              "      <td>51.0</td>\n",
              "      <td>58.0</td>\n",
              "      <td>66.0</td>\n",
              "      <td>81.0</td>\n",
              "    </tr>\n",
              "    <tr>\n",
              "      <th>Customer_year</th>\n",
              "      <td>659.0</td>\n",
              "      <td>7.737481</td>\n",
              "      <td>0.628096</td>\n",
              "      <td>7.0</td>\n",
              "      <td>7.0</td>\n",
              "      <td>8.0</td>\n",
              "      <td>8.0</td>\n",
              "      <td>9.0</td>\n",
              "    </tr>\n",
              "    <tr>\n",
              "      <th>Cluster</th>\n",
              "      <td>659.0</td>\n",
              "      <td>2.000000</td>\n",
              "      <td>0.000000</td>\n",
              "      <td>2.0</td>\n",
              "      <td>2.0</td>\n",
              "      <td>2.0</td>\n",
              "      <td>2.0</td>\n",
              "      <td>2.0</td>\n",
              "    </tr>\n",
              "    <tr>\n",
              "      <th>AC</th>\n",
              "      <td>659.0</td>\n",
              "      <td>0.963581</td>\n",
              "      <td>0.996289</td>\n",
              "      <td>0.0</td>\n",
              "      <td>0.0</td>\n",
              "      <td>0.0</td>\n",
              "      <td>2.0</td>\n",
              "      <td>2.0</td>\n",
              "    </tr>\n",
              "  </tbody>\n",
              "</table>\n",
              "</div>"
            ],
            "text/plain": [
              "                  count          mean           std  ...      50%      75%       max\n",
              "level_edu         659.0      3.996965      0.873446  ...      4.0      5.0       5.0\n",
              "Count_people      659.0      1.690440      0.462663  ...      2.0      2.0       2.0\n",
              "Income            659.0  46105.116085  14787.291738  ...  46097.0  54423.0  162397.0\n",
              "Total_kids        659.0      1.532625      0.706084  ...      2.0      2.0       3.0\n",
              "Recency           659.0     49.916540     28.798071  ...     51.0     74.0      99.0\n",
              "Purchase__amount  659.0    243.881639    233.430974  ...    156.0    397.5    1562.0\n",
              "Total_purchases   659.0      9.115326      4.841129  ...      8.0     13.0      25.0\n",
              "accepted_cmp      659.0      0.127466      0.333747  ...      0.0      0.0       1.0\n",
              "Complain          659.0      0.007587      0.086840  ...      0.0      0.0       1.0\n",
              "Age               659.0     58.172989      8.949052  ...     58.0     66.0      81.0\n",
              "Customer_year     659.0      7.737481      0.628096  ...      8.0      8.0       9.0\n",
              "Cluster           659.0      2.000000      0.000000  ...      2.0      2.0       2.0\n",
              "AC                659.0      0.963581      0.996289  ...      0.0      2.0       2.0\n",
              "\n",
              "[13 rows x 8 columns]"
            ]
          },
          "metadata": {},
          "execution_count": 87
        }
      ]
    },
    {
      "cell_type": "markdown",
      "metadata": {
        "id": "LH4kaq5jWLcW"
      },
      "source": [
        "**Иерархическая кластеризация**"
      ]
    },
    {
      "cell_type": "code",
      "metadata": {
        "id": "xkJw3zppWSPK",
        "colab": {
          "base_uri": "https://localhost:8080/",
          "height": 367
        },
        "outputId": "940b4381-9c00-41d7-d114-e0d243e4e718"
      },
      "source": [
        "# количество клиентов в каждом кластере \n",
        "\n",
        "sns.countplot(df_for_clusters['AC'])\n",
        "plt.title(\"Кластеры\")\n"
      ],
      "execution_count": null,
      "outputs": [
        {
          "output_type": "stream",
          "name": "stderr",
          "text": [
            "/usr/local/lib/python3.7/dist-packages/seaborn/_decorators.py:43: FutureWarning: Pass the following variable as a keyword arg: x. From version 0.12, the only valid positional argument will be `data`, and passing other arguments without an explicit keyword will result in an error or misinterpretation.\n",
            "  FutureWarning\n"
          ]
        },
        {
          "output_type": "execute_result",
          "data": {
            "text/plain": [
              "Text(0.5, 1.0, 'Кластеры')"
            ]
          },
          "metadata": {},
          "execution_count": 88
        },
        {
          "output_type": "display_data",
          "data": {
            "image/png": "[encoded data removed]",
            "text/plain": [
              "<Figure size 432x288 with 1 Axes>"
            ]
          },
          "metadata": {
            "needs_background": "light"
          }
        }
      ]
    },
    {
      "cell_type": "code",
      "metadata": {
        "id": "CbXUvNP5fHjr",
        "colab": {
          "base_uri": "https://localhost:8080/",
          "height": 313
        },
        "outputId": "c503e14b-2ee9-4b80-df99-0048172a263b"
      },
      "source": [
        "# псмотрим на кластеры с позиции их доходов и трат \n",
        "\n",
        "pl = sns.scatterplot(data = df_for_clusters, x=df[\"Purchase__amount\"], y=df[\"Income\"], hue=df_for_clusters[\"AC\"], palette='viridis')\n",
        "pl.set_title(\"Кластера в разрезе ежегодных доходов и трат в интернет-магазине\")\n",
        "plt.legend()"
      ],
      "execution_count": null,
      "outputs": [
        {
          "output_type": "execute_result",
          "data": {
            "text/plain": [
              "<matplotlib.legend.Legend at 0x7f842f5d1d90>"
            ]
          },
          "metadata": {},
          "execution_count": 89
        },
        {
          "output_type": "display_data",
          "data": {
            "image/png": "[encoded data removed]",
            "text/plain": [
              "<Figure size 432x288 with 1 Axes>"
            ]
          },
          "metadata": {
            "needs_background": "light"
          }
        }
      ]
    },
    {
      "cell_type": "code",
      "metadata": {
        "id": "wzb978jRes8B",
        "colab": {
          "base_uri": "https://localhost:8080/",
          "height": 312
        },
        "outputId": "7987a711-2fac-4693-e206-070c4e72057b"
      },
      "source": [
        "# траты на покупки по кластерам\n",
        "\n",
        "sns.boxenplot(x=\"AC\", y=\"Purchase__amount\", data=df_for_clusters, palette='viridis')\n",
        "plt.title(\"Траты на покупки по кластерам\")"
      ],
      "execution_count": null,
      "outputs": [
        {
          "output_type": "execute_result",
          "data": {
            "text/plain": [
              "Text(0.5, 1.0, 'Траты на покупки по кластерам')"
            ]
          },
          "metadata": {},
          "execution_count": 90
        },
        {
          "output_type": "display_data",
          "data": {
            "image/png": "[encoded data removed]",
            "text/plain": [
              "<Figure size 432x288 with 1 Axes>"
            ]
          },
          "metadata": {
            "needs_background": "light"
          }
        }
      ]
    },
    {
      "cell_type": "code",
      "metadata": {
        "id": "29wKTxU7eOUk",
        "colab": {
          "base_uri": "https://localhost:8080/",
          "height": 312
        },
        "outputId": "241680fc-3fa2-4fdc-cfcc-5e883f01a64a"
      },
      "source": [
        "# вохраст по кластерам \n",
        "\n",
        "sns.boxenplot(x=\"AC\", y=\"Total_purchases\", data=df_for_clusters, palette='viridis')\n",
        "plt.title(\"Количество покупок по кластерам\")"
      ],
      "execution_count": null,
      "outputs": [
        {
          "output_type": "execute_result",
          "data": {
            "text/plain": [
              "Text(0.5, 1.0, 'Количество покупок по кластерам')"
            ]
          },
          "metadata": {},
          "execution_count": 91
        },
        {
          "output_type": "display_data",
          "data": {
            "image/png": "[encoded data removed]",
            "text/plain": [
              "<Figure size 432x288 with 1 Axes>"
            ]
          },
          "metadata": {
            "needs_background": "light"
          }
        }
      ]
    },
    {
      "cell_type": "markdown",
      "metadata": {
        "id": "p5h2P0UKWbpl"
      },
      "source": [
        "Основные параметры кластера 0"
      ]
    },
    {
      "cell_type": "code",
      "metadata": {
        "id": "BvgoFyxIWeeZ",
        "colab": {
          "base_uri": "https://localhost:8080/",
          "height": 457
        },
        "outputId": "4ed8edf2-7023-4b03-ee02-f7f5e8d45933"
      },
      "source": [
        "df_for_clusters[df_for_clusters['AC'] == 0].describe().transpose()"
      ],
      "execution_count": null,
      "outputs": [
        {
          "output_type": "execute_result",
          "data": {
            "text/html": [
              "<div>\n",
              "<style scoped>\n",
              "    .dataframe tbody tr th:only-of-type {\n",
              "        vertical-align: middle;\n",
              "    }\n",
              "\n",
              "    .dataframe tbody tr th {\n",
              "        vertical-align: top;\n",
              "    }\n",
              "\n",
              "    .dataframe thead th {\n",
              "        text-align: right;\n",
              "    }\n",
              "</style>\n",
              "<table border=\"1\" class=\"dataframe\">\n",
              "  <thead>\n",
              "    <tr style=\"text-align: right;\">\n",
              "      <th></th>\n",
              "      <th>count</th>\n",
              "      <th>mean</th>\n",
              "      <th>std</th>\n",
              "      <th>min</th>\n",
              "      <th>25%</th>\n",
              "      <th>50%</th>\n",
              "      <th>75%</th>\n",
              "      <th>max</th>\n",
              "    </tr>\n",
              "  </thead>\n",
              "  <tbody>\n",
              "    <tr>\n",
              "      <th>level_edu</th>\n",
              "      <td>966.0</td>\n",
              "      <td>3.145963</td>\n",
              "      <td>1.159068</td>\n",
              "      <td>1.0</td>\n",
              "      <td>3.00</td>\n",
              "      <td>3.0</td>\n",
              "      <td>4.00</td>\n",
              "      <td>5.0</td>\n",
              "    </tr>\n",
              "    <tr>\n",
              "      <th>Count_people</th>\n",
              "      <td>966.0</td>\n",
              "      <td>1.649068</td>\n",
              "      <td>0.477509</td>\n",
              "      <td>1.0</td>\n",
              "      <td>1.00</td>\n",
              "      <td>2.0</td>\n",
              "      <td>2.00</td>\n",
              "      <td>2.0</td>\n",
              "    </tr>\n",
              "    <tr>\n",
              "      <th>Income</th>\n",
              "      <td>966.0</td>\n",
              "      <td>33940.487578</td>\n",
              "      <td>12042.490952</td>\n",
              "      <td>1730.0</td>\n",
              "      <td>25256.75</td>\n",
              "      <td>34081.0</td>\n",
              "      <td>42240.00</td>\n",
              "      <td>70829.0</td>\n",
              "    </tr>\n",
              "    <tr>\n",
              "      <th>Total_kids</th>\n",
              "      <td>966.0</td>\n",
              "      <td>1.275362</td>\n",
              "      <td>0.711674</td>\n",
              "      <td>0.0</td>\n",
              "      <td>1.00</td>\n",
              "      <td>1.0</td>\n",
              "      <td>2.00</td>\n",
              "      <td>3.0</td>\n",
              "    </tr>\n",
              "    <tr>\n",
              "      <th>Recency</th>\n",
              "      <td>966.0</td>\n",
              "      <td>49.780538</td>\n",
              "      <td>28.739413</td>\n",
              "      <td>0.0</td>\n",
              "      <td>25.00</td>\n",
              "      <td>49.0</td>\n",
              "      <td>76.00</td>\n",
              "      <td>99.0</td>\n",
              "    </tr>\n",
              "    <tr>\n",
              "      <th>Purchase__amount</th>\n",
              "      <td>966.0</td>\n",
              "      <td>104.556936</td>\n",
              "      <td>125.643126</td>\n",
              "      <td>5.0</td>\n",
              "      <td>37.00</td>\n",
              "      <td>60.0</td>\n",
              "      <td>114.75</td>\n",
              "      <td>1250.0</td>\n",
              "    </tr>\n",
              "    <tr>\n",
              "      <th>Total_purchases</th>\n",
              "      <td>966.0</td>\n",
              "      <td>5.924431</td>\n",
              "      <td>2.827600</td>\n",
              "      <td>0.0</td>\n",
              "      <td>4.00</td>\n",
              "      <td>5.0</td>\n",
              "      <td>7.00</td>\n",
              "      <td>18.0</td>\n",
              "    </tr>\n",
              "    <tr>\n",
              "      <th>accepted_cmp</th>\n",
              "      <td>966.0</td>\n",
              "      <td>0.114907</td>\n",
              "      <td>0.319075</td>\n",
              "      <td>0.0</td>\n",
              "      <td>0.00</td>\n",
              "      <td>0.0</td>\n",
              "      <td>0.00</td>\n",
              "      <td>1.0</td>\n",
              "    </tr>\n",
              "    <tr>\n",
              "      <th>Complain</th>\n",
              "      <td>966.0</td>\n",
              "      <td>0.012422</td>\n",
              "      <td>0.110819</td>\n",
              "      <td>0.0</td>\n",
              "      <td>0.00</td>\n",
              "      <td>0.0</td>\n",
              "      <td>0.00</td>\n",
              "      <td>1.0</td>\n",
              "    </tr>\n",
              "    <tr>\n",
              "      <th>Age</th>\n",
              "      <td>966.0</td>\n",
              "      <td>48.223602</td>\n",
              "      <td>10.449171</td>\n",
              "      <td>25.0</td>\n",
              "      <td>41.00</td>\n",
              "      <td>47.0</td>\n",
              "      <td>55.00</td>\n",
              "      <td>75.0</td>\n",
              "    </tr>\n",
              "    <tr>\n",
              "      <th>Customer_year</th>\n",
              "      <td>966.0</td>\n",
              "      <td>7.899586</td>\n",
              "      <td>0.692865</td>\n",
              "      <td>7.0</td>\n",
              "      <td>7.00</td>\n",
              "      <td>8.0</td>\n",
              "      <td>8.00</td>\n",
              "      <td>9.0</td>\n",
              "    </tr>\n",
              "    <tr>\n",
              "      <th>Cluster</th>\n",
              "      <td>966.0</td>\n",
              "      <td>1.349896</td>\n",
              "      <td>0.479351</td>\n",
              "      <td>0.0</td>\n",
              "      <td>1.00</td>\n",
              "      <td>1.0</td>\n",
              "      <td>2.00</td>\n",
              "      <td>2.0</td>\n",
              "    </tr>\n",
              "    <tr>\n",
              "      <th>AC</th>\n",
              "      <td>966.0</td>\n",
              "      <td>0.000000</td>\n",
              "      <td>0.000000</td>\n",
              "      <td>0.0</td>\n",
              "      <td>0.00</td>\n",
              "      <td>0.0</td>\n",
              "      <td>0.00</td>\n",
              "      <td>0.0</td>\n",
              "    </tr>\n",
              "  </tbody>\n",
              "</table>\n",
              "</div>"
            ],
            "text/plain": [
              "                  count          mean           std  ...      50%       75%      max\n",
              "level_edu         966.0      3.145963      1.159068  ...      3.0      4.00      5.0\n",
              "Count_people      966.0      1.649068      0.477509  ...      2.0      2.00      2.0\n",
              "Income            966.0  33940.487578  12042.490952  ...  34081.0  42240.00  70829.0\n",
              "Total_kids        966.0      1.275362      0.711674  ...      1.0      2.00      3.0\n",
              "Recency           966.0     49.780538     28.739413  ...     49.0     76.00     99.0\n",
              "Purchase__amount  966.0    104.556936    125.643126  ...     60.0    114.75   1250.0\n",
              "Total_purchases   966.0      5.924431      2.827600  ...      5.0      7.00     18.0\n",
              "accepted_cmp      966.0      0.114907      0.319075  ...      0.0      0.00      1.0\n",
              "Complain          966.0      0.012422      0.110819  ...      0.0      0.00      1.0\n",
              "Age               966.0     48.223602     10.449171  ...     47.0     55.00     75.0\n",
              "Customer_year     966.0      7.899586      0.692865  ...      8.0      8.00      9.0\n",
              "Cluster           966.0      1.349896      0.479351  ...      1.0      2.00      2.0\n",
              "AC                966.0      0.000000      0.000000  ...      0.0      0.00      0.0\n",
              "\n",
              "[13 rows x 8 columns]"
            ]
          },
          "metadata": {},
          "execution_count": 92
        }
      ]
    },
    {
      "cell_type": "markdown",
      "metadata": {
        "id": "iTujVLxSW62M"
      },
      "source": [
        "Основные параметры кластера 1"
      ]
    },
    {
      "cell_type": "code",
      "metadata": {
        "id": "SbANWQ75W-1G",
        "colab": {
          "base_uri": "https://localhost:8080/",
          "height": 457
        },
        "outputId": "9269af58-b745-4218-ef14-5508617df38f"
      },
      "source": [
        "df_for_clusters[df_for_clusters['AC'] == 1].describe().transpose()"
      ],
      "execution_count": null,
      "outputs": [
        {
          "output_type": "execute_result",
          "data": {
            "text/html": [
              "<div>\n",
              "<style scoped>\n",
              "    .dataframe tbody tr th:only-of-type {\n",
              "        vertical-align: middle;\n",
              "    }\n",
              "\n",
              "    .dataframe tbody tr th {\n",
              "        vertical-align: top;\n",
              "    }\n",
              "\n",
              "    .dataframe thead th {\n",
              "        text-align: right;\n",
              "    }\n",
              "</style>\n",
              "<table border=\"1\" class=\"dataframe\">\n",
              "  <thead>\n",
              "    <tr style=\"text-align: right;\">\n",
              "      <th></th>\n",
              "      <th>count</th>\n",
              "      <th>mean</th>\n",
              "      <th>std</th>\n",
              "      <th>min</th>\n",
              "      <th>25%</th>\n",
              "      <th>50%</th>\n",
              "      <th>75%</th>\n",
              "      <th>max</th>\n",
              "    </tr>\n",
              "  </thead>\n",
              "  <tbody>\n",
              "    <tr>\n",
              "      <th>level_edu</th>\n",
              "      <td>676.0</td>\n",
              "      <td>3.242604</td>\n",
              "      <td>1.058450</td>\n",
              "      <td>1.0</td>\n",
              "      <td>3.00</td>\n",
              "      <td>3.0</td>\n",
              "      <td>4.0</td>\n",
              "      <td>5.0</td>\n",
              "    </tr>\n",
              "    <tr>\n",
              "      <th>Count_people</th>\n",
              "      <td>676.0</td>\n",
              "      <td>1.612426</td>\n",
              "      <td>0.487557</td>\n",
              "      <td>1.0</td>\n",
              "      <td>1.00</td>\n",
              "      <td>2.0</td>\n",
              "      <td>2.0</td>\n",
              "      <td>2.0</td>\n",
              "    </tr>\n",
              "    <tr>\n",
              "      <th>Income</th>\n",
              "      <td>676.0</td>\n",
              "      <td>73164.122781</td>\n",
              "      <td>26871.244382</td>\n",
              "      <td>2447.0</td>\n",
              "      <td>63991.50</td>\n",
              "      <td>72344.5</td>\n",
              "      <td>80920.0</td>\n",
              "      <td>666666.0</td>\n",
              "    </tr>\n",
              "    <tr>\n",
              "      <th>Total_kids</th>\n",
              "      <td>676.0</td>\n",
              "      <td>0.380178</td>\n",
              "      <td>0.521102</td>\n",
              "      <td>0.0</td>\n",
              "      <td>0.00</td>\n",
              "      <td>0.0</td>\n",
              "      <td>1.0</td>\n",
              "      <td>2.0</td>\n",
              "    </tr>\n",
              "    <tr>\n",
              "      <th>Recency</th>\n",
              "      <td>676.0</td>\n",
              "      <td>48.757396</td>\n",
              "      <td>29.119122</td>\n",
              "      <td>0.0</td>\n",
              "      <td>23.75</td>\n",
              "      <td>49.0</td>\n",
              "      <td>73.0</td>\n",
              "      <td>99.0</td>\n",
              "    </tr>\n",
              "    <tr>\n",
              "      <th>Purchase__amount</th>\n",
              "      <td>676.0</td>\n",
              "      <td>1294.565089</td>\n",
              "      <td>461.612957</td>\n",
              "      <td>6.0</td>\n",
              "      <td>960.00</td>\n",
              "      <td>1281.5</td>\n",
              "      <td>1621.5</td>\n",
              "      <td>2525.0</td>\n",
              "    </tr>\n",
              "    <tr>\n",
              "      <th>Total_purchases</th>\n",
              "      <td>676.0</td>\n",
              "      <td>19.602071</td>\n",
              "      <td>4.376699</td>\n",
              "      <td>0.0</td>\n",
              "      <td>17.00</td>\n",
              "      <td>20.0</td>\n",
              "      <td>22.0</td>\n",
              "      <td>32.0</td>\n",
              "    </tr>\n",
              "    <tr>\n",
              "      <th>accepted_cmp</th>\n",
              "      <td>676.0</td>\n",
              "      <td>0.528107</td>\n",
              "      <td>0.499579</td>\n",
              "      <td>0.0</td>\n",
              "      <td>0.00</td>\n",
              "      <td>1.0</td>\n",
              "      <td>1.0</td>\n",
              "      <td>1.0</td>\n",
              "    </tr>\n",
              "    <tr>\n",
              "      <th>Complain</th>\n",
              "      <td>676.0</td>\n",
              "      <td>0.005917</td>\n",
              "      <td>0.076752</td>\n",
              "      <td>0.0</td>\n",
              "      <td>0.00</td>\n",
              "      <td>0.0</td>\n",
              "      <td>0.0</td>\n",
              "      <td>1.0</td>\n",
              "    </tr>\n",
              "    <tr>\n",
              "      <th>Age</th>\n",
              "      <td>676.0</td>\n",
              "      <td>50.704142</td>\n",
              "      <td>11.787302</td>\n",
              "      <td>26.0</td>\n",
              "      <td>42.00</td>\n",
              "      <td>50.0</td>\n",
              "      <td>60.0</td>\n",
              "      <td>80.0</td>\n",
              "    </tr>\n",
              "    <tr>\n",
              "      <th>Customer_year</th>\n",
              "      <td>676.0</td>\n",
              "      <td>8.116864</td>\n",
              "      <td>0.701076</td>\n",
              "      <td>7.0</td>\n",
              "      <td>8.00</td>\n",
              "      <td>8.0</td>\n",
              "      <td>9.0</td>\n",
              "      <td>9.0</td>\n",
              "    </tr>\n",
              "    <tr>\n",
              "      <th>Cluster</th>\n",
              "      <td>676.0</td>\n",
              "      <td>0.039941</td>\n",
              "      <td>0.230688</td>\n",
              "      <td>0.0</td>\n",
              "      <td>0.00</td>\n",
              "      <td>0.0</td>\n",
              "      <td>0.0</td>\n",
              "      <td>2.0</td>\n",
              "    </tr>\n",
              "    <tr>\n",
              "      <th>AC</th>\n",
              "      <td>676.0</td>\n",
              "      <td>1.000000</td>\n",
              "      <td>0.000000</td>\n",
              "      <td>1.0</td>\n",
              "      <td>1.00</td>\n",
              "      <td>1.0</td>\n",
              "      <td>1.0</td>\n",
              "      <td>1.0</td>\n",
              "    </tr>\n",
              "  </tbody>\n",
              "</table>\n",
              "</div>"
            ],
            "text/plain": [
              "                  count          mean           std  ...      50%      75%       max\n",
              "level_edu         676.0      3.242604      1.058450  ...      3.0      4.0       5.0\n",
              "Count_people      676.0      1.612426      0.487557  ...      2.0      2.0       2.0\n",
              "Income            676.0  73164.122781  26871.244382  ...  72344.5  80920.0  666666.0\n",
              "Total_kids        676.0      0.380178      0.521102  ...      0.0      1.0       2.0\n",
              "Recency           676.0     48.757396     29.119122  ...     49.0     73.0      99.0\n",
              "Purchase__amount  676.0   1294.565089    461.612957  ...   1281.5   1621.5    2525.0\n",
              "Total_purchases   676.0     19.602071      4.376699  ...     20.0     22.0      32.0\n",
              "accepted_cmp      676.0      0.528107      0.499579  ...      1.0      1.0       1.0\n",
              "Complain          676.0      0.005917      0.076752  ...      0.0      0.0       1.0\n",
              "Age               676.0     50.704142     11.787302  ...     50.0     60.0      80.0\n",
              "Customer_year     676.0      8.116864      0.701076  ...      8.0      9.0       9.0\n",
              "Cluster           676.0      0.039941      0.230688  ...      0.0      0.0       2.0\n",
              "AC                676.0      1.000000      0.000000  ...      1.0      1.0       1.0\n",
              "\n",
              "[13 rows x 8 columns]"
            ]
          },
          "metadata": {},
          "execution_count": 93
        }
      ]
    },
    {
      "cell_type": "markdown",
      "metadata": {
        "id": "Po4Q3HRVXGUB"
      },
      "source": [
        "Основные параметры кластера 2"
      ]
    },
    {
      "cell_type": "code",
      "metadata": {
        "id": "QbjxFMT_XIpe",
        "colab": {
          "base_uri": "https://localhost:8080/",
          "height": 457
        },
        "outputId": "3399e9c4-37cf-4718-dc9e-67180cd353d2"
      },
      "source": [
        "df_for_clusters[df_for_clusters['AC'] == 2].describe().transpose()"
      ],
      "execution_count": null,
      "outputs": [
        {
          "output_type": "execute_result",
          "data": {
            "text/html": [
              "<div>\n",
              "<style scoped>\n",
              "    .dataframe tbody tr th:only-of-type {\n",
              "        vertical-align: middle;\n",
              "    }\n",
              "\n",
              "    .dataframe tbody tr th {\n",
              "        vertical-align: top;\n",
              "    }\n",
              "\n",
              "    .dataframe thead th {\n",
              "        text-align: right;\n",
              "    }\n",
              "</style>\n",
              "<table border=\"1\" class=\"dataframe\">\n",
              "  <thead>\n",
              "    <tr style=\"text-align: right;\">\n",
              "      <th></th>\n",
              "      <th>count</th>\n",
              "      <th>mean</th>\n",
              "      <th>std</th>\n",
              "      <th>min</th>\n",
              "      <th>25%</th>\n",
              "      <th>50%</th>\n",
              "      <th>75%</th>\n",
              "      <th>max</th>\n",
              "    </tr>\n",
              "  </thead>\n",
              "  <tbody>\n",
              "    <tr>\n",
              "      <th>level_edu</th>\n",
              "      <td>595.0</td>\n",
              "      <td>3.973109</td>\n",
              "      <td>0.909702</td>\n",
              "      <td>1.0</td>\n",
              "      <td>3.0</td>\n",
              "      <td>4.0</td>\n",
              "      <td>5.0</td>\n",
              "      <td>5.0</td>\n",
              "    </tr>\n",
              "    <tr>\n",
              "      <th>Count_people</th>\n",
              "      <td>595.0</td>\n",
              "      <td>1.675630</td>\n",
              "      <td>0.468533</td>\n",
              "      <td>1.0</td>\n",
              "      <td>1.0</td>\n",
              "      <td>2.0</td>\n",
              "      <td>2.0</td>\n",
              "      <td>2.0</td>\n",
              "    </tr>\n",
              "    <tr>\n",
              "      <th>Income</th>\n",
              "      <td>595.0</td>\n",
              "      <td>58147.227731</td>\n",
              "      <td>15070.656991</td>\n",
              "      <td>4428.0</td>\n",
              "      <td>49524.5</td>\n",
              "      <td>57906.0</td>\n",
              "      <td>66451.0</td>\n",
              "      <td>162397.0</td>\n",
              "    </tr>\n",
              "    <tr>\n",
              "      <th>Total_kids</th>\n",
              "      <td>595.0</td>\n",
              "      <td>1.072269</td>\n",
              "      <td>0.664000</td>\n",
              "      <td>0.0</td>\n",
              "      <td>1.0</td>\n",
              "      <td>1.0</td>\n",
              "      <td>1.0</td>\n",
              "      <td>3.0</td>\n",
              "    </tr>\n",
              "    <tr>\n",
              "      <th>Recency</th>\n",
              "      <td>595.0</td>\n",
              "      <td>48.401681</td>\n",
              "      <td>29.145317</td>\n",
              "      <td>0.0</td>\n",
              "      <td>23.0</td>\n",
              "      <td>50.0</td>\n",
              "      <td>72.0</td>\n",
              "      <td>99.0</td>\n",
              "    </tr>\n",
              "    <tr>\n",
              "      <th>Purchase__amount</th>\n",
              "      <td>595.0</td>\n",
              "      <td>636.840336</td>\n",
              "      <td>382.422404</td>\n",
              "      <td>8.0</td>\n",
              "      <td>319.0</td>\n",
              "      <td>542.0</td>\n",
              "      <td>921.5</td>\n",
              "      <td>2092.0</td>\n",
              "    </tr>\n",
              "    <tr>\n",
              "      <th>Total_purchases</th>\n",
              "      <td>595.0</td>\n",
              "      <td>15.272269</td>\n",
              "      <td>5.029524</td>\n",
              "      <td>0.0</td>\n",
              "      <td>12.0</td>\n",
              "      <td>15.0</td>\n",
              "      <td>19.0</td>\n",
              "      <td>27.0</td>\n",
              "    </tr>\n",
              "    <tr>\n",
              "      <th>accepted_cmp</th>\n",
              "      <td>595.0</td>\n",
              "      <td>0.235294</td>\n",
              "      <td>0.424539</td>\n",
              "      <td>0.0</td>\n",
              "      <td>0.0</td>\n",
              "      <td>0.0</td>\n",
              "      <td>0.0</td>\n",
              "      <td>1.0</td>\n",
              "    </tr>\n",
              "    <tr>\n",
              "      <th>Complain</th>\n",
              "      <td>595.0</td>\n",
              "      <td>0.006723</td>\n",
              "      <td>0.081785</td>\n",
              "      <td>0.0</td>\n",
              "      <td>0.0</td>\n",
              "      <td>0.0</td>\n",
              "      <td>0.0</td>\n",
              "      <td>1.0</td>\n",
              "    </tr>\n",
              "    <tr>\n",
              "      <th>Age</th>\n",
              "      <td>595.0</td>\n",
              "      <td>59.973109</td>\n",
              "      <td>9.563149</td>\n",
              "      <td>35.0</td>\n",
              "      <td>52.0</td>\n",
              "      <td>61.0</td>\n",
              "      <td>68.0</td>\n",
              "      <td>81.0</td>\n",
              "    </tr>\n",
              "    <tr>\n",
              "      <th>Customer_year</th>\n",
              "      <td>595.0</td>\n",
              "      <td>7.926050</td>\n",
              "      <td>0.625962</td>\n",
              "      <td>7.0</td>\n",
              "      <td>8.0</td>\n",
              "      <td>8.0</td>\n",
              "      <td>8.0</td>\n",
              "      <td>9.0</td>\n",
              "    </tr>\n",
              "    <tr>\n",
              "      <th>Cluster</th>\n",
              "      <td>595.0</td>\n",
              "      <td>1.146218</td>\n",
              "      <td>0.944842</td>\n",
              "      <td>0.0</td>\n",
              "      <td>0.0</td>\n",
              "      <td>2.0</td>\n",
              "      <td>2.0</td>\n",
              "      <td>2.0</td>\n",
              "    </tr>\n",
              "    <tr>\n",
              "      <th>AC</th>\n",
              "      <td>595.0</td>\n",
              "      <td>2.000000</td>\n",
              "      <td>0.000000</td>\n",
              "      <td>2.0</td>\n",
              "      <td>2.0</td>\n",
              "      <td>2.0</td>\n",
              "      <td>2.0</td>\n",
              "      <td>2.0</td>\n",
              "    </tr>\n",
              "  </tbody>\n",
              "</table>\n",
              "</div>"
            ],
            "text/plain": [
              "                  count          mean           std  ...      50%      75%       max\n",
              "level_edu         595.0      3.973109      0.909702  ...      4.0      5.0       5.0\n",
              "Count_people      595.0      1.675630      0.468533  ...      2.0      2.0       2.0\n",
              "Income            595.0  58147.227731  15070.656991  ...  57906.0  66451.0  162397.0\n",
              "Total_kids        595.0      1.072269      0.664000  ...      1.0      1.0       3.0\n",
              "Recency           595.0     48.401681     29.145317  ...     50.0     72.0      99.0\n",
              "Purchase__amount  595.0    636.840336    382.422404  ...    542.0    921.5    2092.0\n",
              "Total_purchases   595.0     15.272269      5.029524  ...     15.0     19.0      27.0\n",
              "accepted_cmp      595.0      0.235294      0.424539  ...      0.0      0.0       1.0\n",
              "Complain          595.0      0.006723      0.081785  ...      0.0      0.0       1.0\n",
              "Age               595.0     59.973109      9.563149  ...     61.0     68.0      81.0\n",
              "Customer_year     595.0      7.926050      0.625962  ...      8.0      8.0       9.0\n",
              "Cluster           595.0      1.146218      0.944842  ...      2.0      2.0       2.0\n",
              "AC                595.0      2.000000      0.000000  ...      2.0      2.0       2.0\n",
              "\n",
              "[13 rows x 8 columns]"
            ]
          },
          "metadata": {},
          "execution_count": 94
        }
      ]
    },
    {
      "cell_type": "markdown",
      "metadata": {
        "id": "kGfqMhKH3Aft"
      },
      "source": [
        "## Классификация"
      ]
    },
    {
      "cell_type": "markdown",
      "metadata": {
        "id": "Pw9ChK6npgm0"
      },
      "source": [
        "Построим модель, которая будет предсказывать участие/неучастие клиентов в маркетинговых кампаниях"
      ]
    },
    {
      "cell_type": "code",
      "metadata": {
        "id": "U87ZW5LN3GDL"
      },
      "source": [
        "# готовим данные для классификации\n",
        "\n",
        "df_for_class = df_for_clusters[['Cluster', 'Income', 'Age', 'level_edu', 'Count_people', 'Total_kids', 'accepted_cmp',  \n",
        "                                'Purchase__amount', 'Complain', 'Total_purchases']]"
      ],
      "execution_count": null,
      "outputs": []
    },
    {
      "cell_type": "code",
      "metadata": {
        "id": "FxZi-EFZ2-3S"
      },
      "source": [
        "data_class = df_for_class.accepted_cmp\n",
        "data = df_for_class[['level_edu', 'Count_people', 'Total_kids', 'Age', 'Cluster', \n",
        "                     'Purchase__amount', 'Complain', 'Total_purchases', 'Income']]"
      ],
      "execution_count": null,
      "outputs": []
    },
    {
      "cell_type": "code",
      "metadata": {
        "id": "GJcOKmZtxTYT"
      },
      "source": [
        "# разделяем выборку на тренировочную и тестовую\n",
        "\n",
        "X_train, X_test, y_train, y_test = train_test_split(data, data_class, test_size=0.30)"
      ],
      "execution_count": null,
      "outputs": []
    },
    {
      "cell_type": "code",
      "metadata": {
        "id": "wVqlAWPruIeJ"
      },
      "source": [
        "lr = LogisticRegression()"
      ],
      "execution_count": null,
      "outputs": []
    },
    {
      "cell_type": "code",
      "metadata": {
        "id": "Ekndv6TPuVkE",
        "colab": {
          "base_uri": "https://localhost:8080/"
        },
        "outputId": "ce0c17c1-27a4-440d-a779-559044c611cc"
      },
      "source": [
        "# обучаем модель\n",
        "\n",
        "lr.fit(X_train, y_train)"
      ],
      "execution_count": null,
      "outputs": [
        {
          "output_type": "execute_result",
          "data": {
            "text/plain": [
              "LogisticRegression()"
            ]
          },
          "metadata": {},
          "execution_count": 99
        }
      ]
    },
    {
      "cell_type": "code",
      "metadata": {
        "id": "b7h7TnlNuoY5",
        "colab": {
          "base_uri": "https://localhost:8080/"
        },
        "outputId": "4ab4c0a7-18d1-42bd-da66-76b2338d195c"
      },
      "source": [
        "# результат\n",
        "\n",
        "y_pred = lr.predict(X_test)\n",
        "y_pred"
      ],
      "execution_count": null,
      "outputs": [
        {
          "output_type": "execute_result",
          "data": {
            "text/plain": [
              "array([0, 0, 0, 0, 0, 0, 1, 0, 0, 0, 0, 0, 0, 0, 1, 0, 0, 0, 0, 0, 0, 0,\n",
              "       0, 0, 0, 1, 0, 0, 0, 0, 0, 0, 0, 1, 0, 0, 1, 1, 0, 0, 0, 0, 0, 0,\n",
              "       0, 0, 1, 0, 0, 1, 0, 0, 1, 0, 0, 0, 0, 0, 1, 0, 0, 0, 0, 0, 0, 0,\n",
              "       0, 0, 0, 0, 0, 0, 0, 0, 0, 0, 0, 0, 0, 0, 0, 0, 0, 1, 1, 0, 0, 0,\n",
              "       0, 1, 0, 1, 0, 0, 1, 0, 0, 0, 0, 1, 0, 0, 0, 0, 0, 0, 1, 0, 0, 0,\n",
              "       0, 1, 0, 0, 0, 1, 0, 0, 0, 0, 0, 0, 0, 0, 1, 0, 0, 0, 0, 0, 0, 0,\n",
              "       0, 0, 0, 0, 0, 1, 0, 0, 0, 0, 0, 0, 0, 0, 0, 0, 0, 0, 0, 0, 0, 1,\n",
              "       0, 0, 0, 0, 0, 0, 0, 0, 0, 0, 0, 0, 1, 0, 0, 0, 1, 0, 0, 0, 0, 0,\n",
              "       0, 0, 0, 0, 0, 1, 0, 0, 0, 0, 1, 0, 0, 0, 0, 1, 0, 0, 0, 0, 0, 0,\n",
              "       0, 1, 0, 0, 0, 0, 0, 0, 0, 0, 0, 0, 1, 0, 0, 0, 0, 0, 0, 0, 1, 0,\n",
              "       0, 0, 0, 0, 1, 1, 0, 0, 1, 0, 0, 0, 0, 0, 0, 1, 0, 0, 0, 1, 1, 0,\n",
              "       0, 1, 1, 0, 0, 0, 0, 1, 0, 0, 0, 0, 1, 1, 0, 0, 0, 0, 0, 0, 0, 0,\n",
              "       0, 0, 0, 0, 0, 0, 0, 0, 0, 1, 0, 0, 0, 1, 0, 0, 0, 0, 0, 0, 1, 0,\n",
              "       0, 0, 1, 1, 0, 0, 0, 0, 0, 0, 0, 0, 0, 0, 0, 0, 0, 0, 0, 0, 0, 0,\n",
              "       0, 0, 1, 0, 0, 1, 0, 0, 0, 0, 0, 0, 0, 1, 0, 0, 0, 0, 0, 0, 0, 0,\n",
              "       0, 0, 0, 0, 0, 0, 0, 0, 0, 0, 0, 0, 1, 0, 0, 0, 1, 0, 0, 0, 0, 0,\n",
              "       0, 0, 1, 0, 0, 0, 0, 0, 0, 0, 0, 0, 0, 0, 0, 0, 1, 0, 0, 0, 0, 1,\n",
              "       0, 0, 0, 0, 0, 0, 0, 0, 0, 0, 0, 0, 0, 0, 0, 0, 1, 0, 0, 0, 0, 0,\n",
              "       0, 1, 0, 0, 0, 0, 0, 0, 0, 0, 0, 0, 0, 0, 0, 0, 0, 0, 1, 0, 0, 0,\n",
              "       0, 0, 0, 0, 0, 0, 1, 0, 0, 0, 0, 0, 0, 0, 1, 1, 0, 1, 0, 0, 0, 0,\n",
              "       0, 1, 0, 0, 1, 0, 1, 1, 0, 0, 0, 0, 1, 0, 0, 0, 0, 0, 0, 0, 1, 0,\n",
              "       0, 0, 0, 1, 1, 0, 0, 0, 0, 0, 0, 0, 0, 0, 0, 0, 0, 0, 0, 1, 0, 0,\n",
              "       0, 0, 0, 1, 0, 0, 0, 0, 0, 0, 0, 0, 0, 0, 0, 0, 1, 0, 0, 0, 0, 0,\n",
              "       0, 0, 0, 0, 0, 0, 0, 0, 0, 0, 0, 0, 0, 0, 0, 0, 0, 1, 1, 0, 0, 0,\n",
              "       0, 1, 0, 0, 0, 0, 0, 0, 0, 0, 0, 0, 0, 0, 0, 1, 0, 0, 0, 0, 1, 0,\n",
              "       0, 0, 0, 0, 0, 0, 0, 0, 0, 1, 0, 0, 1, 0, 0, 1, 0, 0, 0, 0, 0, 0,\n",
              "       0, 0, 0, 0, 1, 0, 0, 1, 0, 0, 0, 0, 0, 0, 0, 0, 0, 0, 0, 0, 0, 0,\n",
              "       0, 0, 0, 0, 0, 1, 1, 0, 0, 0, 0, 1, 0, 0, 1, 0, 0, 0, 0, 0, 0, 0,\n",
              "       0, 1, 1, 0, 0, 0, 0, 0, 0, 0, 0, 0, 0, 0, 0, 0, 0, 0, 0, 0, 0, 0,\n",
              "       0, 0, 0, 0, 0, 0, 1, 0, 0, 0, 0, 0, 0, 0, 1, 0, 0, 0, 0, 0, 0, 0,\n",
              "       0, 0, 0, 0, 1, 0, 0, 0, 0, 0, 0, 0])"
            ]
          },
          "metadata": {},
          "execution_count": 100
        }
      ]
    },
    {
      "cell_type": "code",
      "metadata": {
        "id": "u04nVBa_vPFB",
        "colab": {
          "base_uri": "https://localhost:8080/"
        },
        "outputId": "486589a6-4abf-4bb7-d42d-656e9bfd1db8"
      },
      "source": [
        "# оценка качества классификатора (объединяет точность и полноту)\n",
        "\n",
        "f1_score(y_test, y_pred)\n",
        " "
      ],
      "execution_count": null,
      "outputs": [
        {
          "output_type": "execute_result",
          "data": {
            "text/plain": [
              "0.4483985765124555"
            ]
          },
          "metadata": {},
          "execution_count": 117
        }
      ]
    },
    {
      "cell_type": "code",
      "metadata": {
        "colab": {
          "base_uri": "https://localhost:8080/"
        },
        "id": "DUFNGZAUFPhU",
        "outputId": "ed1e9185-f075-46b3-c2d0-87de522be44b"
      },
      "source": [
        "# посмотрим на точность / полноту / f-меру для каждого класса\n",
        "\n",
        "report = metrics.classification_report(y_test, lr.predict(X_test))\n",
        "print(report)"
      ],
      "execution_count": null,
      "outputs": [
        {
          "output_type": "stream",
          "name": "stdout",
          "text": [
            "              precision    recall  f1-score   support\n",
            "\n",
            "           0       0.81      0.74      0.77       482\n",
            "           1       0.46      0.56      0.51       190\n",
            "\n",
            "    accuracy                           0.69       672\n",
            "   macro avg       0.64      0.65      0.64       672\n",
            "weighted avg       0.71      0.69      0.70       672\n",
            "\n"
          ]
        }
      ]
    },
    {
      "cell_type": "code",
      "metadata": {
        "colab": {
          "base_uri": "https://localhost:8080/"
        },
        "id": "QdgbOYDBN64Y",
        "outputId": "7a015d62-7057-4ce1-f78c-a32a0bc2e044"
      },
      "source": [
        "# матрица ошибок \n",
        "\n",
        "confusion_matrix(y_test, y_pred)\n"
      ],
      "execution_count": null,
      "outputs": [
        {
          "output_type": "execute_result",
          "data": {
            "text/plain": [
              "array([[454,  28],\n",
              "       [127,  63]])"
            ]
          },
          "metadata": {},
          "execution_count": 118
        }
      ]
    },
    {
      "cell_type": "code",
      "metadata": {
        "colab": {
          "base_uri": "https://localhost:8080/",
          "height": 312
        },
        "id": "7VlveNUnUquO",
        "outputId": "02213aa3-8fab-4cec-a906-922c137b391e"
      },
      "source": [
        "# построим ROC кривую\n",
        "\n",
        "y_pred_proba = lr.predict_proba(X_test)[::,1]\n",
        "fpr, tpr, _ = metrics.roc_curve(y_test,  y_pred_proba)\n",
        "auc = metrics.roc_auc_score(y_test, y_pred_proba)\n",
        "\n",
        "plt.plot(fpr,tpr,label=\"data 1, auc=\"+str(auc))\n",
        "plt.legend(loc=4)\n",
        "plt.title(\"ROC кривая\")\n",
        "plt.xlabel(\"False {ositive Rate\")\n",
        "plt.ylabel(\"True {ositive Rate\")"
      ],
      "execution_count": null,
      "outputs": [
        {
          "output_type": "execute_result",
          "data": {
            "text/plain": [
              "Text(0, 0.5, 'True {ositive Rate')"
            ]
          },
          "metadata": {},
          "execution_count": 121
        },
        {
          "output_type": "display_data",
          "data": {
            "image/png": "[encoded data removed]",
            "text/plain": [
              "<Figure size 432x288 with 1 Axes>"
            ]
          },
          "metadata": {
            "needs_background": "light"
          }
        }
      ]
    },
    {
      "cell_type": "markdown",
      "metadata": {
        "id": "-GrxsQ7rHLr1"
      },
      "source": [
        "Модель плохо предсказывает тех клиентов, которые будут участвовать в маркетинговых кампаниях, а именно они нас и интересуют, чтобы направлять на них маркетинговые предложения. Поэтому попробуем поработать с различными подходами"
      ]
    },
    {
      "cell_type": "markdown",
      "metadata": {
        "id": "Th3G5ynPHohZ"
      },
      "source": [
        "Попробуем нормализовать данные"
      ]
    },
    {
      "cell_type": "code",
      "metadata": {
        "id": "Yca77K9Kqp8Z"
      },
      "source": [
        "sc = MinMaxScaler(feature_range = (0,1))"
      ],
      "execution_count": null,
      "outputs": []
    },
    {
      "cell_type": "code",
      "metadata": {
        "id": "oZlpmSfWe3IM"
      },
      "source": [
        "# разделим данные на обучающую и тестовую выборки\n",
        "\n",
        "Xn_train, Xn_test, yn_train, yn_test = train_test_split(data, data_class, test_size=0.30)"
      ],
      "execution_count": null,
      "outputs": []
    },
    {
      "cell_type": "code",
      "metadata": {
        "id": "WjD-v13PuX4K"
      },
      "source": [
        "# нормализуем данные\n",
        "sc.fit(Xn_train)\n",
        "Xn_train = sc.transform(Xn_train)\n",
        "Xn_test = sc.transform(Xn_test)"
      ],
      "execution_count": null,
      "outputs": []
    },
    {
      "cell_type": "code",
      "metadata": {
        "id": "3B6DOHcQvb3T"
      },
      "source": [
        "# обучиим модель на нормализованных данных \n",
        "\n",
        "lr.fit(Xn_train, yn_train)\n",
        "\n",
        "# делаем предсказание \n",
        "normal_pred = lr.predict(Xn_test)"
      ],
      "execution_count": null,
      "outputs": []
    },
    {
      "cell_type": "code",
      "metadata": {
        "id": "sAdA7vg4wFsC"
      },
      "source": [
        "# посмотрим F-меру\n",
        "\n",
        "f1_score(yn_test, normal_pred)"
      ],
      "execution_count": null,
      "outputs": []
    },
    {
      "cell_type": "code",
      "metadata": {
        "colab": {
          "base_uri": "https://localhost:8080/"
        },
        "id": "uClcleF6w1_N",
        "outputId": "1acff944-8f49-4ddb-b167-53ec1e0e0c09"
      },
      "source": [
        "# матрица ошибок\n",
        "\n",
        "confusion_matrix(yn_test, normal_pred)\n"
      ],
      "execution_count": null,
      "outputs": [
        {
          "output_type": "stream",
          "name": "stdout",
          "text": [
            "[[449  37]\n",
            " [123  63]]\n"
          ]
        }
      ]
    },
    {
      "cell_type": "code",
      "metadata": {
        "colab": {
          "base_uri": "https://localhost:8080/",
          "height": 312
        },
        "id": "KM7HUzGHJ3-S",
        "outputId": "52efaaef-094d-4558-fc7f-a15fa062e7c8"
      },
      "source": [
        "# построим ROC кривую\n",
        "\n",
        "y_pred_proba = lr.predict_proba(Xn_test)[::,1]\n",
        "fpr, tpr, _ = metrics.roc_curve(yn_test,  y_pred_proba)\n",
        "auc = metrics.roc_auc_score(yn_test, y_pred_proba)\n",
        "\n",
        "plt.plot(fpr,tpr,label=\"data 1, auc=\"+str(auc))\n",
        "plt.legend(loc=4)\n",
        "plt.title(\"ROC кривая при нормализованных данных\")\n",
        "plt.xlabel(\"False {ositive Rate\")\n",
        "plt.ylabel(\"True {ositive Rate\")"
      ],
      "execution_count": null,
      "outputs": [
        {
          "output_type": "execute_result",
          "data": {
            "text/plain": [
              "Text(0, 0.5, 'True {ositive Rate')"
            ]
          },
          "metadata": {},
          "execution_count": 132
        },
        {
          "output_type": "display_data",
          "data": {
            "image/png": "[encoded data removed]",
            "text/plain": [
              "<Figure size 432x288 with 1 Axes>"
            ]
          },
          "metadata": {
            "needs_background": "light"
          }
        }
      ]
    },
    {
      "cell_type": "markdown",
      "metadata": {
        "id": "pbuB1ulaNHlg"
      },
      "source": [
        "При нормализации данных нет ощутимых изменений в работе модели"
      ]
    },
    {
      "cell_type": "markdown",
      "metadata": {
        "id": "Fd6Ci_HZNP7d"
      },
      "source": [
        "Поскольку у нас классы несбалансированы, то передискретизация может позитивно сказаться на работе модели, проверим это"
      ]
    },
    {
      "cell_type": "code",
      "metadata": {
        "id": "1flSRpuAx3BF"
      },
      "source": [
        "# разделим данные на две выборки\n",
        "\n",
        "X_train_, X_test_, y_train_, y_test_ = train_test_split(data, data_class, test_size = 0.3, random_state = 10)\n",
        "\n",
        "sm = SMOTE(random_state = 2)\n",
        "\n",
        "\n",
        "X_train_res, y_train_res = sm.fit_resample(X_train_, y_train_.ravel())\n",
        "\n",
        "# обучаем модель\n",
        "model_res = lr.fit(X_train_res, y_train_res)"
      ],
      "execution_count": null,
      "outputs": []
    },
    {
      "cell_type": "code",
      "metadata": {
        "id": "RT9PwdaJ0FdV"
      },
      "source": [
        "# применяем обученную модель к тестовой выборке\n",
        "pred_ = model_res.predict(X_test_)"
      ],
      "execution_count": null,
      "outputs": []
    },
    {
      "cell_type": "code",
      "metadata": {
        "colab": {
          "base_uri": "https://localhost:8080/"
        },
        "id": "v375Hpq70TkC",
        "outputId": "c3545704-7761-4c8e-a7a8-4f3893109959"
      },
      "source": [
        "# посмотрим F-меру\n",
        "\n",
        "f1_score(y_test_, pred_)"
      ],
      "execution_count": null,
      "outputs": [
        {
          "output_type": "execute_result",
          "data": {
            "text/plain": [
              "0.5226130653266332"
            ]
          },
          "metadata": {},
          "execution_count": 144
        }
      ]
    },
    {
      "cell_type": "code",
      "metadata": {
        "colab": {
          "base_uri": "https://localhost:8080/"
        },
        "id": "ayN5Gdjx0wc0",
        "outputId": "9dee480d-f3f8-4945-d8f8-2e3bbb143f5c"
      },
      "source": [
        "# матрица ошибок\n",
        "\n",
        "confusion_matrix(y_test_, pred_)\n"
      ],
      "execution_count": null,
      "outputs": [
        {
          "output_type": "execute_result",
          "data": {
            "text/plain": [
              "array([[378, 118],\n",
              "       [ 72, 104]])"
            ]
          },
          "metadata": {},
          "execution_count": 145
        }
      ]
    },
    {
      "cell_type": "code",
      "metadata": {
        "colab": {
          "base_uri": "https://localhost:8080/",
          "height": 312
        },
        "id": "kE9S7i5sYN3A",
        "outputId": "9db7827b-74f8-475d-dcb1-0a9cb9ed9d9a"
      },
      "source": [
        "# построим ROC кривую\n",
        "\n",
        "y_pred_proba = lr.predict_proba(X_test_)[::,1]\n",
        "fpr, tpr, _ = metrics.roc_curve(y_test_,  y_pred_proba)\n",
        "auc = metrics.roc_auc_score(y_test_, y_pred_proba)\n",
        "\n",
        "plt.plot(fpr,tpr,label=\"data 1, auc=\"+str(auc))\n",
        "plt.legend(loc=4)\n",
        "plt.title(\"ROC кривая\")\n",
        "plt.title(\"ROC кривая при нормализованных данных\")\n",
        "plt.xlabel(\"False {ositive Rate\")\n",
        "plt.ylabel(\"True {ositive Rate\")"
      ],
      "execution_count": null,
      "outputs": [
        {
          "output_type": "execute_result",
          "data": {
            "text/plain": [
              "Text(0, 0.5, 'True {ositive Rate')"
            ]
          },
          "metadata": {},
          "execution_count": 147
        },
        {
          "output_type": "display_data",
          "data": {
            "image/png": "[encoded data removed]",
            "text/plain": [
              "<Figure size 432x288 with 1 Axes>"
            ]
          },
          "metadata": {
            "needs_background": "light"
          }
        }
      ]
    },
    {
      "cell_type": "markdown",
      "metadata": {
        "id": "FLuVziywUhPm"
      },
      "source": [
        "Теперь модель гораздо лучше предсказывает клиентов, которые готовы поучаствовать в маркетингвых кампаниях"
      ]
    },
    {
      "cell_type": "markdown",
      "metadata": {
        "id": "tWb5ziUflXSI"
      },
      "source": [
        "Попробуем применить алгоритм Random Forest"
      ]
    },
    {
      "cell_type": "code",
      "metadata": {
        "id": "SZsMIlM7ldXT"
      },
      "source": [
        "# делим данные на обучающие и тестовые\n",
        "\n",
        "X__train, X__test, y__train, y__test = train_test_split(data, data_class, test_size=0.3, stratify=data_class)"
      ],
      "execution_count": null,
      "outputs": []
    },
    {
      "cell_type": "code",
      "metadata": {
        "id": "dsu3rWQAmLXu"
      },
      "source": [
        "# масштабируем данные \n",
        "\n",
        "X_train_scaled = scaler.fit_transform(X__train)\n",
        "X_test_scaled = scaler.transform(X__test)\n",
        "y__train = np.array(y__train)"
      ],
      "execution_count": null,
      "outputs": []
    },
    {
      "cell_type": "code",
      "metadata": {
        "colab": {
          "base_uri": "https://localhost:8080/"
        },
        "id": "7q1Q0fTknFtQ",
        "outputId": "bfdcada5-7578-4db0-86f5-29e7932b5e17"
      },
      "source": [
        "# обучим модель \n",
        "\n",
        "from sklearn.ensemble import RandomForestClassifier\n",
        "from sklearn.metrics import recall_score\n",
        "\n",
        "rfc = RandomForestClassifier()\n",
        "rfc.fit(X_train_scaled, y__train)"
      ],
      "execution_count": null,
      "outputs": [
        {
          "output_type": "execute_result",
          "data": {
            "text/plain": [
              "RandomForestClassifier()"
            ]
          },
          "metadata": {},
          "execution_count": 161
        }
      ]
    },
    {
      "cell_type": "code",
      "metadata": {
        "colab": {
          "base_uri": "https://localhost:8080/"
        },
        "id": "lygEf7BJorsL",
        "outputId": "9813136c-b1da-4302-fa79-f863ccac1517"
      },
      "source": [
        "# делаем предсказание для тестовых данных \n",
        "\n",
        "rfc.predict(X_test_scaled)"
      ],
      "execution_count": null,
      "outputs": [
        {
          "output_type": "execute_result",
          "data": {
            "text/plain": [
              "array([0, 0, 0, 0, 0, 0, 0, 0, 0, 0, 0, 0, 0, 1, 0, 0, 0, 0, 0, 0, 1, 0,\n",
              "       0, 0, 0, 0, 0, 0, 0, 1, 0, 1, 1, 0, 0, 0, 0, 0, 0, 0, 1, 0, 0, 1,\n",
              "       0, 0, 0, 0, 0, 0, 0, 0, 0, 0, 0, 1, 1, 1, 1, 0, 0, 1, 0, 0, 0, 0,\n",
              "       0, 0, 0, 1, 0, 0, 0, 0, 1, 0, 1, 0, 0, 0, 0, 0, 0, 1, 0, 0, 0, 0,\n",
              "       0, 1, 0, 0, 0, 1, 0, 1, 0, 0, 0, 0, 0, 0, 0, 0, 0, 0, 0, 1, 1, 0,\n",
              "       0, 0, 0, 1, 0, 0, 0, 0, 0, 0, 0, 1, 0, 0, 0, 1, 0, 1, 0, 0, 0, 0,\n",
              "       0, 1, 0, 1, 0, 0, 0, 1, 1, 0, 0, 0, 0, 1, 0, 0, 0, 0, 0, 0, 0, 0,\n",
              "       0, 0, 0, 0, 0, 0, 1, 0, 0, 1, 0, 1, 0, 0, 0, 0, 0, 0, 0, 0, 1, 0,\n",
              "       0, 1, 0, 1, 0, 0, 0, 0, 1, 0, 0, 0, 1, 0, 0, 0, 0, 1, 1, 0, 0, 1,\n",
              "       0, 0, 0, 1, 1, 0, 1, 0, 0, 0, 0, 0, 0, 0, 0, 0, 0, 0, 1, 0, 0, 1,\n",
              "       1, 0, 1, 0, 0, 0, 0, 0, 0, 0, 0, 0, 0, 0, 0, 0, 0, 1, 1, 1, 1, 0,\n",
              "       0, 0, 1, 0, 0, 0, 0, 0, 0, 1, 1, 0, 0, 0, 1, 0, 0, 1, 0, 0, 0, 0,\n",
              "       0, 0, 1, 0, 0, 0, 0, 0, 1, 1, 1, 0, 0, 0, 0, 0, 0, 0, 0, 0, 0, 0,\n",
              "       1, 0, 0, 0, 0, 0, 0, 0, 0, 0, 1, 0, 0, 0, 0, 1, 1, 1, 0, 1, 0, 0,\n",
              "       1, 1, 1, 0, 0, 0, 1, 1, 0, 0, 1, 0, 0, 0, 0, 1, 1, 0, 0, 0, 0, 0,\n",
              "       0, 0, 0, 0, 0, 1, 0, 0, 1, 0, 0, 0, 1, 0, 0, 0, 0, 0, 0, 0, 1, 1,\n",
              "       0, 1, 0, 0, 0, 0, 0, 0, 0, 0, 0, 0, 0, 0, 0, 0, 0, 0, 0, 0, 0, 0,\n",
              "       0, 0, 1, 0, 1, 0, 1, 0, 0, 0, 0, 0, 0, 1, 0, 0, 1, 0, 1, 0, 0, 0,\n",
              "       1, 0, 0, 0, 0, 0, 0, 0, 0, 1, 0, 1, 0, 1, 0, 0, 0, 0, 0, 1, 0, 0,\n",
              "       0, 1, 1, 0, 1, 1, 0, 0, 1, 0, 0, 0, 0, 0, 0, 0, 0, 0, 0, 0, 0, 0,\n",
              "       0, 0, 0, 0, 0, 0, 0, 0, 0, 1, 0, 0, 0, 0, 0, 0, 0, 0, 0, 1, 1, 0,\n",
              "       0, 0, 0, 0, 0, 0, 0, 0, 0, 0, 0, 0, 1, 0, 0, 0, 0, 0, 0, 0, 0, 0,\n",
              "       1, 1, 0, 0, 0, 1, 1, 0, 0, 0, 1, 1, 1, 0, 0, 0, 0, 0, 0, 0, 0, 0,\n",
              "       1, 0, 0, 0, 0, 0, 0, 0, 0, 0, 0, 0, 0, 0, 0, 1, 0, 0, 0, 0, 0, 0,\n",
              "       0, 1, 0, 0, 0, 0, 0, 0, 0, 0, 0, 0, 0, 0, 0, 0, 0, 0, 1, 0, 0, 1,\n",
              "       0, 0, 0, 0, 1, 0, 0, 1, 0, 0, 0, 0, 0, 0, 0, 1, 0, 0, 1, 1, 0, 1,\n",
              "       1, 0, 1, 0, 1, 0, 1, 0, 0, 0, 1, 0, 0, 0, 0, 0, 0, 0, 0, 1, 0, 1,\n",
              "       0, 1, 0, 0, 0, 0, 1, 1, 1, 0, 0, 1, 0, 0, 0, 0, 0, 0, 0, 0, 0, 0,\n",
              "       0, 0, 0, 1, 1, 0, 0, 0, 0, 0, 0, 0, 0, 0, 1, 0, 1, 1, 0, 0, 0, 0,\n",
              "       1, 0, 0, 0, 1, 0, 0, 1, 0, 0, 1, 0, 0, 0, 1, 0, 0, 1, 0, 0, 0, 1,\n",
              "       0, 0, 0, 1, 0, 0, 1, 0, 0, 0, 0, 0])"
            ]
          },
          "metadata": {},
          "execution_count": 162
        }
      ]
    },
    {
      "cell_type": "code",
      "metadata": {
        "colab": {
          "base_uri": "https://localhost:8080/"
        },
        "id": "Bb1q6YJIpDn4",
        "outputId": "d4f3181e-8d69-4c43-c030-6fa765d887be"
      },
      "source": [
        "# F-мера\n",
        "\n",
        "f1_score(y__test, rfc.predict(X_test_scaled))"
      ],
      "execution_count": null,
      "outputs": [
        {
          "output_type": "execute_result",
          "data": {
            "text/plain": [
              "0.6402439024390244"
            ]
          },
          "metadata": {},
          "execution_count": 163
        }
      ]
    },
    {
      "cell_type": "code",
      "metadata": {
        "colab": {
          "base_uri": "https://localhost:8080/"
        },
        "id": "SNSydtB0pkGC",
        "outputId": "dd4f6481-7121-4c9e-a74b-3362aa4b55c1"
      },
      "source": [
        "# матрица ошибок\n",
        "\n",
        "confusion_matrix(y__test, rfc.predict(X_test_scaled))\n"
      ],
      "execution_count": null,
      "outputs": [
        {
          "output_type": "execute_result",
          "data": {
            "text/plain": [
              "array([[449,  40],\n",
              "       [ 78, 105]])"
            ]
          },
          "metadata": {},
          "execution_count": 164
        }
      ]
    },
    {
      "cell_type": "markdown",
      "metadata": {
        "id": "xlgmdEiwqiKz"
      },
      "source": [
        "Модель Random Forest работает лучше, чем логистическая регрессия"
      ]
    }
  ]
}